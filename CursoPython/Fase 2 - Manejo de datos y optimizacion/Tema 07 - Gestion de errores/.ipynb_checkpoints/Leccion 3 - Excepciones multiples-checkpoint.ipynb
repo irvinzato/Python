{
 "cells": [
  {
   "cell_type": "code",
   "execution_count": 4,
   "metadata": {},
   "outputs": [
    {
     "name": "stdout",
     "output_type": "stream",
     "text": [
      "Para mostrar que tipo de error es el que se esta presentando(estamos atrapando)\n",
      "Introduce un número: 23\n",
      "El error generado es el siguiente -> TypeError\n"
     ]
    }
   ],
   "source": [
    "print(\"Para mostrar que tipo de error es el que se esta presentando(estamos atrapando)\")\n",
    "try:\n",
    "    numero = input(\"Introduce un número: \")\n",
    "    print(5/numero)\n",
    "except Exception as exception:\n",
    "    print(\"El error generado es el siguiente ->\", type(exception).__name__ )"
   ]
  },
  {
   "cell_type": "code",
   "execution_count": 7,
   "metadata": {},
   "outputs": [
    {
     "name": "stdout",
     "output_type": "stream",
     "text": [
      "Para capturar varias excepciones:\n",
      "Introduce un número: asd\n",
      "El error generado es el siguiente -> ValueError\n"
     ]
    }
   ],
   "source": [
    "print(\"Para capturar varias excepciones:\")\n",
    "try:\n",
    "    numero = float(input(\"Introduce un número: \"))\n",
    "    print(5/numero)\n",
    "except TypeError:\n",
    "    print(\"No se puede dividir el número con una cadena !\")\n",
    "except Exception as exception:\n",
    "    print(\"El error generado es el siguiente ->\", type(exception).__name__ )"
   ]
  },
  {
   "cell_type": "code",
   "execution_count": 8,
   "metadata": {},
   "outputs": [
    {
     "name": "stdout",
     "output_type": "stream",
     "text": [
      "Para capturar varias excepciones:\n",
      "Introduce un número: asd\n",
      "Debes introducir un número necesariamente !\n"
     ]
    }
   ],
   "source": [
    "print(\"Para capturar varias excepciones:\")\n",
    "try:\n",
    "    numero = float(input(\"Introduce un número: \"))\n",
    "    print(5/numero)\n",
    "except TypeError:\n",
    "    print(\"No se puede dividir el número con una cadena !\")\n",
    "except ValueError:\n",
    "    print(\"Debes introducir un número necesariamente !\")\n",
    "except Exception as exception:\n",
    "    print(\"El error generado es el siguiente ->\", type(exception).__name__ )"
   ]
  },
  {
   "cell_type": "code",
   "execution_count": 10,
   "metadata": {},
   "outputs": [
    {
     "name": "stdout",
     "output_type": "stream",
     "text": [
      "Para capturar varias excepciones:\n",
      "Introduce un número: 0\n",
      "No se puede divir entre cero !\n"
     ]
    }
   ],
   "source": [
    "print(\"Para capturar varias excepciones:\")\n",
    "try:\n",
    "    numero = float(input(\"Introduce un número: \"))\n",
    "    print(5/numero)\n",
    "except TypeError:\n",
    "    print(\"No se puede dividir el número con una cadena !\")\n",
    "except ValueError:\n",
    "    print(\"Debes introducir un número necesariamente !\")\n",
    "except ZeroDivisionError:\n",
    "    print(\"No se puede divir entre cero !\")\n",
    "except Exception as exception:\n",
    "    print(\"El error generado es el siguiente ->\", type(exception).__name__ )"
   ]
  },
  {
   "cell_type": "code",
   "execution_count": null,
   "metadata": {},
   "outputs": [],
   "source": []
  }
 ],
 "metadata": {
  "kernelspec": {
   "display_name": "Python 3 (ipykernel)",
   "language": "python",
   "name": "python3"
  },
  "language_info": {
   "codemirror_mode": {
    "name": "ipython",
    "version": 3
   },
   "file_extension": ".py",
   "mimetype": "text/x-python",
   "name": "python",
   "nbconvert_exporter": "python",
   "pygments_lexer": "ipython3",
   "version": "3.11.1"
  }
 },
 "nbformat": 4,
 "nbformat_minor": 1
}
