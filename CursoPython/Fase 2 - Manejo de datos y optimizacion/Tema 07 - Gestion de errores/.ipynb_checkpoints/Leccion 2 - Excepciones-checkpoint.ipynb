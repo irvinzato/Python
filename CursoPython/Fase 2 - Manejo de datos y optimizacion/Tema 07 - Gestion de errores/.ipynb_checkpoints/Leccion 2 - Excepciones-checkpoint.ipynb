{
 "cells": [
  {
   "cell_type": "code",
   "execution_count": 1,
   "metadata": {},
   "outputs": [
    {
     "name": "stdout",
     "output_type": "stream",
     "text": [
      "Introduce un número: aaa\n"
     ]
    },
    {
     "ename": "ValueError",
     "evalue": "could not convert string to float: 'aaa'",
     "output_type": "error",
     "traceback": [
      "\u001b[1;31m---------------------------------------------------------------------------\u001b[0m",
      "\u001b[1;31mValueError\u001b[0m                                Traceback (most recent call last)",
      "Cell \u001b[1;32mIn[1], line 1\u001b[0m\n\u001b[1;32m----> 1\u001b[0m numero_1 \u001b[38;5;241m=\u001b[39m \u001b[38;5;28;43mfloat\u001b[39;49m\u001b[43m(\u001b[49m\u001b[38;5;28;43minput\u001b[39;49m\u001b[43m(\u001b[49m\u001b[38;5;124;43m\"\u001b[39;49m\u001b[38;5;124;43mIntroduce un número: \u001b[39;49m\u001b[38;5;124;43m\"\u001b[39;49m\u001b[43m)\u001b[49m\u001b[43m)\u001b[49m\n\u001b[0;32m      2\u001b[0m numero_2 \u001b[38;5;241m=\u001b[39m \u001b[38;5;241m4\u001b[39m\n\u001b[0;32m      3\u001b[0m \u001b[38;5;28mprint\u001b[39m(\u001b[38;5;124m\"\u001b[39m\u001b[38;5;132;01m{}\u001b[39;00m\u001b[38;5;124m/\u001b[39m\u001b[38;5;132;01m{}\u001b[39;00m\u001b[38;5;124m=\u001b[39m\u001b[38;5;132;01m{}\u001b[39;00m\u001b[38;5;124m\"\u001b[39m\u001b[38;5;241m.\u001b[39mformat(numero_1,numero_2,numero_1\u001b[38;5;241m/\u001b[39mnumero_2))\n",
      "\u001b[1;31mValueError\u001b[0m: could not convert string to float: 'aaa'"
     ]
    }
   ],
   "source": [
    "numero_1 = float(input(\"Introduce un número: \"))\n",
    "numero_2 = 4\n",
    "print(\"{}/{}={}\".format(numero_1,numero_2,numero_1/numero_2))"
   ]
  },
  {
   "cell_type": "code",
   "execution_count": 2,
   "metadata": {},
   "outputs": [
    {
     "name": "stdout",
     "output_type": "stream",
     "text": [
      "Introduce un número: aaa\n",
      "Por favor introduce bien el número !\n"
     ]
    }
   ],
   "source": [
    "try:\n",
    "    numero_1 = float(input(\"Introduce un número: \"))\n",
    "    numero_2 = 4\n",
    "    print(\"{}/{}={}\".format(numero_1,numero_2,numero_1/numero_2))\n",
    "except:\n",
    "    print(\"Por favor introduce bien el número !\")"
   ]
  },
  {
   "cell_type": "code",
   "execution_count": 3,
   "metadata": {},
   "outputs": [
    {
     "name": "stdout",
     "output_type": "stream",
     "text": [
      "Introduce un número: aaa\n",
      "Por favor introduce bien el número !\n",
      "Introduce un número: sds\n",
      "Por favor introduce bien el número !\n",
      "Introduce un número: 54\n",
      "54.0/4=13.5\n",
      "Importante romper la iteración si todo a salido bien\n"
     ]
    }
   ],
   "source": [
    "while(True):\n",
    "    try:\n",
    "        numero_1 = float(input(\"Introduce un número: \"))\n",
    "        numero_2 = 4\n",
    "        print(\"{}/{}={}\".format(numero_1,numero_2,numero_1/numero_2))\n",
    "        print(\"Importante romper la iteración si todo a salido bien\")\n",
    "        break\n",
    "    except:\n",
    "        print(\"Por favor introduce bien el número !\")"
   ]
  },
  {
   "cell_type": "code",
   "execution_count": 4,
   "metadata": {},
   "outputs": [
    {
     "name": "stdout",
     "output_type": "stream",
     "text": [
      "Introduce un número: 24\n",
      "24.0/4=6.0\n",
      "Este else se ejecutara cuando no halla ocurrido una excepción. Todo salio bien !\n",
      "Otra manera de romper el ciclo\n"
     ]
    }
   ],
   "source": [
    "while(True):\n",
    "    try:\n",
    "        numero_1 = float(input(\"Introduce un número: \"))\n",
    "        numero_2 = 4\n",
    "        print(\"{}/{}={}\".format(numero_1,numero_2,numero_1/numero_2))\n",
    "    except:\n",
    "        print(\"Por favor introduce bien el número !\")\n",
    "    else:\n",
    "        print(\"Este else se ejecutara cuando no halla ocurrido una excepción(error). Todo salio bien !\")\n",
    "        print(\"Otra manera de romper el ciclo\")\n",
    "        break"
   ]
  },
  {
   "cell_type": "code",
   "execution_count": 5,
   "metadata": {},
   "outputs": [
    {
     "name": "stdout",
     "output_type": "stream",
     "text": [
      "Introduce un número: aaa\n",
      "Por favor introduce bien el número !\n",
      "Fin de la iteración, ¡ Ocurra o no ocurra un error !\n",
      "Introduce un número: 12\n",
      "12.0/4=3.0\n",
      "Este else se ejecutara cuando no halla ocurrido una excepción. Todo salio bien !\n",
      "Otra manera de romper el ciclo\n",
      "Fin de la iteración, ¡ Ocurra o no ocurra un error !\n"
     ]
    }
   ],
   "source": [
    "while(True):\n",
    "    try:\n",
    "        numero_1 = float(input(\"Introduce un número: \"))\n",
    "        numero_2 = 4\n",
    "        print(\"{}/{}={}\".format(numero_1,numero_2,numero_1/numero_2))\n",
    "    except:\n",
    "        print(\"Por favor introduce bien el número !\")\n",
    "    else:\n",
    "        print(\"Este else se ejecutara cuando no halla ocurrido una excepción(error). Todo salio bien !\")\n",
    "        print(\"Otra manera de romper el ciclo\")\n",
    "        break\n",
    "    finally:\n",
    "        print(\"Fin de la iteración, ¡ Ocurra o no ocurra un error !\")"
   ]
  },
  {
   "cell_type": "code",
   "execution_count": 6,
   "metadata": {},
   "outputs": [
    {
     "name": "stdout",
     "output_type": "stream",
     "text": [
      "No se puede dividir entre cero\n"
     ]
    }
   ],
   "source": [
    "def dividir(a, b):\n",
    "    try:\n",
    "        return a/b\n",
    "    except:\n",
    "        print(\"No se puede dividir entre cero\")\n",
    "dividir(12, 0)"
   ]
  },
  {
   "cell_type": "code",
   "execution_count": 7,
   "metadata": {},
   "outputs": [
    {
     "data": {
      "text/plain": [
       "1.2"
      ]
     },
     "execution_count": 7,
     "metadata": {},
     "output_type": "execute_result"
    }
   ],
   "source": [
    "dividir(12, 10)"
   ]
  },
  {
   "cell_type": "code",
   "execution_count": null,
   "metadata": {},
   "outputs": [],
   "source": []
  }
 ],
 "metadata": {
  "kernelspec": {
   "display_name": "Python 3 (ipykernel)",
   "language": "python",
   "name": "python3"
  },
  "language_info": {
   "codemirror_mode": {
    "name": "ipython",
    "version": 3
   },
   "file_extension": ".py",
   "mimetype": "text/x-python",
   "name": "python",
   "nbconvert_exporter": "python",
   "pygments_lexer": "ipython3",
   "version": "3.11.1"
  }
 },
 "nbformat": 4,
 "nbformat_minor": 1
}
