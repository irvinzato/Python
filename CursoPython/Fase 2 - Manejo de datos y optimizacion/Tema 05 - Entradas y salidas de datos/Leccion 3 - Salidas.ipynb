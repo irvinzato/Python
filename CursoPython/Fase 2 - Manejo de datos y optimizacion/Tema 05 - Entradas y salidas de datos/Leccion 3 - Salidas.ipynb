{
 "cells": [
  {
   "cell_type": "code",
   "execution_count": 5,
   "metadata": {},
   "outputs": [
    {
     "name": "stdout",
     "output_type": "stream",
     "text": [
      "Texto - Un texto Numero - 10\n"
     ]
    }
   ],
   "source": [
    "texto = \"Un texto\"\n",
    "numero = 10\n",
    "print(\"Texto -\", texto, \"Numero -\", numero)"
   ]
  },
  {
   "cell_type": "code",
   "execution_count": 11,
   "metadata": {},
   "outputs": [
    {
     "name": "stdout",
     "output_type": "stream",
     "text": [
      "Una forma diferente de manejar las salidas\n"
     ]
    },
    {
     "data": {
      "text/plain": [
       "'Texto - Un texto. Numero - 10'"
      ]
     },
     "execution_count": 11,
     "metadata": {},
     "output_type": "execute_result"
    }
   ],
   "source": [
    "print(\"Una forma diferente de manejar las salidas\")\n",
    "cadena = \"Texto - {}. Numero - {}\".format(texto, numero)\n",
    "cadena"
   ]
  },
  {
   "cell_type": "code",
   "execution_count": 14,
   "metadata": {},
   "outputs": [
    {
     "name": "stdout",
     "output_type": "stream",
     "text": [
      "Se puede jugar con la posición de las variables dentro del format(), e indicar en las llaves\n",
      "Texto - 10. Numero - Un texto\n"
     ]
    }
   ],
   "source": [
    "print(\"Se puede jugar con la posición de las variables dentro del format(), e indicar en las llaves\")\n",
    "cadena = \"Texto - {1}. Numero - {0}\".format(texto, numero)\n",
    "print(cadena)"
   ]
  },
  {
   "cell_type": "code",
   "execution_count": 18,
   "metadata": {},
   "outputs": [
    {
     "name": "stdout",
     "output_type": "stream",
     "text": [
      "Tambien se puede colocar dentro de las llaves un valor para hacer referencia con el format, clave - valor\n",
      "Texto - Un texto. Numero - 10\n"
     ]
    }
   ],
   "source": [
    "print(\"Tambien se puede colocar dentro de las llaves un valor para hacer referencia con el format, clave - valor\")\n",
    "print(\"Texto - {valor_1}. Numero - {valor_2}\".format(valor_1 = texto, valor_2 = numero))"
   ]
  },
  {
   "cell_type": "code",
   "execution_count": 19,
   "metadata": {},
   "outputs": [
    {
     "name": "stdout",
     "output_type": "stream",
     "text": [
      "Un texto, Un texto, Un texto\n"
     ]
    }
   ],
   "source": [
    "print(\"{t}, {t}, {t}\".format(t = texto))"
   ]
  },
  {
   "cell_type": "code",
   "execution_count": 20,
   "metadata": {},
   "outputs": [
    {
     "name": "stdout",
     "output_type": "stream",
     "text": [
      "Palabra alienada con el numero de caracteres indicados a la izquierda\n",
      "                       palabra\n"
     ]
    }
   ],
   "source": [
    "print(\"Palabra alienada con el numero de caracteres indicados a la derecha\")\n",
    "print(\"{:>30}\".format(\"palabra\"))"
   ]
  },
  {
   "cell_type": "code",
   "execution_count": 22,
   "metadata": {},
   "outputs": [
    {
     "name": "stdout",
     "output_type": "stream",
     "text": [
      "Palabra alienada con el numero de caracteres indicados a la izquierda\n",
      "palabra                       \n"
     ]
    }
   ],
   "source": [
    "print(\"Palabra alienada con el numero de caracteres indicados a la izquierda\")\n",
    "print(\"{:30}\".format(\"palabra\"))"
   ]
  },
  {
   "cell_type": "code",
   "execution_count": 23,
   "metadata": {
    "scrolled": true
   },
   "outputs": [
    {
     "name": "stdout",
     "output_type": "stream",
     "text": [
      "Palabra alienada en el centro con n caracteres\n",
      "           palabra            \n"
     ]
    }
   ],
   "source": [
    "print(\"Palabra alienada en el centro con n caracteres\")\n",
    "print(\"{:^30}\".format(\"palabra\"))"
   ]
  },
  {
   "cell_type": "code",
   "execution_count": 25,
   "metadata": {},
   "outputs": [
    {
     "name": "stdout",
     "output_type": "stream",
     "text": [
      "Truncamiento a n caracteres\n",
      "pala\n"
     ]
    }
   ],
   "source": [
    "print(\"Truncamiento a n caracteres\")\n",
    "print(\"{:.4}\".format(\"palabra\"))"
   ]
  },
  {
   "cell_type": "code",
   "execution_count": 29,
   "metadata": {},
   "outputs": [
    {
     "name": "stdout",
     "output_type": "stream",
     "text": [
      "pala -                 segunda                  - ter\n"
     ]
    }
   ],
   "source": [
    "print(\"{:.4} - {:^40} - {:.3}\".format(\"palabra\", \"segunda\", \"tercera\"))"
   ]
  },
  {
   "cell_type": "code",
   "execution_count": 30,
   "metadata": {},
   "outputs": [
    {
     "name": "stdout",
     "output_type": "stream",
     "text": [
      "Alineación a la dercha con truncamiento de n caracteres\n",
      "                          pala\n"
     ]
    }
   ],
   "source": [
    "print(\"Alineación a la dercha con truncamiento de n caracteres\")\n",
    "print(\"{:>30.4}\".format(\"palabra\"))"
   ]
  },
  {
   "cell_type": "code",
   "execution_count": 34,
   "metadata": {},
   "outputs": [
    {
     "name": "stdout",
     "output_type": "stream",
     "text": [
      "Formateo(alineacion) de numeros enteros, rellenados con espacios\n",
      "  10\n",
      " 100\n",
      "1000\n"
     ]
    }
   ],
   "source": [
    "print(\"Formateo(alineacion) de numeros enteros, rellenados con espacios\")\n",
    "print(\"{:4d}\".format(10))\n",
    "print(\"{:4d}\".format(100))\n",
    "print(\"{:4d}\".format(1000))"
   ]
  },
  {
   "cell_type": "code",
   "execution_count": 36,
   "metadata": {},
   "outputs": [
    {
     "name": "stdout",
     "output_type": "stream",
     "text": [
      "Formateo(alineacion) de numeros enteros, rellenados con ceros(Puede ser el caracter que quiera)\n",
      "0010\n",
      "0100\n",
      "1000\n"
     ]
    }
   ],
   "source": [
    "print(\"Formateo(alineacion) de numeros enteros, rellenados con ceros(Puede ser el caracter que quiera)\")\n",
    "print(\"{:04d}\".format(10))\n",
    "print(\"{:04d}\".format(100))\n",
    "print(\"{:04d}\".format(1000))"
   ]
  },
  {
   "cell_type": "code",
   "execution_count": 68,
   "metadata": {
    "scrolled": false
   },
   "outputs": [
    {
     "name": "stdout",
     "output_type": "stream",
     "text": [
      "Formateo de numeros flotantes, rellenados con espacios\n",
      "Tenemos que contar cuantos caracteres hay a la izquierda del punto, a la derecha y el punto tambien cuenta como caracter, asi indicamos\n",
      "  3.142\n",
      "253.210\n"
     ]
    }
   ],
   "source": [
    "print(\"Formateo de numeros flotantes, rellenados con espacios\")\n",
    "print(\"Tenemos que contar cuantos caracteres hay a la izquierda del punto, a la derecha y el punto tambien cuenta como caracter, asi indicamos\")\n",
    "print(\"{:7.3f}\".format(3.1415926))\n",
    "print(\"{:7.3f}\".format(253.21))"
   ]
  },
  {
   "cell_type": "code",
   "execution_count": 72,
   "metadata": {},
   "outputs": [
    {
     "name": "stdout",
     "output_type": "stream",
     "text": [
      "El 7 es la longitud de la cadena y puedo rellenar con cero los espacios en blanco\n",
      "003.142\n",
      "253.210\n"
     ]
    }
   ],
   "source": [
    "print(\"El 7 es la longitud de la cadena y puedo rellenar con cero los espacios en blanco\")\n",
    "print(\"{:07.3f}\".format(3.1415926))\n",
    "print(\"{:07.3f}\".format(253.21))"
   ]
  },
  {
   "cell_type": "code",
   "execution_count": null,
   "metadata": {},
   "outputs": [],
   "source": []
  }
 ],
 "metadata": {
  "kernelspec": {
   "display_name": "Python 3 (ipykernel)",
   "language": "python",
   "name": "python3"
  },
  "language_info": {
   "codemirror_mode": {
    "name": "ipython",
    "version": 3
   },
   "file_extension": ".py",
   "mimetype": "text/x-python",
   "name": "python",
   "nbconvert_exporter": "python",
   "pygments_lexer": "ipython3",
   "version": "3.11.1"
  }
 },
 "nbformat": 4,
 "nbformat_minor": 1
}
