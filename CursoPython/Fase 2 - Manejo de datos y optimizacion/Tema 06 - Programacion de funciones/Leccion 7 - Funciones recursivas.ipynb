{
 "cells": [
  {
   "cell_type": "code",
   "execution_count": 2,
   "metadata": {},
   "outputs": [
    {
     "name": "stdout",
     "output_type": "stream",
     "text": [
      "Recursividad - Proceso de repetición, tecnica muy utilizada en las funciones\n",
      "Primero distinguir si tiene o no retorno\n",
      "4\n",
      "3\n",
      "2\n",
      "1\n",
      "BOOOM ! recursividad completada\n",
      "Fin de la funcion -  0\n",
      "Fin de la funcion -  1\n",
      "Fin de la funcion -  2\n",
      "Fin de la funcion -  3\n",
      "Fin de la funcion -  4\n"
     ]
    }
   ],
   "source": [
    "print(\"Recursividad - Proceso de repetición, tecnica muy utilizada en las funciones\")\n",
    "print(\"Primero distinguir si tiene o no retorno\")\n",
    "def cuenta_atras(numero):\n",
    "    numero -= 1\n",
    "    if numero > 0:\n",
    "        print(numero)\n",
    "        cuenta_atras(numero)\n",
    "    else:\n",
    "        print(\"BOOOM ! recursividad completada\")\n",
    "    print(\"Fin de la funcion - \", numero)\n",
    "cuenta_atras(5)"
   ]
  },
  {
   "cell_type": "code",
   "execution_count": 4,
   "metadata": {},
   "outputs": [
    {
     "name": "stdout",
     "output_type": "stream",
     "text": [
      "Valor inicial -  5\n",
      "Valor inicial -  4\n",
      "Valor inicial -  3\n",
      "Valor inicial -  2\n",
      "Valor inicial -  1\n",
      "Valor final -  1\n",
      "Valor final -  2\n",
      "Valor final -  6\n",
      "Valor final -  24\n",
      "Valor final -  120\n"
     ]
    },
    {
     "data": {
      "text/plain": [
       "120"
      ]
     },
     "execution_count": 4,
     "metadata": {},
     "output_type": "execute_result"
    }
   ],
   "source": [
    "def factorial(numero):\n",
    "    print(\"Valor inicial - \", numero)\n",
    "    if numero > 1:\n",
    "        numero = numero * factorial(numero - 1)\n",
    "    print(\"Valor final - \", numero)\n",
    "    return numero\n",
    "factorial(5)"
   ]
  },
  {
   "cell_type": "code",
   "execution_count": null,
   "metadata": {},
   "outputs": [],
   "source": []
  }
 ],
 "metadata": {
  "kernelspec": {
   "display_name": "Python 3 (ipykernel)",
   "language": "python",
   "name": "python3"
  },
  "language_info": {
   "codemirror_mode": {
    "name": "ipython",
    "version": 3
   },
   "file_extension": ".py",
   "mimetype": "text/x-python",
   "name": "python",
   "nbconvert_exporter": "python",
   "pygments_lexer": "ipython3",
   "version": "3.11.1"
  }
 },
 "nbformat": 4,
 "nbformat_minor": 1
}
