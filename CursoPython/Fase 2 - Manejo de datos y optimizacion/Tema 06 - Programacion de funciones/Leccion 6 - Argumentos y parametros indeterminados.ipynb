{
 "cells": [
  {
   "cell_type": "code",
   "execution_count": 3,
   "metadata": {},
   "outputs": [
    {
     "name": "stdout",
     "output_type": "stream",
     "text": [
      "(27, 'Irving', [1, 2, 3, 4, 5])\n",
      "27\n",
      "Irving\n",
      "[1, 2, 3, 4, 5]\n"
     ]
    }
   ],
   "source": [
    "print(\"Los argumentos se manejan como tuplas\")\n",
    "def indeterminados_posicion(*args):\n",
    "    print(args)\n",
    "    for arg in args:\n",
    "        print(arg)\n",
    "indeterminados_posicion(27, \"Irving\", [1, 2 ,3 , 4, 5])"
   ]
  },
  {
   "cell_type": "code",
   "execution_count": 8,
   "metadata": {},
   "outputs": [
    {
     "name": "stdout",
     "output_type": "stream",
     "text": [
      "Los argumentos se manejan como diccionarios\n",
      "{'numero': 27, 'lista': [1, 2, 3, 4, 5], 'cadena': 'Irving'}\n",
      "numero\n",
      "numero   27\n",
      "lista\n",
      "lista   [1, 2, 3, 4, 5]\n",
      "cadena\n",
      "cadena   Irving\n"
     ]
    }
   ],
   "source": [
    "print(\"Los argumentos se manejan como diccionarios\")\n",
    "def indeterminados_nombre(**kwargs):\n",
    "    print(kwargs)\n",
    "    for kwarg in kwargs:\n",
    "        print(kwarg)\n",
    "        print(kwarg, \" \", kwargs[kwarg])\n",
    "indeterminados_nombre(numero = 27, lista = [1, 2, 3, 4 , 5], cadena = \"Irving\")"
   ]
  },
  {
   "cell_type": "code",
   "execution_count": 14,
   "metadata": {},
   "outputs": [
    {
     "name": "stdout",
     "output_type": "stream",
     "text": [
      "Puedo tener una función que convine los args(sin clave - valor) con los kwargs(clave - valor)\n",
      "(10, 20, 27, 14.2)\n",
      "{'nombre': 'Irving', 'edad': 27}\n",
      "Suma de los argumentos es - 71.2\n"
     ]
    }
   ],
   "source": [
    "print(\"Puedo tener una función que convine los args(sin clave - valor) con los kwargs(clave - valor)\")\n",
    "def super_funcion(*args, **kwargs):\n",
    "    print(args)\n",
    "    print(kwargs)\n",
    "    total = 0\n",
    "    for arg in args:\n",
    "        total += arg\n",
    "    print(\"Suma de los argumentos es -\", total)\n",
    "\n",
    "super_funcion(10, 20, 27, 14.2, nombre = \"Irving\", edad = 27)"
   ]
  },
  {
   "cell_type": "code",
   "execution_count": null,
   "metadata": {},
   "outputs": [],
   "source": []
  }
 ],
 "metadata": {
  "kernelspec": {
   "display_name": "Python 3 (ipykernel)",
   "language": "python",
   "name": "python3"
  },
  "language_info": {
   "codemirror_mode": {
    "name": "ipython",
    "version": 3
   },
   "file_extension": ".py",
   "mimetype": "text/x-python",
   "name": "python",
   "nbconvert_exporter": "python",
   "pygments_lexer": "ipython3",
   "version": "3.11.1"
  }
 },
 "nbformat": 4,
 "nbformat_minor": 1
}
