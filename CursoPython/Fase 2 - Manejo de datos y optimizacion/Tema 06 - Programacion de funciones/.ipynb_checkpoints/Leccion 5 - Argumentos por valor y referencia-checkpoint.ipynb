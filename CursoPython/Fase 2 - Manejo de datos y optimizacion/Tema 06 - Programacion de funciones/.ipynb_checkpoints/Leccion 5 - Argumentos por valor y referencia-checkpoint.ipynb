{
 "cells": [
  {
   "cell_type": "code",
   "execution_count": 10,
   "metadata": {},
   "outputs": [
    {
     "name": "stdout",
     "output_type": "stream",
     "text": [
      "Dentro de la función n vale - 20\n",
      "10\n"
     ]
    }
   ],
   "source": [
    "def doblar_valor(numero):\n",
    "    numero*=2\n",
    "    print(\"Dentro de la función n vale -\", numero)\n",
    "n = 10\n",
    "doblar_valor(n)\n",
    "print(n)"
   ]
  },
  {
   "cell_type": "code",
   "execution_count": 11,
   "metadata": {},
   "outputs": [
    {
     "name": "stdout",
     "output_type": "stream",
     "text": [
      "Las listas se pasan por referencia(hacen referencia a la variable original), mientras que las variables simples se pasan por valor\n",
      "[10, 20, 30]\n",
      "i vale - 0 n vale - 10\n",
      "i vale - 1 n vale - 20\n",
      "i vale - 2 n vale - 30\n",
      "[20, 40, 60]\n"
     ]
    }
   ],
   "source": [
    "print(\"Las listas se pasan por referencia(hacen referencia a la variable original), mientras que las variables simples se pasan por valor\")\n",
    "def doblar_valores(numeros):\n",
    "    for i,n in enumerate(numeros):\n",
    "        print(\"i vale -\",i, \"n vale -\",n)\n",
    "        numeros[i] *= 2\n",
    "lista_numeros = [10, 20, 30]\n",
    "print(lista_numeros)\n",
    "doblar_valores(lista_numeros)\n",
    "print(lista_numeros)"
   ]
  },
  {
   "cell_type": "code",
   "execution_count": 15,
   "metadata": {},
   "outputs": [
    {
     "name": "stdout",
     "output_type": "stream",
     "text": [
      "¿Es posible indicar a Python cuando quiero pasar por referencia y cuando por valor?\n",
      "La respuesta es NO, en otros lenguajes si se puede utilizando PUNTEROS, por eso hay que distinguir cuando es por valor y cuando por referencia\n",
      "10\n",
      "20\n"
     ]
    }
   ],
   "source": [
    "print(\"¿Es posible indicar a Python cuando quiero pasar por referencia y cuando por valor?\")\n",
    "print(\"La respuesta es NO, en otros lenguajes si se puede utilizando PUNTEROS, por eso hay que distinguir cuando es por valor y cuando por referencia\")\n",
    "def doblar_valor(numero):\n",
    "    return numero*2\n",
    "numero = 10\n",
    "print(numero)\n",
    "numero = doblar_valor(numero)\n",
    "print(numero)"
   ]
  },
  {
   "cell_type": "code",
   "execution_count": 17,
   "metadata": {},
   "outputs": [
    {
     "name": "stdout",
     "output_type": "stream",
     "text": [
      "En el ejercicio pasado almaceno el valor de una variable(Lo recupero para que sea permanente)\n",
      "Tambien puedo hacer que una lista no sea modificada permanentemente(paso una copia en una de la original con Sligsin)\n",
      "Las listas se pasan por referencia(hacen referencia a la variable original), mientras que las variables simples se pasan por valor\n",
      "[10, 20, 30]\n",
      "Al mandar la lista son Sligsin 'lista_numeros[:]' indico que es una copia, no la lista original\n"
     ]
    }
   ],
   "source": [
    "print(\"En el ejercicio pasado almaceno el valor de una variable(Lo recupero para que sea permanente)\")\n",
    "print(\"Tambien puedo hacer que una lista no sea modificada permanentemente(paso una copia en una de la original con Sligsin)\")\n",
    "print(\"Las listas se pasan por referencia(hacen referencia a la variable original), mientras que las variables simples se pasan por valor\")\n",
    "def doblar_valores(numeros):\n",
    "    for i,n in enumerate(numeros):\n",
    "        numeros[i] *= 2\n",
    "lista_numeros = [10, 20, 30]\n",
    "doblar_valores(lista_numeros[:])\n",
    "print(lista_numeros)\n",
    "print(\"Al mandar la lista son Sligsin 'lista_numeros[:]' indico que es una copia, no la lista original\")"
   ]
  },
  {
   "cell_type": "code",
   "execution_count": null,
   "metadata": {},
   "outputs": [],
   "source": []
  }
 ],
 "metadata": {
  "kernelspec": {
   "display_name": "Python 3 (ipykernel)",
   "language": "python",
   "name": "python3"
  },
  "language_info": {
   "codemirror_mode": {
    "name": "ipython",
    "version": 3
   },
   "file_extension": ".py",
   "mimetype": "text/x-python",
   "name": "python",
   "nbconvert_exporter": "python",
   "pygments_lexer": "ipython3",
   "version": "3.11.1"
  }
 },
 "nbformat": 4,
 "nbformat_minor": 1
}
