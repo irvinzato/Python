{
 "cells": [
  {
   "cell_type": "code",
   "execution_count": 1,
   "metadata": {},
   "outputs": [
    {
     "name": "stdout",
     "output_type": "stream",
     "text": [
      "Hola Irving, sigue adelante !\n"
     ]
    }
   ],
   "source": [
    "def saludar():\n",
    "    print(\"Hola Irving, sigue adelante !\")\n",
    "saludar()"
   ]
  },
  {
   "cell_type": "code",
   "execution_count": 20,
   "metadata": {},
   "outputs": [
    {
     "name": "stdout",
     "output_type": "stream",
     "text": [
      "5 *  0 =  0\n",
      "5 *  1 =  5\n",
      "5 *  2 = 10\n",
      "5 *  3 = 15\n",
      "5 *  4 = 20\n",
      "5 *  5 = 25\n",
      "5 *  6 = 30\n",
      "5 *  7 = 35\n",
      "5 *  8 = 40\n",
      "5 *  9 = 45\n",
      "5 * 10 = 50\n"
     ]
    }
   ],
   "source": [
    "def dibujar_tabla_del_5():\n",
    "    for i in range(11):\n",
    "        print(\"5 * {:2} = {:2}\".format(i, i*5))\n",
    "dibujar_tabla_del_5()"
   ]
  },
  {
   "cell_type": "code",
   "execution_count": 22,
   "metadata": {},
   "outputs": [
    {
     "name": "stdout",
     "output_type": "stream",
     "text": [
      "n solo existe en el proceso de la funcion !\n"
     ]
    }
   ],
   "source": [
    "def test():\n",
    "    numero = 10\n",
    "test()\n",
    "print(\"n solo existe en el proceso de la funcion !\")"
   ]
  },
  {
   "cell_type": "code",
   "execution_count": 23,
   "metadata": {},
   "outputs": [
    {
     "name": "stdout",
     "output_type": "stream",
     "text": [
      "10\n"
     ]
    }
   ],
   "source": [
    "numero_1 = 10\n",
    "def test():\n",
    "    print(numero_1)\n",
    "test()\n",
    "print(\"Aqui el numero abarca todo el contexto\")"
   ]
  },
  {
   "cell_type": "code",
   "execution_count": 26,
   "metadata": {},
   "outputs": [
    {
     "name": "stdout",
     "output_type": "stream",
     "text": [
      "5\n",
      "5\n",
      "10\n",
      "Pueden existir variables con el mismo nombre fuera y dentro de un contexto pero no es recomendable, mejor EVITAR\n"
     ]
    }
   ],
   "source": [
    "def test():\n",
    "    numero = 5\n",
    "    print(numero)\n",
    "test()\n",
    "numero = 10\n",
    "test()\n",
    "print(numero)\n",
    "print(\"Pueden existir variables con el mismo nombre fuera y dentro de un contexto pero no es recomendable, mejor EVITAR\")"
   ]
  },
  {
   "cell_type": "code",
   "execution_count": null,
   "metadata": {},
   "outputs": [],
   "source": []
  }
 ],
 "metadata": {
  "kernelspec": {
   "display_name": "Python 3 (ipykernel)",
   "language": "python",
   "name": "python3"
  },
  "language_info": {
   "codemirror_mode": {
    "name": "ipython",
    "version": 3
   },
   "file_extension": ".py",
   "mimetype": "text/x-python",
   "name": "python",
   "nbconvert_exporter": "python",
   "pygments_lexer": "ipython3",
   "version": "3.11.1"
  }
 },
 "nbformat": 4,
 "nbformat_minor": 1
}
