{
 "cells": [
  {
   "cell_type": "markdown",
   "id": "4898fa18",
   "metadata": {},
   "source": [
    "# Doctest, pruebas"
   ]
  },
  {
   "cell_type": "code",
   "execution_count": 1,
   "id": "95173b47",
   "metadata": {},
   "outputs": [],
   "source": [
    "#\">>>\" indica que es una prueba y la siguiente linea su resultado\n",
    "def suma(a,b):\n",
    "    \"\"\"\n",
    "    La función suma(a,b) recibe dos parámetros a y b.\n",
    "    Devuelve la suma de ambos\n",
    "    \n",
    "    >>> suma(5,10)\n",
    "    15\n",
    "    \"\"\"\n",
    "    return a + b"
   ]
  },
  {
   "cell_type": "code",
   "execution_count": 2,
   "id": "c3d7b183",
   "metadata": {},
   "outputs": [
    {
     "data": {
      "text/plain": [
       "TestResults(failed=0, attempted=1)"
      ]
     },
     "execution_count": 2,
     "metadata": {},
     "output_type": "execute_result"
    }
   ],
   "source": [
    "import doctest\n",
    "doctest.testmod() #Resultado del test pero Jupyter Notebook no es la mejor manera de probar, es mejor por Script"
   ]
  },
  {
   "cell_type": "code",
   "execution_count": null,
   "id": "8cba7573",
   "metadata": {},
   "outputs": [],
   "source": [
    "#\"python ScriptPruebas.py -v\" - Comando para correr pruebas en Script(con terminal)"
   ]
  }
 ],
 "metadata": {
  "kernelspec": {
   "display_name": "Python 3 (ipykernel)",
   "language": "python",
   "name": "python3"
  },
  "language_info": {
   "codemirror_mode": {
    "name": "ipython",
    "version": 3
   },
   "file_extension": ".py",
   "mimetype": "text/x-python",
   "name": "python",
   "nbconvert_exporter": "python",
   "pygments_lexer": "ipython3",
   "version": "3.11.1"
  }
 },
 "nbformat": 4,
 "nbformat_minor": 5
}
