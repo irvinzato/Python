{
 "cells": [
  {
   "cell_type": "code",
   "execution_count": 16,
   "metadata": {},
   "outputs": [],
   "source": [
    "from io import open #Por si se quiere ejecutar en script\n",
    "import pickle  #Al trabajar con pickle estamos almacenando en memoria las listas de objetos(persistiendo en un fichero)\n",
    "\n",
    "class Pelicula:\n",
    "    \n",
    "    # Constructor de clase\n",
    "    def __init__(self, titulo, duracion, lanzamiento):\n",
    "        self.titulo = titulo\n",
    "        self.duracion = duracion\n",
    "        self.lanzamiento = lanzamiento\n",
    "        print('Se ha creado la película:',self.titulo)\n",
    "        \n",
    "    def __str__(self):\n",
    "        return '{} ({})'.format(self.titulo, self.lanzamiento)\n",
    "\n",
    "\n",
    "class Catalogo:\n",
    "    \n",
    "    peliculas = []\n",
    "    \n",
    "    # Constructor de clase\n",
    "    def __init__(self):\n",
    "        self.cargar()\n",
    "        \n",
    "    def agregar(self,p):\n",
    "        self.peliculas.append(p)\n",
    "        self.guardar()\n",
    "        \n",
    "    def mostrar(self):\n",
    "        if len(self.peliculas) == 0:\n",
    "            print(\"No hay peliculas en el catalogo\")\n",
    "            return\n",
    "        for p in self.peliculas:\n",
    "            print(p)\n",
    "            \n",
    "    def cargar(self):\n",
    "        fichero = open('catalogo.pckl', 'ab+') #En modo append binario con funciones de lectura 'ab+'\n",
    "        fichero.seek(0)\n",
    "        try:\n",
    "            self.peliculas = pickle.load(fichero)\n",
    "        except:\n",
    "            print(\"El fichero esta vacio\")\n",
    "        finally:\n",
    "            fichero.close()\n",
    "            del(fichero)\n",
    "            print(\"Se han cargado {} peliculas\".format(len(self.peliculas)))\n",
    "            \n",
    "    def guardar(self):\n",
    "        fichero = open('catalogo.pckl', 'wb')  #Modo escritura binaria, me cargo lo que tenga el fichero y despues coloco\n",
    "        pickle.dump(self.peliculas, fichero)\n",
    "        fichero.close()\n",
    "        del(fichero)\n",
    "    \n",
    "    #Destructor de clase\n",
    "    def __del__(self):\n",
    "        self.guardar()  #Guardar cuando destruyamos la clase\n",
    "        print(\"Se ha guardado el fichero al borra el catalogo\")"
   ]
  },
  {
   "cell_type": "code",
   "execution_count": 11,
   "metadata": {},
   "outputs": [
    {
     "name": "stdout",
     "output_type": "stream",
     "text": [
      "Se han cargado 0 peliculas\n"
     ]
    }
   ],
   "source": [
    "catalogo = Catalogo()"
   ]
  },
  {
   "cell_type": "code",
   "execution_count": 12,
   "metadata": {},
   "outputs": [
    {
     "name": "stdout",
     "output_type": "stream",
     "text": [
      "No hay peliculas en el catalogo\n"
     ]
    }
   ],
   "source": [
    "catalogo.mostrar()"
   ]
  },
  {
   "cell_type": "code",
   "execution_count": 13,
   "metadata": {},
   "outputs": [
    {
     "name": "stdout",
     "output_type": "stream",
     "text": [
      "Se ha creado la película: Troya\n"
     ]
    }
   ],
   "source": [
    "catalogo.agregar(Pelicula(\"Troya\", 180, 2000))"
   ]
  },
  {
   "cell_type": "code",
   "execution_count": 14,
   "metadata": {},
   "outputs": [
    {
     "name": "stdout",
     "output_type": "stream",
     "text": [
      "Se ha creado la película: Apocalipto\n"
     ]
    }
   ],
   "source": [
    "catalogo.agregar(Pelicula(\"Apocalipto\", 180, 2008))"
   ]
  },
  {
   "cell_type": "code",
   "execution_count": 15,
   "metadata": {},
   "outputs": [
    {
     "name": "stdout",
     "output_type": "stream",
     "text": [
      "Troya (2000)\n",
      "Apocalipto (2008)\n"
     ]
    }
   ],
   "source": [
    "catalogo.mostrar()"
   ]
  },
  {
   "cell_type": "code",
   "execution_count": 24,
   "metadata": {},
   "outputs": [
    {
     "name": "stdout",
     "output_type": "stream",
     "text": [
      "Se han cargado 2 peliculas\n",
      "Se ha guardado el fichero al borra el catalogo\n"
     ]
    }
   ],
   "source": [
    "catalogo2 = Catalogo()"
   ]
  },
  {
   "cell_type": "code",
   "execution_count": 25,
   "metadata": {},
   "outputs": [
    {
     "name": "stdout",
     "output_type": "stream",
     "text": [
      "Troya (2000)\n",
      "Apocalipto (2008)\n"
     ]
    }
   ],
   "source": [
    "catalogo2.mostrar()"
   ]
  },
  {
   "cell_type": "code",
   "execution_count": 26,
   "metadata": {},
   "outputs": [
    {
     "name": "stdout",
     "output_type": "stream",
     "text": [
      "Se ha guardado el fichero al borra el catalogo\n"
     ]
    }
   ],
   "source": [
    "del(catalogo2) #Método destructor de la clase"
   ]
  },
  {
   "cell_type": "code",
   "execution_count": null,
   "metadata": {},
   "outputs": [],
   "source": []
  }
 ],
 "metadata": {
  "kernelspec": {
   "display_name": "Python 3 (ipykernel)",
   "language": "python",
   "name": "python3"
  },
  "language_info": {
   "codemirror_mode": {
    "name": "ipython",
    "version": 3
   },
   "file_extension": ".py",
   "mimetype": "text/x-python",
   "name": "python",
   "nbconvert_exporter": "python",
   "pygments_lexer": "ipython3",
   "version": "3.11.1"
  }
 },
 "nbformat": 4,
 "nbformat_minor": 1
}
