{
 "cells": [
  {
   "cell_type": "markdown",
   "metadata": {},
   "source": [
    "# Expresiones regulares"
   ]
  },
  {
   "cell_type": "code",
   "execution_count": 1,
   "metadata": {},
   "outputs": [
    {
     "data": {
      "text/plain": [
       "<re.Match object; span=(40, 46), match='mágica'>"
      ]
     },
     "execution_count": 1,
     "metadata": {},
     "output_type": "execute_result"
    }
   ],
   "source": [
    "import re\n",
    "\n",
    "texto = \"En está cadena se encuentra una palabra mágica\"\n",
    "\n",
    "re.search('mágica', texto) #palabra a buscar y donde, devulve un objeto"
   ]
  },
  {
   "cell_type": "code",
   "execution_count": 2,
   "metadata": {},
   "outputs": [],
   "source": [
    "re.search('hola', texto) #No devuleve nada porque no esta"
   ]
  },
  {
   "cell_type": "code",
   "execution_count": 5,
   "metadata": {},
   "outputs": [
    {
     "name": "stdout",
     "output_type": "stream",
     "text": [
      "Se ha encontrado la palabra mágica\n"
     ]
    }
   ],
   "source": [
    "palabra = \"mágica\"\n",
    "\n",
    "encontrado = re.search(palabra, texto)\n",
    "\n",
    "if encontrado is not None:\n",
    "    print(\"Se ha encontrado la palabra {}\".format(palabra))\n",
    "else:\n",
    "    print(\"No se ha encontrado la palabra {}\".format(palabra))"
   ]
  },
  {
   "cell_type": "code",
   "execution_count": 6,
   "metadata": {},
   "outputs": [
    {
     "data": {
      "text/plain": [
       "40"
      ]
     },
     "execution_count": 6,
     "metadata": {},
     "output_type": "execute_result"
    }
   ],
   "source": [
    "encontrado.start() #Posición donde empieza la coincidencia dentro de la frase"
   ]
  },
  {
   "cell_type": "code",
   "execution_count": 7,
   "metadata": {},
   "outputs": [
    {
     "data": {
      "text/plain": [
       "46"
      ]
     },
     "execution_count": 7,
     "metadata": {},
     "output_type": "execute_result"
    }
   ],
   "source": [
    "encontrado.end() #Posición donde acaba la coincidencia dentro de la frase"
   ]
  },
  {
   "cell_type": "code",
   "execution_count": 8,
   "metadata": {},
   "outputs": [
    {
     "data": {
      "text/plain": [
       "(40, 46)"
      ]
     },
     "execution_count": 8,
     "metadata": {},
     "output_type": "execute_result"
    }
   ],
   "source": [
    "encontrado.span() #Posiciones donde empieza y termina en tupla"
   ]
  },
  {
   "cell_type": "code",
   "execution_count": 9,
   "metadata": {},
   "outputs": [
    {
     "data": {
      "text/plain": [
       "'En está cadena se encuentra una palabra mágica'"
      ]
     },
     "execution_count": 9,
     "metadata": {},
     "output_type": "execute_result"
    }
   ],
   "source": [
    "encontrado.string #Devuelve la frase donde se encontro"
   ]
  },
  {
   "cell_type": "code",
   "execution_count": 10,
   "metadata": {},
   "outputs": [
    {
     "data": {
      "text/plain": [
       "<re.Match object; span=(0, 4), match='Hola'>"
      ]
     },
     "execution_count": 10,
     "metadata": {},
     "output_type": "execute_result"
    }
   ],
   "source": [
    "#Si empieza con alguna palabra nuestra cadena. Buscar un patrón al principio de otra cadena\n",
    "texto = \"Hola Irving !\"\n",
    "re.match(\"Hola\", texto) #Si encuentra la coindicencia regresa un objeto"
   ]
  },
  {
   "cell_type": "code",
   "execution_count": 13,
   "metadata": {},
   "outputs": [],
   "source": [
    "re.match(\"Irving\", texto) #Si no empieza con la palabra indicada no devulve nada"
   ]
  },
  {
   "cell_type": "code",
   "execution_count": 14,
   "metadata": {},
   "outputs": [
    {
     "data": {
      "text/plain": [
       "['Vamos', 'a', 'dividir', 'esta', 'cadena', 'con', 'split', 'de', 're']"
      ]
     },
     "execution_count": 14,
     "metadata": {},
     "output_type": "execute_result"
    }
   ],
   "source": [
    "#Para dividir una cadena a partir de un patrón\n",
    "texto = \"Vamos a dividir esta cadena con split de re\"\n",
    "re.split(' ', texto) #Devulve una lista"
   ]
  },
  {
   "cell_type": "code",
   "execution_count": 15,
   "metadata": {},
   "outputs": [
    {
     "data": {
      "text/plain": [
       "'Sustituiremos de esta sustitui la palabra cadena con re'"
      ]
     },
     "execution_count": 15,
     "metadata": {},
     "output_type": "execute_result"
    }
   ],
   "source": [
    "#Sustituye todas las coincidencias en una cadena\n",
    "texto = \"Sustituiremos de esta cadena con re\"\n",
    "re.sub(\"cadena\", \"sustitui la palabra cadena\", texto)"
   ]
  },
  {
   "cell_type": "code",
   "execution_count": 16,
   "metadata": {},
   "outputs": [
    {
     "data": {
      "text/plain": [
       "['ejemplo', 'ejemplo', 'ejemplo']"
      ]
     },
     "execution_count": 16,
     "metadata": {},
     "output_type": "execute_result"
    }
   ],
   "source": [
    "#Buscar todas las coincidencias en una cadena\n",
    "texto = \"Todas las coincidencias de esta cadena por ejemplo ejemplo ejemplo\"\n",
    "re.findall(\"ejemplo\", texto)"
   ]
  },
  {
   "cell_type": "code",
   "execution_count": 17,
   "metadata": {},
   "outputs": [
    {
     "data": {
      "text/plain": [
       "3"
      ]
     },
     "execution_count": 17,
     "metadata": {},
     "output_type": "execute_result"
    }
   ],
   "source": [
    "len( re.findall(\"ejemplo\", texto) )"
   ]
  },
  {
   "cell_type": "code",
   "execution_count": 19,
   "metadata": {},
   "outputs": [
    {
     "data": {
      "text/plain": [
       "['hola', 'hello', 'hello']"
      ]
     },
     "execution_count": 19,
     "metadata": {},
     "output_type": "execute_result"
    }
   ],
   "source": [
    "#También la puedo usar para buscar multiples alternativas\n",
    "texto = \"hola adios hello bye hello\"\n",
    "re.findall(\"(hola|hello)\", texto)"
   ]
  },
  {
   "cell_type": "code",
   "execution_count": 20,
   "metadata": {},
   "outputs": [
    {
     "data": {
      "text/plain": [
       "['hla']"
      ]
     },
     "execution_count": 20,
     "metadata": {},
     "output_type": "execute_result"
    }
   ],
   "source": [
    "#Patrones con sintaxis repetidas\n",
    "texto = \"hla hola hoola Hola hooola hol\"\n",
    "re.findall('hla', texto)"
   ]
  },
  {
   "cell_type": "code",
   "execution_count": 21,
   "metadata": {},
   "outputs": [
    {
     "name": "stdout",
     "output_type": "stream",
     "text": [
      "['hola']\n",
      "['hla']\n",
      "['hoola']\n"
     ]
    }
   ],
   "source": [
    "#Para hacerlo varias veces de una sola vez con una función\n",
    "def buscar(patrones, texto):\n",
    "    for patron in patrones:\n",
    "        print( re.findall(patron, texto) )\n",
    "        \n",
    "patrones = ['hola', 'hla', 'hoola']\n",
    "\n",
    "buscar(patrones, texto)"
   ]
  },
  {
   "cell_type": "code",
   "execution_count": 25,
   "metadata": {},
   "outputs": [
    {
     "name": "stdout",
     "output_type": "stream",
     "text": [
      "['ho', 'ho', 'ho', 'ho']\n",
      "['h', 'ho', 'hoo', 'hooo', 'ho']\n",
      "['hla', 'hola', 'hoola', 'hooola']\n",
      "['hla']\n"
     ]
    }
   ],
   "source": [
    "#Meta-carácter * asterisco. Ninguna o más repeticiones de la letra a su izquierda\n",
    "texto = \"hla hola hoola Hola hooola hol\"\n",
    "\n",
    "patrones = ['ho', 'ho*', 'ho*la', 'hu*la'] #'ho*' que se encuentre 0 o más veces la 'o'\n",
    "\n",
    "buscar(patrones, texto)"
   ]
  },
  {
   "cell_type": "code",
   "execution_count": 26,
   "metadata": {},
   "outputs": [
    {
     "name": "stdout",
     "output_type": "stream",
     "text": [
      "['h', 'ho', 'hoo', 'hooo', 'ho']\n",
      "['ho', 'hoo', 'hooo', 'ho']\n"
     ]
    }
   ],
   "source": [
    "#Meta-carácter +. Una o mas repeticiones de la letra a su izquierda\n",
    "texto = \"hla hola hoola Hola hooola hol\"\n",
    "\n",
    "patrones = ['ho*', 'ho+'] # 'ho+' una o más veces\n",
    "\n",
    "buscar(patrones, texto)"
   ]
  },
  {
   "cell_type": "code",
   "execution_count": 30,
   "metadata": {},
   "outputs": [
    {
     "name": "stdout",
     "output_type": "stream",
     "text": [
      "['h', 'ho', 'ho', 'ho', 'ho']\n",
      "['hla', 'hola']\n"
     ]
    }
   ],
   "source": [
    "#Meta-carácter ?. Una o ninguna repetición de la letra a su izquierda\n",
    "texto = \"hla hola hoola Hola hooola hol\"\n",
    "\n",
    "patrones = ['ho?', 'ho?la'] # 'ho?' una 'o' o ninguna 'o'\n",
    "\n",
    "buscar(patrones, texto)"
   ]
  },
  {
   "cell_type": "code",
   "execution_count": 32,
   "metadata": {},
   "outputs": [
    {
     "name": "stdout",
     "output_type": "stream",
     "text": [
      "['hoo', 'hoo']\n",
      "['hoola']\n"
     ]
    }
   ],
   "source": [
    "#Sintaxis con {n}. Indica un número de repeticiones explícito de la letra a su izquierda\n",
    "texto = \"hla hola hoola Hola hooola hol\"\n",
    "\n",
    "patrones = ['ho{2}', 'ho{2}la'] #Cuando la 'o' se repite n veces\n",
    "\n",
    "buscar(patrones, texto)"
   ]
  },
  {
   "cell_type": "code",
   "execution_count": 36,
   "metadata": {},
   "outputs": [
    {
     "name": "stdout",
     "output_type": "stream",
     "text": [
      "['h', 'ho', 'hoo', 'hooo', 'ho']\n",
      "['hola', 'hoola']\n",
      "['la', 'la', 'la', 'la', 'la']\n"
     ]
    }
   ],
   "source": [
    "#Sintaxis con un rango {n,m}. Indica el número de repeticiones variable entre n y m de la letra a su izquierda\n",
    "texto = \"hla hola hoola Hola hooola hol\"\n",
    "\n",
    "patrones = ['ho{0,3}', 'ho{1,2}la', 'h{0}la'] #0 o n veces la 'o'\n",
    "\n",
    "buscar(patrones, texto)"
   ]
  },
  {
   "cell_type": "code",
   "execution_count": 38,
   "metadata": {},
   "outputs": [
    {
     "name": "stdout",
     "output_type": "stream",
     "text": [
      "['hola', 'hula']\n",
      "['hala', 'hila', 'hola']\n",
      "['hala', 'hela', 'hila', 'hola', 'hula']\n"
     ]
    }
   ],
   "source": [
    "#Conjunto de carácteres []\n",
    "texto = \"hala hela hila hola hula hol\"\n",
    "\n",
    "patrones = ['h[ou]la', 'h[aio]la', 'h[aeiou]la'] #[ou] las que tengan 'o' o ú\n",
    "\n",
    "buscar(patrones, texto)"
   ]
  },
  {
   "cell_type": "code",
   "execution_count": 41,
   "metadata": {},
   "outputs": [
    {
     "name": "stdout",
     "output_type": "stream",
     "text": [
      "[]\n",
      "['haala', 'heeela']\n",
      "['hiiiila', 'hooooola']\n"
     ]
    }
   ],
   "source": [
    "texto = \"haala heeela hiiiila hooooola hula hael\"\n",
    "\n",
    "patrones = ['h[ae]la', 'h[ae]*la', 'h[io]{3,9}la'] #'[ae]*' que tenga 'a' o 'e' cero o más veces\n",
    "                                                   #'h[io]{3,9}la' que tenga 'i' o 'o' de 3 a 9 veces\n",
    "buscar(patrones, texto)"
   ]
  },
  {
   "cell_type": "code",
   "execution_count": 43,
   "metadata": {},
   "outputs": [
    {
     "name": "stdout",
     "output_type": "stream",
     "text": [
      "['hola']\n",
      "['hala', 'hela', 'hila', 'hula']\n"
     ]
    }
   ],
   "source": [
    "#Exclusión en conjunto [^] para busquedas contrarias\n",
    "texto = \"hala hela hila hola hula hol\"\n",
    "\n",
    "patrones = ['h[o]la', 'h[^o]la'] #'[^o]' que busque todas las que no sean 'o'. Estoy negando\n",
    "\n",
    "buscar(patrones, texto)"
   ]
  },
  {
   "cell_type": "code",
   "execution_count": 50,
   "metadata": {},
   "outputs": [
    {
     "name": "stdout",
     "output_type": "stream",
     "text": [
      "['hola']\n",
      "['h0la']\n",
      "['hola', 'Hola', 'mola', 'sdfs', 'AdDs']\n",
      "['Hola', 'M0la', 'M0LA', 'AdDs', 'U231']\n"
     ]
    }
   ],
   "source": [
    "#Rangos [-]\n",
    "texto = \"hola h0la Hola mola m0la M0la M0LA sdfs a2ds AdDs U231\"\n",
    "\n",
    "patrones = ['h[a-z]la', 'h[0-9]la', '[A-z]{4}', '[A-Z][A-z0-9]{3}'] #[a-z] cualquier carácter de la 'a' a la 'z'\n",
    "\n",
    "buscar(patrones, texto)"
   ]
  },
  {
   "cell_type": "code",
   "execution_count": 64,
   "metadata": {},
   "outputs": [
    {
     "name": "stdout",
     "output_type": "stream",
     "text": [
      "['3', '2', '0', '1', '6']\n",
      "['3', '2', '0', '1', '6']\n",
      "['3', '2016']\n",
      "['E', 's', 't', 'e', ' ', 'c', 'u', 'r', 's', 'o', ' ', 'd', 'e', ' ', 'P', 'y', 't', 'h', 'o', 'n', ' ', ' ', 's', 'e', ' ', 'p', 'u', 'b', 'l', 'i', 'c', 'o', ' ', 'e', 'n', ' ', 'e', 'l', ' ', 'a', 'ñ', 'o', ' ']\n",
      "['Este curso de Python ', ' se publico en el año ']\n",
      "[' ', ' ', ' ', ' ', ' ', ' ', ' ', ' ', ' ', ' ']\n",
      "['E', 's', 't', 'e', 'c', 'u', 'r', 's', 'o', 'd', 'e', 'P', 'y', 't', 'h', 'o', 'n', '3', 's', 'e', 'p', 'u', 'b', 'l', 'i', 'c', 'o', 'e', 'n', 'e', 'l', 'a', 'ñ', 'o', '2', '0', '1', '6']\n",
      "['Este', 'curso', 'de', 'Python', '3', 'se', 'publico', 'en', 'el', 'año', '2016']\n",
      "['E', 's', 't', 'e', 'c', 'u', 'r', 's', 'o', 'd', 'e', 'P', 'y', 't', 'h', 'o', 'n', '3', 's', 'e', 'p', 'u', 'b', 'l', 'i', 'c', 'o', 'e', 'n', 'e', 'l', 'a', 'ñ', 'o', '2', '0', '1', '6']\n",
      "['Este', 'curso', 'de', 'Python', '3', 'se', 'publico', 'en', 'el', 'año', '2016']\n",
      "[' ', ' ', ' ', ' ', ' ', ' ', ' ', ' ', ' ', ' ']\n",
      "[' ', ' ', ' ', ' ', ' ', ' ', ' ', ' ', ' ', ' ']\n"
     ]
    }
   ],
   "source": [
    "#Carácteres escapados '\\'. De los mas importantes '\\d' número, '\\D' NO númerico, '\\s' espacop en blanco,\n",
    "#'\\S' NO espacio en blanco, '\\w' alfanumerico, '\\W' NO alfanumerico\n",
    "texto = \"Este curso de Python 3 se publico en el año 2016\"\n",
    "\n",
    "patrones = [r'\\d', '\\d', r'\\d+', '\\D', '\\D+', '\\s', '\\S', '\\S+', '\\w', '\\w+', '\\W', '\\W+'] #Lo mismo r'\\d' === '\\d'\n",
    "\n",
    "buscar(patrones, texto)"
   ]
  },
  {
   "cell_type": "code",
   "execution_count": null,
   "metadata": {},
   "outputs": [],
   "source": []
  }
 ],
 "metadata": {
  "anaconda-cloud": {},
  "kernelspec": {
   "display_name": "Python 3 (ipykernel)",
   "language": "python",
   "name": "python3"
  },
  "language_info": {
   "codemirror_mode": {
    "name": "ipython",
    "version": 3
   },
   "file_extension": ".py",
   "mimetype": "text/x-python",
   "name": "python",
   "nbconvert_exporter": "python",
   "pygments_lexer": "ipython3",
   "version": "3.11.1"
  }
 },
 "nbformat": 4,
 "nbformat_minor": 1
}
