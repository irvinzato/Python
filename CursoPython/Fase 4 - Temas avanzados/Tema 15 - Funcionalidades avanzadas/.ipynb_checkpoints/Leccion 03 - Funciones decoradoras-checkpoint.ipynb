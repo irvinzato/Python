{
 "cells": [
  {
   "cell_type": "markdown",
   "metadata": {},
   "source": [
    "# Ámbitos y funciones decoradoras"
   ]
  },
  {
   "cell_type": "markdown",
   "metadata": {},
   "source": [
    "#### NOTA: Antes de realizar esta lección debes reiniciar Jupyter Notebook para vaciar la memoria."
   ]
  },
  {
   "cell_type": "code",
   "execution_count": 4,
   "metadata": {},
   "outputs": [],
   "source": [
    "def hola():\n",
    "    def bienvenido():\n",
    "        return \"Hola bienvenido !\"\n",
    "    return bienvenido"
   ]
  },
  {
   "cell_type": "code",
   "execution_count": 5,
   "metadata": {},
   "outputs": [
    {
     "data": {
      "text/plain": [
       "<function __main__.hola.<locals>.bienvenido()>"
      ]
     },
     "execution_count": 5,
     "metadata": {},
     "output_type": "execute_result"
    }
   ],
   "source": [
    "hola()"
   ]
  },
  {
   "cell_type": "code",
   "execution_count": 1,
   "metadata": {
    "scrolled": true
   },
   "outputs": [
    {
     "name": "stdout",
     "output_type": "stream",
     "text": [
      "{'numero': 50, 'bienvenido': <function hola.<locals>.bienvenido at 0x000001C52D2407C0>}\n",
      "{'__name__': '__main__', '__doc__': 'Automatically created module for IPython interactive environment', '__package__': None, '__loader__': None, '__spec__': None, '__builtin__': <module 'builtins' (built-in)>, '__builtins__': <module 'builtins' (built-in)>, '_ih': ['', 'lista = [1,2,3]\\n\\ndef hola():\\n    numero = 50\\n    \\n    def bienvenido():\\n        return \"Hola bienvenido !\"\\n    \\n    print(locals())  #Todo lo que forma parte del ambito local de la función \"hola()\"\\n    print(globals()) #Todo lo que forma parte del ambito global\\n    return bienvenido\\n\\nhola()'], '_oh': {}, '_dh': [WindowsPath('C:/Users/Irving/OneDrive/Documentos/CursoPythonRecursos/CursoPython/Fase 4 - Temas avanzados/Tema 15 - Funcionalidades avanzadas')], 'In': ['', 'lista = [1,2,3]\\n\\ndef hola():\\n    numero = 50\\n    \\n    def bienvenido():\\n        return \"Hola bienvenido !\"\\n    \\n    print(locals())  #Todo lo que forma parte del ambito local de la función \"hola()\"\\n    print(globals()) #Todo lo que forma parte del ambito global\\n    return bienvenido\\n\\nhola()'], 'Out': {}, 'get_ipython': <bound method InteractiveShell.get_ipython of <ipykernel.zmqshell.ZMQInteractiveShell object at 0x000001C52D1FABD0>>, 'exit': <IPython.core.autocall.ZMQExitAutocall object at 0x000001C52D2028D0>, 'quit': <IPython.core.autocall.ZMQExitAutocall object at 0x000001C52D2028D0>, 'open': <function open at 0x000001C52A761080>, '_': '', '__': '', '___': '', '_i': '', '_ii': '', '_iii': '', '_i1': 'lista = [1,2,3]\\n\\ndef hola():\\n    numero = 50\\n    \\n    def bienvenido():\\n        return \"Hola bienvenido !\"\\n    \\n    print(locals())  #Todo lo que forma parte del ambito local de la función \"hola()\"\\n    print(globals()) #Todo lo que forma parte del ambito global\\n    return bienvenido\\n\\nhola()', 'lista': [1, 2, 3], 'hola': <function hola at 0x000001C52D2414E0>}\n"
     ]
    },
    {
     "data": {
      "text/plain": [
       "<function __main__.hola.<locals>.bienvenido()>"
      ]
     },
     "execution_count": 1,
     "metadata": {},
     "output_type": "execute_result"
    }
   ],
   "source": [
    "lista = [1,2,3]\n",
    "\n",
    "def hola():\n",
    "    numero = 50\n",
    "    \n",
    "    def bienvenido():\n",
    "        return \"Hola bienvenido !\"\n",
    "    \n",
    "    print(locals())  #Todo lo que forma parte del ambito local de la función \"hola()\"\n",
    "    print(globals()) #Todo lo que forma parte del ambito global\n",
    "    return bienvenido\n",
    "\n",
    "hola()"
   ]
  },
  {
   "cell_type": "code",
   "execution_count": 2,
   "metadata": {},
   "outputs": [
    {
     "data": {
      "text/plain": [
       "{'__name__': '__main__',\n",
       " '__doc__': 'Automatically created module for IPython interactive environment',\n",
       " '__package__': None,\n",
       " '__loader__': None,\n",
       " '__spec__': None,\n",
       " '__builtin__': <module 'builtins' (built-in)>,\n",
       " '__builtins__': <module 'builtins' (built-in)>,\n",
       " '_ih': ['',\n",
       "  'lista = [1,2,3]\\n\\ndef hola():\\n    numero = 50\\n    \\n    def bienvenido():\\n        return \"Hola bienvenido !\"\\n    \\n    print(locals())  #Todo lo que forma parte del ambito local de la función \"hola()\"\\n    print(globals()) #Todo lo que forma parte del ambito global\\n    return bienvenido\\n\\nhola()',\n",
       "  'globals()'],\n",
       " '_oh': {1: <function __main__.hola.<locals>.bienvenido()>},\n",
       " '_dh': [WindowsPath('C:/Users/Irving/OneDrive/Documentos/CursoPythonRecursos/CursoPython/Fase 4 - Temas avanzados/Tema 15 - Funcionalidades avanzadas')],\n",
       " 'In': ['',\n",
       "  'lista = [1,2,3]\\n\\ndef hola():\\n    numero = 50\\n    \\n    def bienvenido():\\n        return \"Hola bienvenido !\"\\n    \\n    print(locals())  #Todo lo que forma parte del ambito local de la función \"hola()\"\\n    print(globals()) #Todo lo que forma parte del ambito global\\n    return bienvenido\\n\\nhola()',\n",
       "  'globals()'],\n",
       " 'Out': {1: <function __main__.hola.<locals>.bienvenido()>},\n",
       " 'get_ipython': <bound method InteractiveShell.get_ipython of <ipykernel.zmqshell.ZMQInteractiveShell object at 0x000001C52D1FABD0>>,\n",
       " 'exit': <IPython.core.autocall.ZMQExitAutocall at 0x1c52d2028d0>,\n",
       " 'quit': <IPython.core.autocall.ZMQExitAutocall at 0x1c52d2028d0>,\n",
       " 'open': <function io.open(file, mode='r', buffering=-1, encoding=None, errors=None, newline=None, closefd=True, opener=None)>,\n",
       " '_': <function __main__.hola.<locals>.bienvenido()>,\n",
       " '__': '',\n",
       " '___': '',\n",
       " '_i': 'lista = [1,2,3]\\n\\ndef hola():\\n    numero = 50\\n    \\n    def bienvenido():\\n        return \"Hola bienvenido !\"\\n    \\n    print(locals())  #Todo lo que forma parte del ambito local de la función \"hola()\"\\n    print(globals()) #Todo lo que forma parte del ambito global\\n    return bienvenido\\n\\nhola()',\n",
       " '_ii': '',\n",
       " '_iii': '',\n",
       " '_i1': 'lista = [1,2,3]\\n\\ndef hola():\\n    numero = 50\\n    \\n    def bienvenido():\\n        return \"Hola bienvenido !\"\\n    \\n    print(locals())  #Todo lo que forma parte del ambito local de la función \"hola()\"\\n    print(globals()) #Todo lo que forma parte del ambito global\\n    return bienvenido\\n\\nhola()',\n",
       " 'lista': [1, 2, 3],\n",
       " 'hola': <function __main__.hola()>,\n",
       " '_1': <function __main__.hola.<locals>.bienvenido()>,\n",
       " '_i2': 'globals()'}"
      ]
     },
     "execution_count": 2,
     "metadata": {},
     "output_type": "execute_result"
    }
   ],
   "source": [
    "#Es un diccionario\n",
    "globals()"
   ]
  },
  {
   "cell_type": "code",
   "execution_count": 3,
   "metadata": {},
   "outputs": [
    {
     "data": {
      "text/plain": [
       "[1, 2, 3]"
      ]
     },
     "execution_count": 3,
     "metadata": {},
     "output_type": "execute_result"
    }
   ],
   "source": [
    "globals()['lista']"
   ]
  },
  {
   "cell_type": "code",
   "execution_count": 5,
   "metadata": {},
   "outputs": [
    {
     "data": {
      "text/plain": [
       "'Hola bienvenido !'"
      ]
     },
     "execution_count": 5,
     "metadata": {},
     "output_type": "execute_result"
    }
   ],
   "source": [
    "def hola():\n",
    "    def bienvenido():\n",
    "        return \"Hola bienvenido !\"\n",
    "    return bienvenido\n",
    "\n",
    "hola()() #En lugar de ponerle bienvenido como \"bienvenido()\""
   ]
  },
  {
   "cell_type": "code",
   "execution_count": 6,
   "metadata": {},
   "outputs": [
    {
     "data": {
      "text/plain": [
       "'Hola bienvenido !'"
      ]
     },
     "execution_count": 6,
     "metadata": {},
     "output_type": "execute_result"
    }
   ],
   "source": [
    "#Otra manera\n",
    "bienvenido = hola()\n",
    "bienvenido()"
   ]
  },
  {
   "cell_type": "code",
   "execution_count": 7,
   "metadata": {},
   "outputs": [
    {
     "data": {
      "text/plain": [
       "'Hola bienvenido !'"
      ]
     },
     "execution_count": 7,
     "metadata": {},
     "output_type": "execute_result"
    }
   ],
   "source": [
    "del(hola)\n",
    "bienvenido() #Quedo guardado anteriormente aun que borre la función \"hola()\""
   ]
  },
  {
   "cell_type": "code",
   "execution_count": 8,
   "metadata": {},
   "outputs": [
    {
     "name": "stdout",
     "output_type": "stream",
     "text": [
      "Hola !\n"
     ]
    }
   ],
   "source": [
    "#Una función decoradora es una función que envuelve la ejecución de otra función que permite extender su comportamiento\n",
    "def hola():\n",
    "    return \"Hola !\"\n",
    "\n",
    "def test(funcion):\n",
    "    print(funcion())\n",
    "    \n",
    "test(hola)"
   ]
  },
  {
   "cell_type": "code",
   "execution_count": 9,
   "metadata": {},
   "outputs": [],
   "source": [
    "def hola():\n",
    "    print(\"Hola Irving\")\n",
    "    \n",
    "def adios():\n",
    "    print(\"Adios Irving\")"
   ]
  },
  {
   "cell_type": "code",
   "execution_count": 10,
   "metadata": {},
   "outputs": [],
   "source": [
    "def monitorizar(funcion):\n",
    "    def decorar():\n",
    "        print(\"\\t Se está apunto de ejecutar la función:\", funcion.__name__)\n",
    "        funcion()\n",
    "        print(\"\\t Se ha finalizado la ejecución la función:\", funcion.__name__)\n",
    "    return decorar"
   ]
  },
  {
   "cell_type": "code",
   "execution_count": 15,
   "metadata": {},
   "outputs": [
    {
     "data": {
      "text/plain": [
       "<function __main__.monitorizar.<locals>.decorar()>"
      ]
     },
     "execution_count": 15,
     "metadata": {},
     "output_type": "execute_result"
    }
   ],
   "source": [
    "monitorizar(hola)"
   ]
  },
  {
   "cell_type": "code",
   "execution_count": 16,
   "metadata": {},
   "outputs": [
    {
     "name": "stdout",
     "output_type": "stream",
     "text": [
      "\t Se está apunto de ejecutar la función: hola\n",
      "Hola Irving\n",
      "\t Se ha finalizado la ejecución la función: hola\n"
     ]
    }
   ],
   "source": [
    "monitorizar(hola)() #Mando a llamar al decorar de la función monitorizar"
   ]
  },
  {
   "cell_type": "code",
   "execution_count": 17,
   "metadata": {},
   "outputs": [
    {
     "name": "stdout",
     "output_type": "stream",
     "text": [
      "\t Se está apunto de ejecutar la función: adios\n",
      "Adios Irving\n",
      "\t Se ha finalizado la ejecución la función: adios\n"
     ]
    }
   ],
   "source": [
    "monitorizar(adios)()"
   ]
  },
  {
   "cell_type": "code",
   "execution_count": 18,
   "metadata": {},
   "outputs": [],
   "source": [
    "#Mando a llamar la función decoradora en hola y adios con anotaciones\n",
    "@monitorizar\n",
    "def hola():\n",
    "    print(\"Hola Irving\")\n",
    "    \n",
    "@monitorizar\n",
    "def adios():\n",
    "    print(\"Adios Irving\")"
   ]
  },
  {
   "cell_type": "code",
   "execution_count": 19,
   "metadata": {},
   "outputs": [
    {
     "name": "stdout",
     "output_type": "stream",
     "text": [
      "\t Se está apunto de ejecutar la función: hola\n",
      "Hola Irving\n",
      "\t Se ha finalizado la ejecución la función: hola\n"
     ]
    }
   ],
   "source": [
    "hola() #Ahora puedo ejecutar mas comdodamente"
   ]
  },
  {
   "cell_type": "code",
   "execution_count": 20,
   "metadata": {},
   "outputs": [
    {
     "name": "stdout",
     "output_type": "stream",
     "text": [
      "\t Se está apunto de ejecutar la función: adios\n",
      "Adios Irving\n",
      "\t Se ha finalizado la ejecución la función: adios\n"
     ]
    }
   ],
   "source": [
    "adios()"
   ]
  },
  {
   "cell_type": "code",
   "execution_count": 21,
   "metadata": {},
   "outputs": [
    {
     "name": "stdout",
     "output_type": "stream",
     "text": [
      "\t Se está apunto de ejecutar la función: saludar\n",
      "Que onda Irving\n",
      "\t Se ha finalizado la ejecución la función: saludar\n"
     ]
    }
   ],
   "source": [
    "@monitorizar\n",
    "def saludar():\n",
    "    print(\"Que onda Irving\")\n",
    "saludar()"
   ]
  },
  {
   "cell_type": "code",
   "execution_count": 22,
   "metadata": {},
   "outputs": [],
   "source": [
    "#Si quiero monitorizar con argumentos se deben hacer algunos cambios\n",
    "def monitorizar_args(funcion):\n",
    "    def decorar(*args, **kwargs):\n",
    "        print(\"\\t Se está apunto de ejecutar la función:\", funcion.__name__)\n",
    "        funcion(*args, **kwargs)\n",
    "        print(\"\\t Se ha finalizado la ejecución la función:\", funcion.__name__)\n",
    "    return decorar"
   ]
  },
  {
   "cell_type": "code",
   "execution_count": 23,
   "metadata": {},
   "outputs": [],
   "source": [
    "@monitorizar_args\n",
    "def hola(nombre):\n",
    "    print(\"Hola {}\".format(nombre))\n",
    "    \n",
    "@monitorizar_args\n",
    "def adios(nombre):\n",
    "    print(\"Adios {}\".format(nombre))"
   ]
  },
  {
   "cell_type": "code",
   "execution_count": 24,
   "metadata": {},
   "outputs": [
    {
     "name": "stdout",
     "output_type": "stream",
     "text": [
      "\t Se está apunto de ejecutar la función: hola\n",
      "Hola cuate\n",
      "\t Se ha finalizado la ejecución la función: hola\n"
     ]
    }
   ],
   "source": [
    "hola(\"cuate\")"
   ]
  },
  {
   "cell_type": "code",
   "execution_count": 25,
   "metadata": {},
   "outputs": [
    {
     "name": "stdout",
     "output_type": "stream",
     "text": [
      "\t Se está apunto de ejecutar la función: adios\n",
      "Adios cuate\n",
      "\t Se ha finalizado la ejecución la función: adios\n"
     ]
    }
   ],
   "source": [
    "adios(\"cuate\")"
   ]
  },
  {
   "cell_type": "code",
   "execution_count": 26,
   "metadata": {},
   "outputs": [],
   "source": [
    "#Experimentos\n",
    "#Experimentos\n",
    "#Experimentos\n",
    "#Experimentos"
   ]
  },
  {
   "cell_type": "code",
   "execution_count": 35,
   "metadata": {},
   "outputs": [],
   "source": [
    "def monitorizar_experimento(funcion):\n",
    "    def decorar(): #DEBE LLAMARSE \"decorar()\" para que haga el proceso\n",
    "        print(\"\\t Se está apunto de ejecutar la función:\", funcion.__name__)\n",
    "        funcion()\n",
    "        print(\"\\t Se ha finalizado la ejecución la función:\", funcion.__name__)\n",
    "    def prueba(): #No le hace caso a esta función\n",
    "        print(\"Mensaje de prueba\")\n",
    "    return decorar"
   ]
  },
  {
   "cell_type": "code",
   "execution_count": 36,
   "metadata": {},
   "outputs": [],
   "source": [
    "@monitorizar_experimento\n",
    "def hola_experimento():\n",
    "    print(\"Hola Irving\")\n",
    "    \n",
    "@monitorizar_experimento\n",
    "def adios_experimento():\n",
    "    print(\"Adios Irving\")"
   ]
  },
  {
   "cell_type": "code",
   "execution_count": 37,
   "metadata": {},
   "outputs": [
    {
     "name": "stdout",
     "output_type": "stream",
     "text": [
      "\t Se está apunto de ejecutar la función: hola_experimento\n",
      "Hola Irving\n",
      "\t Se ha finalizado la ejecución la función: hola_experimento\n"
     ]
    }
   ],
   "source": [
    "hola_experimento()"
   ]
  },
  {
   "cell_type": "code",
   "execution_count": null,
   "metadata": {},
   "outputs": [],
   "source": []
  }
 ],
 "metadata": {
  "anaconda-cloud": {},
  "kernelspec": {
   "display_name": "Python 3 (ipykernel)",
   "language": "python",
   "name": "python3"
  },
  "language_info": {
   "codemirror_mode": {
    "name": "ipython",
    "version": 3
   },
   "file_extension": ".py",
   "mimetype": "text/x-python",
   "name": "python",
   "nbconvert_exporter": "python",
   "pygments_lexer": "ipython3",
   "version": "3.11.1"
  }
 },
 "nbformat": 4,
 "nbformat_minor": 1
}
