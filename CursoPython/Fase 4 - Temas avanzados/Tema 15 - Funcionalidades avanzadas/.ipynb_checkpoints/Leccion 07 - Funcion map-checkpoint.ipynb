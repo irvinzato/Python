{
 "cells": [
  {
   "cell_type": "markdown",
   "metadata": {},
   "source": [
    "# Función map()"
   ]
  },
  {
   "cell_type": "code",
   "execution_count": 1,
   "metadata": {},
   "outputs": [
    {
     "data": {
      "text/plain": [
       "<map at 0x25cd64b58a0>"
      ]
     },
     "execution_count": 1,
     "metadata": {},
     "output_type": "execute_result"
    }
   ],
   "source": [
    "#Similar a filter con la diferencia que aplica una función sobre todos los elementos y devuelve un iterable de tipo map\n",
    "numeros = [2,5,10,23,50,33]\n",
    "\n",
    "def doblar(numero):\n",
    "    return numero * 2\n",
    "\n",
    "map(doblar, numeros) #Función a aplicar y lista a aplicar"
   ]
  },
  {
   "cell_type": "code",
   "execution_count": 2,
   "metadata": {},
   "outputs": [
    {
     "data": {
      "text/plain": [
       "4"
      ]
     },
     "execution_count": 2,
     "metadata": {},
     "output_type": "execute_result"
    }
   ],
   "source": [
    "m = map(doblar, numeros)\n",
    "next(m)"
   ]
  },
  {
   "cell_type": "code",
   "execution_count": 3,
   "metadata": {},
   "outputs": [
    {
     "data": {
      "text/plain": [
       "[10, 20, 46, 100, 66]"
      ]
     },
     "execution_count": 3,
     "metadata": {},
     "output_type": "execute_result"
    }
   ],
   "source": [
    "#Si recorri anteriormente algun valor ya no sera contado al mostrar todo el objeto obtenido como lista(cast)\n",
    "list(m)"
   ]
  },
  {
   "cell_type": "code",
   "execution_count": 4,
   "metadata": {},
   "outputs": [
    {
     "data": {
      "text/plain": [
       "[4, 10, 20, 46, 100, 66]"
      ]
     },
     "execution_count": 4,
     "metadata": {},
     "output_type": "execute_result"
    }
   ],
   "source": [
    "#Con lambda\n",
    "list( map(lambda numero: numero * 2, numeros) )"
   ]
  },
  {
   "cell_type": "code",
   "execution_count": 5,
   "metadata": {},
   "outputs": [
    {
     "data": {
      "text/plain": [
       "[6, 14, 24, 36, 50]"
      ]
     },
     "execution_count": 5,
     "metadata": {},
     "output_type": "execute_result"
    }
   ],
   "source": [
    "#Map suele usarse mucho con lambda para evitar ciclos for, ademas puede usarse sobre mas de un iterable con la condición que tenga la misma longitud\n",
    "lista_1 = [1,2,3,4,5]\n",
    "lista_2 = [6,7,8,9,10]\n",
    "\n",
    "list( map(lambda numero1, numero2: numero1 * numero2, lista_1, lista_2) )"
   ]
  },
  {
   "cell_type": "code",
   "execution_count": 6,
   "metadata": {},
   "outputs": [
    {
     "data": {
      "text/plain": [
       "[66, 168, 312, 504, 750]"
      ]
     },
     "execution_count": 6,
     "metadata": {},
     "output_type": "execute_result"
    }
   ],
   "source": [
    "lista_3 = [11,12,13,14,15]\n",
    "list( map(lambda numero1, numero2, numero3: numero1 * numero2* numero3, lista_1, lista_2, lista_3) )"
   ]
  },
  {
   "cell_type": "code",
   "execution_count": 7,
   "metadata": {},
   "outputs": [],
   "source": [
    "#Re utilizo la clase anterior para otro ejemplo pero ahora con map\n",
    "class Persona:\n",
    "    def __init__(self, nombre, edad):\n",
    "        self.nombre = nombre\n",
    "        self.edad   = edad\n",
    "        \n",
    "    def __str__(self):\n",
    "        return \"{} de {} años\".format(self.nombre, self.edad)\n",
    "    \n",
    "personas = [\n",
    "    Persona(\"Irving\" , 27),\n",
    "    Persona(\"Angeles\", 51),\n",
    "    Persona(\"Jade\"   , 11),\n",
    "    Persona(\"Jesus\"  , 34)\n",
    "]"
   ]
  },
  {
   "cell_type": "code",
   "execution_count": 8,
   "metadata": {},
   "outputs": [
    {
     "name": "stdout",
     "output_type": "stream",
     "text": [
      "Irving de 28 años\n",
      "Angeles de 52 años\n",
      "Jade de 12 años\n",
      "Jesus de 35 años\n"
     ]
    }
   ],
   "source": [
    "#Forma tradicional\n",
    "def incrementarAnio(persona):\n",
    "    persona.edad += 1\n",
    "    return persona\n",
    "\n",
    "personasInc = map(incrementarAnio, personas)\n",
    "for persona in personasInc:\n",
    "    print(persona)"
   ]
  },
  {
   "cell_type": "code",
   "execution_count": 9,
   "metadata": {},
   "outputs": [
    {
     "name": "stdout",
     "output_type": "stream",
     "text": [
      "Irving de 28 años\n",
      "Angeles de 52 años\n",
      "Jade de 12 años\n",
      "Jesus de 35 años\n"
     ]
    }
   ],
   "source": [
    "#Con lambda y objetos pero hay que jugar bien las cartas que tenemos\n",
    "personas = [\n",
    "    Persona(\"Irving\" , 27),\n",
    "    Persona(\"Angeles\", 51),\n",
    "    Persona(\"Jade\"   , 11),\n",
    "    Persona(\"Jesus\"  , 34)\n",
    "]\n",
    "\n",
    "#Como no puedo devolver solo la edad o una condición, debo devolver toda la persona con los nuevos valores\n",
    "personasInc = map(lambda persona: Persona(persona.nombre, persona.edad + 1), personas)\n",
    "\n",
    "for persona in personasInc:\n",
    "    print(persona)"
   ]
  },
  {
   "cell_type": "code",
   "execution_count": null,
   "metadata": {},
   "outputs": [],
   "source": []
  }
 ],
 "metadata": {
  "anaconda-cloud": {},
  "kernelspec": {
   "display_name": "Python 3 (ipykernel)",
   "language": "python",
   "name": "python3"
  },
  "language_info": {
   "codemirror_mode": {
    "name": "ipython",
    "version": 3
   },
   "file_extension": ".py",
   "mimetype": "text/x-python",
   "name": "python",
   "nbconvert_exporter": "python",
   "pygments_lexer": "ipython3",
   "version": "3.11.1"
  }
 },
 "nbformat": 4,
 "nbformat_minor": 1
}
