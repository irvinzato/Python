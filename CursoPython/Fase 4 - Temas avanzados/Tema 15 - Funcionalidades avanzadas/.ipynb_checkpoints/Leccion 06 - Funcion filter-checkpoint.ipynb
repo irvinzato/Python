{
 "cells": [
  {
   "cell_type": "markdown",
   "metadata": {},
   "source": [
    "# Función filter()"
   ]
  },
  {
   "cell_type": "code",
   "execution_count": 1,
   "metadata": {},
   "outputs": [
    {
     "data": {
      "text/plain": [
       "<filter at 0x244b89f4c40>"
      ]
     },
     "execution_count": 1,
     "metadata": {},
     "output_type": "execute_result"
    }
   ],
   "source": [
    "numeros = [2,5,10,23,50,33]\n",
    "\n",
    "def multiple(numero):\n",
    "    if numero % 5 == 0:\n",
    "        return True\n",
    "    \n",
    "filter(multiple, numeros) #Se le pasa la función condicional y la lista donde aplicara, obtenemos un objeto"
   ]
  },
  {
   "cell_type": "code",
   "execution_count": 2,
   "metadata": {},
   "outputs": [
    {
     "data": {
      "text/plain": [
       "[5, 10, 50]"
      ]
     },
     "execution_count": 2,
     "metadata": {},
     "output_type": "execute_result"
    }
   ],
   "source": [
    "list(filter(multiple, numeros)) #Casteo de objeto a lista"
   ]
  },
  {
   "cell_type": "code",
   "execution_count": 3,
   "metadata": {},
   "outputs": [
    {
     "data": {
      "text/plain": [
       "5"
      ]
     },
     "execution_count": 3,
     "metadata": {},
     "output_type": "execute_result"
    }
   ],
   "source": [
    "#Guardo el objeto para usarlo\n",
    "filtro = filter(multiple, numeros)\n",
    "next(filtro)"
   ]
  },
  {
   "cell_type": "code",
   "execution_count": 5,
   "metadata": {},
   "outputs": [
    {
     "data": {
      "text/plain": [
       "[5, 10, 50]"
      ]
     },
     "execution_count": 5,
     "metadata": {},
     "output_type": "execute_result"
    }
   ],
   "source": [
    "#Trsnformación con lambda y cast a lista. Mas simple que lo anterior\n",
    "list( filter(lambda numero: numero % 5 == 0, numeros) )"
   ]
  },
  {
   "cell_type": "code",
   "execution_count": 7,
   "metadata": {},
   "outputs": [],
   "source": [
    "#El verdadero potencial de filter es cuando necesitamos filtart varios objetos de una lista\n",
    "class Persona:\n",
    "    def __init__(self, nombre, edad):\n",
    "        self.nombre = nombre\n",
    "        self.edad   = edad\n",
    "        \n",
    "    def __str__(self):\n",
    "        return \"{} de {} años\".format(self.nombre, self.edad)\n",
    "    \n",
    "personas = [\n",
    "    Persona(\"Irving\" , 27),\n",
    "    Persona(\"Angeles\", 51),\n",
    "    Persona(\"Jade\"   , 11),\n",
    "    Persona(\"Jesus\"  , 34)\n",
    "]"
   ]
  },
  {
   "cell_type": "code",
   "execution_count": 8,
   "metadata": {},
   "outputs": [
    {
     "data": {
      "text/plain": [
       "[<__main__.Persona at 0x244b74bd990>,\n",
       " <__main__.Persona at 0x244b8a18290>,\n",
       " <__main__.Persona at 0x244b8a1be50>,\n",
       " <__main__.Persona at 0x244b8a18950>]"
      ]
     },
     "execution_count": 8,
     "metadata": {},
     "output_type": "execute_result"
    }
   ],
   "source": [
    "personas"
   ]
  },
  {
   "cell_type": "code",
   "execution_count": 9,
   "metadata": {},
   "outputs": [],
   "source": [
    "#Obtengo en forma de lista a los menores de edad\n",
    "menoresEdad = list( filter(lambda persona: persona.edad < 18, personas) )"
   ]
  },
  {
   "cell_type": "code",
   "execution_count": 26,
   "metadata": {},
   "outputs": [
    {
     "name": "stdout",
     "output_type": "stream",
     "text": [
      "El primer menore de edad es: Jade de 11 años\n",
      "Todos los menores de edad son:\n",
      "Jade de 11 años\n"
     ]
    }
   ],
   "source": [
    "print(\"El primer menore de edad es:\", menoresEdad[0].__str__() )\n",
    "print(\"Todos los menores de edad son:\")\n",
    "for menor in menoresEdad:\n",
    "    print(menor)"
   ]
  },
  {
   "cell_type": "code",
   "execution_count": 29,
   "metadata": {},
   "outputs": [
    {
     "name": "stdout",
     "output_type": "stream",
     "text": [
      "<filter object at 0x00000244B8EEC700>\n",
      "Irving de 27 años\n",
      "Angeles de 51 años\n",
      "Jesus de 34 años\n"
     ]
    }
   ],
   "source": [
    "#Obtendo en objeto a los mayores de edad\n",
    "mayoresEdad = filter(lambda persona: persona.edad >= 18, personas)\n",
    "print(mayoresEdad)\n",
    "for persona in mayoresEdad:\n",
    "    print(persona)"
   ]
  },
  {
   "cell_type": "code",
   "execution_count": null,
   "metadata": {},
   "outputs": [],
   "source": []
  }
 ],
 "metadata": {
  "anaconda-cloud": {},
  "kernelspec": {
   "display_name": "Python 3 (ipykernel)",
   "language": "python",
   "name": "python3"
  },
  "language_info": {
   "codemirror_mode": {
    "name": "ipython",
    "version": 3
   },
   "file_extension": ".py",
   "mimetype": "text/x-python",
   "name": "python",
   "nbconvert_exporter": "python",
   "pygments_lexer": "ipython3",
   "version": "3.11.1"
  }
 },
 "nbformat": 4,
 "nbformat_minor": 1
}
