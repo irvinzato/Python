{
 "cells": [
  {
   "cell_type": "markdown",
   "id": "9c010793",
   "metadata": {},
   "source": [
    "# Filtrado de arrays\n",
    "\n",
    "En esta lección vamos a repasar algunas funciones para filtrar arrays. Para más información sobre las funciones disponibles no olvidéis pasaros por [la documentación oficial](https://numpy.org/doc/stable/reference/index.html).\n",
    "\n",
    "## Filtro unique\n",
    "\n",
    "Devuelve un array de una dimensión borrando todos los elementos duplicados:"
   ]
  },
  {
   "cell_type": "code",
   "execution_count": 1,
   "id": "6e563e51",
   "metadata": {},
   "outputs": [],
   "source": [
    "import numpy as np"
   ]
  },
  {
   "cell_type": "code",
   "execution_count": 32,
   "id": "ad83a2e8",
   "metadata": {},
   "outputs": [],
   "source": [
    "# generamos un array con números aleatorios repetidos\n",
    "arr = np.random.randint(0, 10, 20) #20 números aleatorios entre 0 y 10"
   ]
  },
  {
   "cell_type": "code",
   "execution_count": 33,
   "id": "14ee58f3",
   "metadata": {},
   "outputs": [
    {
     "data": {
      "text/plain": [
       "array([8, 8, 7, 4, 1, 1, 0, 0, 7, 0, 1, 9, 3, 6, 8, 8, 9, 6, 9, 5])"
      ]
     },
     "execution_count": 33,
     "metadata": {},
     "output_type": "execute_result"
    }
   ],
   "source": [
    "arr"
   ]
  },
  {
   "cell_type": "code",
   "execution_count": 34,
   "id": "5747e126",
   "metadata": {},
   "outputs": [
    {
     "data": {
      "text/plain": [
       "array([0, 1, 3, 4, 5, 6, 7, 8, 9])"
      ]
     },
     "execution_count": 34,
     "metadata": {},
     "output_type": "execute_result"
    }
   ],
   "source": [
    "# aplicamos el filtro unique(Los que tenemos sin repetir)\n",
    "np.unique(arr)"
   ]
  },
  {
   "cell_type": "markdown",
   "id": "30f4d980",
   "metadata": {},
   "source": [
    "## Filtro in1d\n",
    "\n",
    "Devuelve un array de una dimensión indicando si los elementos de una lista se encuentran en otro array:"
   ]
  },
  {
   "cell_type": "code",
   "execution_count": 35,
   "id": "55108e3d",
   "metadata": {},
   "outputs": [
    {
     "data": {
      "text/plain": [
       "array([False,  True,  True, False])"
      ]
     },
     "execution_count": 35,
     "metadata": {},
     "output_type": "execute_result"
    }
   ],
   "source": [
    "np.in1d([-1, 4, 8, 12], arr) #¿Los elementos de la primer lista, ¿Se encuentran en la variable \"array\"?"
   ]
  },
  {
   "cell_type": "markdown",
   "id": "2e870fee",
   "metadata": {},
   "source": [
    "## Filtro where\n",
    "\n",
    "Sirve para generar un array filtrado a partir de una condición y un valor por defecto:"
   ]
  },
  {
   "cell_type": "code",
   "execution_count": 36,
   "id": "26ae8b4b",
   "metadata": {},
   "outputs": [
    {
     "data": {
      "text/plain": [
       "array([[-1.48074332, -3.1857505 ],\n",
       "       [ 2.06565233,  3.75884555],\n",
       "       [-1.49402487,  4.46030453]])"
      ]
     },
     "execution_count": 36,
     "metadata": {},
     "output_type": "execute_result"
    }
   ],
   "source": [
    "# generamos un array con números aleatorios\n",
    "arr_1 = np.random.uniform(-5, 5, size=[3,2])\n",
    "\n",
    "arr_1"
   ]
  },
  {
   "cell_type": "code",
   "execution_count": 37,
   "id": "26feffc3",
   "metadata": {},
   "outputs": [
    {
     "data": {
      "text/plain": [
       "array([[0.        , 0.        ],\n",
       "       [2.06565233, 3.75884555],\n",
       "       [0.        , 4.46030453]])"
      ]
     },
     "execution_count": 37,
     "metadata": {},
     "output_type": "execute_result"
    }
   ],
   "source": [
    "# creamos un filtro que establece los negativos a 0\n",
    "arr_2 = np.where(arr_1<0, 0, arr_1) #condición, lo que queremos poner, y el array donde estableceremos\n",
    "\n",
    "arr_2"
   ]
  },
  {
   "cell_type": "code",
   "execution_count": 40,
   "id": "1262fd49",
   "metadata": {},
   "outputs": [
    {
     "data": {
      "text/plain": [
       "array([[0., 0.],\n",
       "       [1., 1.],\n",
       "       [0., 1.]])"
      ]
     },
     "execution_count": 40,
     "metadata": {},
     "output_type": "execute_result"
    }
   ],
   "source": [
    "# añadimos otro filtro que establece los positivos a 1\n",
    "arr_2 = np.where(arr_2 > 0, 1, arr_2)\n",
    "\n",
    "arr_2"
   ]
  },
  {
   "cell_type": "markdown",
   "id": "c342cca9",
   "metadata": {},
   "source": [
    "## Filtros booleanos"
   ]
  },
  {
   "cell_type": "markdown",
   "id": "c52de20a",
   "metadata": {},
   "source": [
    "Permiten hacer comprobaciones lógicas en los arrays de booleanos:"
   ]
  },
  {
   "cell_type": "code",
   "execution_count": 41,
   "id": "e5fcb54d",
   "metadata": {},
   "outputs": [],
   "source": [
    "# definimos un array de booleanos\n",
    "arr_bool = np.array([True,True,True,False])"
   ]
  },
  {
   "cell_type": "code",
   "execution_count": 42,
   "id": "89bcd0c9",
   "metadata": {},
   "outputs": [
    {
     "data": {
      "text/plain": [
       "False"
      ]
     },
     "execution_count": 42,
     "metadata": {},
     "output_type": "execute_result"
    }
   ],
   "source": [
    "# comprobar si todos los elementos del array son True\n",
    "arr_bool.all()"
   ]
  },
  {
   "cell_type": "code",
   "execution_count": 43,
   "id": "e3b9c430",
   "metadata": {},
   "outputs": [
    {
     "data": {
      "text/plain": [
       "True"
      ]
     },
     "execution_count": 43,
     "metadata": {},
     "output_type": "execute_result"
    }
   ],
   "source": [
    "# comprobar si al menos un elementos del array es True\n",
    "arr_bool.any()"
   ]
  },
  {
   "cell_type": "markdown",
   "id": "457dfed1",
   "metadata": {},
   "source": [
    "También funciona con múltiples dimensiones pasando el eje:"
   ]
  },
  {
   "cell_type": "code",
   "execution_count": 47,
   "id": "10517f40",
   "metadata": {},
   "outputs": [
    {
     "data": {
      "text/plain": [
       "array([[False,  True],\n",
       "       [ True,  True],\n",
       "       [False,  True]])"
      ]
     },
     "execution_count": 47,
     "metadata": {},
     "output_type": "execute_result"
    }
   ],
   "source": [
    "# definimos un array de booleanos 2d\n",
    "arr_bool_2d = np.array(\n",
    "    [\n",
    "        [False, True],\n",
    "        [True, True],\n",
    "        [False, True]\n",
    "    ]\n",
    ")\n",
    "\n",
    "arr_bool_2d"
   ]
  },
  {
   "cell_type": "code",
   "execution_count": 55,
   "id": "80507829",
   "metadata": {},
   "outputs": [
    {
     "data": {
      "text/plain": [
       "array([False,  True])"
      ]
     },
     "execution_count": 55,
     "metadata": {},
     "output_type": "execute_result"
    }
   ],
   "source": [
    "# comprobar si alguna de las columnas es todo True\n",
    "arr_bool_2d.all(0)"
   ]
  },
  {
   "cell_type": "code",
   "execution_count": 61,
   "id": "fddb3699",
   "metadata": {},
   "outputs": [
    {
     "data": {
      "text/plain": [
       "array([ True,  True,  True])"
      ]
     },
     "execution_count": 61,
     "metadata": {},
     "output_type": "execute_result"
    }
   ],
   "source": [
    "# comprobar si alguna de las filas tiene algún True\n",
    "arr_bool_2d.any(1)"
   ]
  },
  {
   "cell_type": "code",
   "execution_count": null,
   "id": "7302f376",
   "metadata": {},
   "outputs": [],
   "source": []
  }
 ],
 "metadata": {
  "kernelspec": {
   "display_name": "Python 3 (ipykernel)",
   "language": "python",
   "name": "python3"
  },
  "language_info": {
   "codemirror_mode": {
    "name": "ipython",
    "version": 3
   },
   "file_extension": ".py",
   "mimetype": "text/x-python",
   "name": "python",
   "nbconvert_exporter": "python",
   "pygments_lexer": "ipython3",
   "version": "3.11.1"
  }
 },
 "nbformat": 4,
 "nbformat_minor": 5
}
