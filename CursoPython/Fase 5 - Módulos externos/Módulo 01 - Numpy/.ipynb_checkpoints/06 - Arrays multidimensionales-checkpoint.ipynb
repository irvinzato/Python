{
 "cells": [
  {
   "cell_type": "markdown",
   "id": "7fc2ca25",
   "metadata": {},
   "source": [
    "# Arrays multidimensionales\n",
    "\n",
    "Anteriormente vimos como trabajar con arrays de una dimensión, ahora veamos como se trasladan esos conceptos cuando tienen 2 o más dimensiones.\n",
    "\n",
    "## Índices 2D\n",
    "\n",
    "Podemos imaginar un array 2D como una `tabla` con filas y columnas:"
   ]
  },
  {
   "cell_type": "code",
   "execution_count": 1,
   "id": "b001eea0",
   "metadata": {},
   "outputs": [],
   "source": [
    "import numpy as np\n",
    "\n",
    "arr_2d = np.array(([0,5,10], [15,20,25], [30,35,40]))"
   ]
  },
  {
   "cell_type": "code",
   "execution_count": 2,
   "id": "7e2b7c95",
   "metadata": {},
   "outputs": [
    {
     "data": {
      "text/plain": [
       "array([[ 0,  5, 10],\n",
       "       [15, 20, 25],\n",
       "       [30, 35, 40]])"
      ]
     },
     "execution_count": 2,
     "metadata": {},
     "output_type": "execute_result"
    }
   ],
   "source": [
    "arr_2d"
   ]
  },
  {
   "cell_type": "markdown",
   "id": "0c985514",
   "metadata": {},
   "source": [
    "Si tenemos dos dimensiones necesitamos dos índices, uno para las filas y otro para las columnas:"
   ]
  },
  {
   "cell_type": "code",
   "execution_count": 3,
   "id": "8d94b056",
   "metadata": {},
   "outputs": [
    {
     "data": {
      "text/plain": [
       "array([ 0,  5, 10])"
      ]
     },
     "execution_count": 3,
     "metadata": {},
     "output_type": "execute_result"
    }
   ],
   "source": [
    "# primera fila\n",
    "arr_2d[0]"
   ]
  },
  {
   "cell_type": "code",
   "execution_count": 4,
   "id": "517fa67e",
   "metadata": {},
   "outputs": [
    {
     "data": {
      "text/plain": [
       "0"
      ]
     },
     "execution_count": 4,
     "metadata": {},
     "output_type": "execute_result"
    }
   ],
   "source": [
    "# primera fila y primera columna\n",
    "arr_2d[0][0]"
   ]
  },
  {
   "cell_type": "code",
   "execution_count": 5,
   "id": "53cd1a36",
   "metadata": {},
   "outputs": [
    {
     "data": {
      "text/plain": [
       "40"
      ]
     },
     "execution_count": 5,
     "metadata": {},
     "output_type": "execute_result"
    }
   ],
   "source": [
    "# última fila y última columna\n",
    "arr_2d[-1][-1]"
   ]
  },
  {
   "cell_type": "code",
   "execution_count": 6,
   "id": "0dcb5387",
   "metadata": {},
   "outputs": [],
   "source": [
    "# edición de la primera columna en la última fila\n",
    "arr_2d[-1][0] = 99"
   ]
  },
  {
   "cell_type": "code",
   "execution_count": 7,
   "id": "8272e3af",
   "metadata": {},
   "outputs": [
    {
     "data": {
      "text/plain": [
       "array([[ 0,  5, 10],\n",
       "       [15, 20, 25],\n",
       "       [99, 35, 40]])"
      ]
     },
     "execution_count": 7,
     "metadata": {},
     "output_type": "execute_result"
    }
   ],
   "source": [
    "arr_2d"
   ]
  },
  {
   "cell_type": "markdown",
   "id": "40ecc35c",
   "metadata": {},
   "source": [
    "## Slicing 2D\n",
    "\n",
    "Podemos utilizr el slicing doblando los indices de inicio y fin separándolos con una coma:"
   ]
  },
  {
   "cell_type": "code",
   "execution_count": 8,
   "id": "fb5486f6",
   "metadata": {},
   "outputs": [
    {
     "data": {
      "text/plain": [
       "array([[ 0,  5, 10],\n",
       "       [15, 20, 25],\n",
       "       [99, 35, 40]])"
      ]
     },
     "execution_count": 8,
     "metadata": {},
     "output_type": "execute_result"
    }
   ],
   "source": [
    "# subarray con todas las filas y columnas\n",
    "arr_2d[:,:]"
   ]
  },
  {
   "cell_type": "code",
   "execution_count": 9,
   "id": "e95d782d",
   "metadata": {},
   "outputs": [
    {
     "data": {
      "text/plain": [
       "array([[ 0,  5, 10],\n",
       "       [15, 20, 25]])"
      ]
     },
     "execution_count": 9,
     "metadata": {},
     "output_type": "execute_result"
    }
   ],
   "source": [
    "# subarray de las dos primeras filas\n",
    "arr_2d[:2,:]"
   ]
  },
  {
   "cell_type": "code",
   "execution_count": 10,
   "id": "9a5c82b7",
   "metadata": {},
   "outputs": [
    {
     "data": {
      "text/plain": [
       "array([[ 0],\n",
       "       [15],\n",
       "       [99]])"
      ]
     },
     "execution_count": 10,
     "metadata": {},
     "output_type": "execute_result"
    }
   ],
   "source": [
    "# subarray de la primera columna\n",
    "arr_2d[:,:1]"
   ]
  },
  {
   "cell_type": "markdown",
   "id": "97a16722",
   "metadata": {},
   "source": [
    "Mediante esta lógica podemos modificar los elementos masivamente:"
   ]
  },
  {
   "cell_type": "code",
   "execution_count": 11,
   "id": "9f5b4e3d",
   "metadata": {},
   "outputs": [],
   "source": [
    "# edición masiva de la segunda columna \n",
    "arr_2d[:,1:2] = 99"
   ]
  },
  {
   "cell_type": "code",
   "execution_count": 12,
   "id": "8a6812b9",
   "metadata": {},
   "outputs": [
    {
     "data": {
      "text/plain": [
       "array([[ 0, 99, 10],\n",
       "       [15, 99, 25],\n",
       "       [99, 99, 40]])"
      ]
     },
     "execution_count": 12,
     "metadata": {},
     "output_type": "execute_result"
    }
   ],
   "source": [
    "arr_2d"
   ]
  },
  {
   "cell_type": "code",
   "execution_count": 13,
   "id": "0f37a79f",
   "metadata": {},
   "outputs": [],
   "source": [
    "# edición masiva de la última fila\n",
    "arr_2d[-1,:] = 88"
   ]
  },
  {
   "cell_type": "code",
   "execution_count": 14,
   "id": "d883c087",
   "metadata": {},
   "outputs": [
    {
     "data": {
      "text/plain": [
       "array([[ 0, 99, 10],\n",
       "       [15, 99, 25],\n",
       "       [88, 88, 88]])"
      ]
     },
     "execution_count": 14,
     "metadata": {},
     "output_type": "execute_result"
    }
   ],
   "source": [
    "arr_2d"
   ]
  },
  {
   "cell_type": "markdown",
   "id": "0d3b63d1",
   "metadata": {},
   "source": [
    "## Fancy index\n",
    "\n",
    "Esta técnica se basa en pasarle una lista al array haciendo referencia a las filas donde queremos acceder."
   ]
  },
  {
   "cell_type": "code",
   "execution_count": 15,
   "id": "8baef55e",
   "metadata": {},
   "outputs": [],
   "source": [
    "# creamos un array 2d de ceros\n",
    "arr_2d = np.zeros((5,10))"
   ]
  },
  {
   "cell_type": "code",
   "execution_count": 16,
   "id": "d55f2a28",
   "metadata": {},
   "outputs": [
    {
     "data": {
      "text/plain": [
       "array([[0., 0., 0., 0., 0., 0., 0., 0., 0., 0.],\n",
       "       [0., 0., 0., 0., 0., 0., 0., 0., 0., 0.],\n",
       "       [0., 0., 0., 0., 0., 0., 0., 0., 0., 0.],\n",
       "       [0., 0., 0., 0., 0., 0., 0., 0., 0., 0.],\n",
       "       [0., 0., 0., 0., 0., 0., 0., 0., 0., 0.]])"
      ]
     },
     "execution_count": 16,
     "metadata": {},
     "output_type": "execute_result"
    }
   ],
   "source": [
    "arr_2d"
   ]
  },
  {
   "cell_type": "code",
   "execution_count": 17,
   "id": "0f1829e9",
   "metadata": {},
   "outputs": [],
   "source": [
    "# modificación masiva de la primera, tercera y última fila\n",
    "arr_2d[[0,2,-1]] = 5"
   ]
  },
  {
   "cell_type": "code",
   "execution_count": 18,
   "id": "1140d2ae",
   "metadata": {},
   "outputs": [
    {
     "data": {
      "text/plain": [
       "array([[5., 5., 5., 5., 5., 5., 5., 5., 5., 5.],\n",
       "       [0., 0., 0., 0., 0., 0., 0., 0., 0., 0.],\n",
       "       [5., 5., 5., 5., 5., 5., 5., 5., 5., 5.],\n",
       "       [0., 0., 0., 0., 0., 0., 0., 0., 0., 0.],\n",
       "       [5., 5., 5., 5., 5., 5., 5., 5., 5., 5.]])"
      ]
     },
     "execution_count": 18,
     "metadata": {},
     "output_type": "execute_result"
    }
   ],
   "source": [
    "arr_2d"
   ]
  },
  {
   "cell_type": "markdown",
   "id": "6a8c4854",
   "metadata": {},
   "source": [
    "Podemos consultar el array a voluntad, incluso repitiendo filas:"
   ]
  },
  {
   "cell_type": "code",
   "execution_count": 19,
   "id": "4269eb95",
   "metadata": {},
   "outputs": [
    {
     "data": {
      "text/plain": [
       "array([[5., 5., 5., 5., 5., 5., 5., 5., 5., 5.],\n",
       "       [0., 0., 0., 0., 0., 0., 0., 0., 0., 0.],\n",
       "       [0., 0., 0., 0., 0., 0., 0., 0., 0., 0.],\n",
       "       [0., 0., 0., 0., 0., 0., 0., 0., 0., 0.],\n",
       "       [5., 5., 5., 5., 5., 5., 5., 5., 5., 5.]])"
      ]
     },
     "execution_count": 19,
     "metadata": {},
     "output_type": "execute_result"
    }
   ],
   "source": [
    "arr_2d[[0,1,1,1,0]]"
   ]
  },
  {
   "cell_type": "markdown",
   "id": "a17951ed",
   "metadata": {},
   "source": [
    "## Bucles"
   ]
  },
  {
   "cell_type": "markdown",
   "id": "7bccc7d6",
   "metadata": {},
   "source": [
    "Podemos recorrer las filas de un array con un bucle `for` como si de una lista se tratase:"
   ]
  },
  {
   "cell_type": "code",
   "execution_count": 20,
   "id": "167b6aa8",
   "metadata": {},
   "outputs": [
    {
     "name": "stdout",
     "output_type": "stream",
     "text": [
      "[5. 5. 5. 5. 5. 5. 5. 5. 5. 5.]\n",
      "[0. 0. 0. 0. 0. 0. 0. 0. 0. 0.]\n",
      "[5. 5. 5. 5. 5. 5. 5. 5. 5. 5.]\n",
      "[0. 0. 0. 0. 0. 0. 0. 0. 0. 0.]\n",
      "[5. 5. 5. 5. 5. 5. 5. 5. 5. 5.]\n"
     ]
    }
   ],
   "source": [
    "for fila in arr_2d:\n",
    "    print(fila)"
   ]
  },
  {
   "cell_type": "markdown",
   "id": "0b6ad150",
   "metadata": {},
   "source": [
    "Utilizando enumeradores podemos sacar el índice de cada posición de la fila y el de la columna y asignarle algo:"
   ]
  },
  {
   "cell_type": "code",
   "execution_count": 23,
   "id": "28e45313",
   "metadata": {},
   "outputs": [
    {
     "name": "stdout",
     "output_type": "stream",
     "text": [
      "0 [0. 1. 2. 3. 4. 5. 6. 7. 8. 9.]\n",
      "0 0.0\n",
      "1 1.0\n",
      "2 2.0\n",
      "3 3.0\n",
      "4 4.0\n",
      "5 5.0\n",
      "6 6.0\n",
      "7 7.0\n",
      "8 8.0\n",
      "9 9.0\n",
      "1 [10. 11. 12. 13. 14. 15. 16. 17. 18. 19.]\n",
      "0 10.0\n",
      "1 11.0\n",
      "2 12.0\n",
      "3 13.0\n",
      "4 14.0\n",
      "5 15.0\n",
      "6 16.0\n",
      "7 17.0\n",
      "8 18.0\n",
      "9 19.0\n",
      "2 [20. 21. 22. 23. 24. 25. 26. 27. 28. 29.]\n",
      "0 20.0\n",
      "1 21.0\n",
      "2 22.0\n",
      "3 23.0\n",
      "4 24.0\n",
      "5 25.0\n",
      "6 26.0\n",
      "7 27.0\n",
      "8 28.0\n",
      "9 29.0\n",
      "3 [30. 31. 32. 33. 34. 35. 36. 37. 38. 39.]\n",
      "0 30.0\n",
      "1 31.0\n",
      "2 32.0\n",
      "3 33.0\n",
      "4 34.0\n",
      "5 35.0\n",
      "6 36.0\n",
      "7 37.0\n",
      "8 38.0\n",
      "9 39.0\n",
      "4 [40. 41. 42. 43. 44. 45. 46. 47. 48. 49.]\n",
      "0 40.0\n",
      "1 41.0\n",
      "2 42.0\n",
      "3 43.0\n",
      "4 44.0\n",
      "5 45.0\n",
      "6 46.0\n",
      "7 47.0\n",
      "8 48.0\n",
      "9 49.0\n"
     ]
    }
   ],
   "source": [
    "for i,fila in enumerate(arr_2d):\n",
    "    print(i, fila)\n",
    "    for j,columna in enumerate(fila):\n",
    "        print(j, columna)\n",
    "        arr_2d[i][j] = len(fila) * i + j"
   ]
  },
  {
   "cell_type": "code",
   "execution_count": 22,
   "id": "869a5864",
   "metadata": {},
   "outputs": [
    {
     "data": {
      "text/plain": [
       "array([[ 0.,  1.,  2.,  3.,  4.,  5.,  6.,  7.,  8.,  9.],\n",
       "       [10., 11., 12., 13., 14., 15., 16., 17., 18., 19.],\n",
       "       [20., 21., 22., 23., 24., 25., 26., 27., 28., 29.],\n",
       "       [30., 31., 32., 33., 34., 35., 36., 37., 38., 39.],\n",
       "       [40., 41., 42., 43., 44., 45., 46., 47., 48., 49.]])"
      ]
     },
     "execution_count": 22,
     "metadata": {},
     "output_type": "execute_result"
    }
   ],
   "source": [
    "arr_2d"
   ]
  },
  {
   "cell_type": "markdown",
   "id": "8139e3f6",
   "metadata": {},
   "source": [
    "## Arrays 3D y más dimensiones\n",
    "\n",
    "Hasta ahora hemos trabajado los arrays de 1 y 2 dimensiones, ¿será posible hacer lo mismo con 3 o más dimensiones?\n",
    "\n",
    "El truco para manejar arrays de más dimensiones es anidar niveles de profundidad.\n",
    "\n",
    "Vamos a recrear los 3 niveles de profundidad paso a paso para un array muy simple de 2x2x2:"
   ]
  },
  {
   "cell_type": "code",
   "execution_count": 24,
   "id": "d9735b99",
   "metadata": {},
   "outputs": [],
   "source": [
    "# primer nivel con 2 de ancho \n",
    "arr_1d = np.array(\n",
    "    [1, 2]\n",
    ")"
   ]
  },
  {
   "cell_type": "code",
   "execution_count": 25,
   "id": "f8cf22ca",
   "metadata": {},
   "outputs": [
    {
     "data": {
      "text/plain": [
       "array([1, 2])"
      ]
     },
     "execution_count": 25,
     "metadata": {},
     "output_type": "execute_result"
    }
   ],
   "source": [
    "arr_1d"
   ]
  },
  {
   "cell_type": "code",
   "execution_count": 26,
   "id": "dc54a234",
   "metadata": {},
   "outputs": [],
   "source": [
    "# segundo nivel con 2 de ancho y 2 de alto (2*2=4)\n",
    "arr_2d = np.array(\n",
    "    [\n",
    "        [1, 2],\n",
    "        [3, 4]\n",
    "    ]\n",
    ")"
   ]
  },
  {
   "cell_type": "code",
   "execution_count": 27,
   "id": "bac9668c",
   "metadata": {},
   "outputs": [
    {
     "data": {
      "text/plain": [
       "array([[1, 2],\n",
       "       [3, 4]])"
      ]
     },
     "execution_count": 27,
     "metadata": {},
     "output_type": "execute_result"
    }
   ],
   "source": [
    "arr_2d"
   ]
  },
  {
   "cell_type": "code",
   "execution_count": 28,
   "id": "48401d39",
   "metadata": {},
   "outputs": [],
   "source": [
    "# tercer nivel con 2 de ancho, 2 de alto y 2 de profundidad (2*2*2=8)\n",
    "arr_3d = np.array(\n",
    "    [\n",
    "        [\n",
    "            [1, 2],\n",
    "            [3, 4]\n",
    "        ],\n",
    "        [\n",
    "            [5, 6],\n",
    "            [7, 8]\n",
    "        ]\n",
    "    ]\n",
    ")"
   ]
  },
  {
   "cell_type": "code",
   "execution_count": 29,
   "id": "f2090440",
   "metadata": {},
   "outputs": [
    {
     "data": {
      "text/plain": [
       "array([[[1, 2],\n",
       "        [3, 4]],\n",
       "\n",
       "       [[5, 6],\n",
       "        [7, 8]]])"
      ]
     },
     "execution_count": 29,
     "metadata": {},
     "output_type": "execute_result"
    }
   ],
   "source": [
    "arr_3d"
   ]
  },
  {
   "cell_type": "markdown",
   "id": "04fcb3ea",
   "metadata": {},
   "source": [
    "Con esto tenemos 3 dimensiones pero podemos añadir más.\n",
    "\n",
    "El concepto es difícil de imaginar, nosotros únicamente percibimos 3 dimensiones pero si lo entendemos como una ramificación dónde para cada elemento hay otra lista con varios elementos, entonces podemos hacernos una idea:"
   ]
  },
  {
   "cell_type": "code",
   "execution_count": 30,
   "id": "c4a40c88",
   "metadata": {},
   "outputs": [],
   "source": [
    "# Cuarto nivel con 2 de ancho, 2 de alto, 2 de profundidad y 2 de... ¿espacio/tiempo? xD\n",
    "arr_4d = np.array(\n",
    "    [\n",
    "        [\n",
    "            [\n",
    "                [1, 2],\n",
    "                [3, 4]\n",
    "            ],\n",
    "            [\n",
    "                [5, 6],\n",
    "                [7, 8]\n",
    "            ]\n",
    "        ],\n",
    "        [\n",
    "            [\n",
    "                [9, 10],\n",
    "                [11, 12]\n",
    "            ],\n",
    "            [\n",
    "                [13, 14],\n",
    "                [15, 16]\n",
    "            ]\n",
    "        ]\n",
    "    ]\n",
    ")"
   ]
  },
  {
   "cell_type": "code",
   "execution_count": 31,
   "id": "5135238a",
   "metadata": {},
   "outputs": [
    {
     "data": {
      "text/plain": [
       "array([[[[ 1,  2],\n",
       "         [ 3,  4]],\n",
       "\n",
       "        [[ 5,  6],\n",
       "         [ 7,  8]]],\n",
       "\n",
       "\n",
       "       [[[ 9, 10],\n",
       "         [11, 12]],\n",
       "\n",
       "        [[13, 14],\n",
       "         [15, 16]]]])"
      ]
     },
     "execution_count": 31,
     "metadata": {},
     "output_type": "execute_result"
    }
   ],
   "source": [
    "arr_4d"
   ]
  },
  {
   "cell_type": "markdown",
   "id": "678f0c78",
   "metadata": {},
   "source": [
    "Podemos crear arrays multidimensionales con las funciones de pre-generación que ya vimos:"
   ]
  },
  {
   "cell_type": "code",
   "execution_count": 32,
   "id": "1f983815",
   "metadata": {},
   "outputs": [],
   "source": [
    "# array 3d de ceros 2x2x2\n",
    "arr_3d = np.zeros([2,2,2])"
   ]
  },
  {
   "cell_type": "code",
   "execution_count": 33,
   "id": "86082803",
   "metadata": {},
   "outputs": [
    {
     "data": {
      "text/plain": [
       "array([[[0., 0.],\n",
       "        [0., 0.]],\n",
       "\n",
       "       [[0., 0.],\n",
       "        [0., 0.]]])"
      ]
     },
     "execution_count": 33,
     "metadata": {},
     "output_type": "execute_result"
    }
   ],
   "source": [
    "arr_3d"
   ]
  },
  {
   "cell_type": "code",
   "execution_count": 34,
   "id": "790cb88f",
   "metadata": {},
   "outputs": [],
   "source": [
    "# array 4d de unos 2x2x2x2\n",
    "arr_4d = np.ones([2,2,2,2])"
   ]
  },
  {
   "cell_type": "code",
   "execution_count": 35,
   "id": "24b68efe",
   "metadata": {},
   "outputs": [
    {
     "data": {
      "text/plain": [
       "array([[[[1., 1.],\n",
       "         [1., 1.]],\n",
       "\n",
       "        [[1., 1.],\n",
       "         [1., 1.]]],\n",
       "\n",
       "\n",
       "       [[[1., 1.],\n",
       "         [1., 1.]],\n",
       "\n",
       "        [[1., 1.],\n",
       "         [1., 1.]]]])"
      ]
     },
     "execution_count": 35,
     "metadata": {},
     "output_type": "execute_result"
    }
   ],
   "source": [
    "arr_4d"
   ]
  },
  {
   "cell_type": "markdown",
   "id": "bf4a8b6c",
   "metadata": {},
   "source": [
    "También podemos utilizar una función llamada `reshape` para reformar las dimensiones y sus tamaños:"
   ]
  },
  {
   "cell_type": "code",
   "execution_count": 36,
   "id": "2c101560",
   "metadata": {},
   "outputs": [],
   "source": [
    "# reshape de un rango con 9 elementos a una matriz 3x3\n",
    "arr_2d = np.arange(9).reshape(3,3)"
   ]
  },
  {
   "cell_type": "code",
   "execution_count": 37,
   "id": "23c534f5",
   "metadata": {},
   "outputs": [
    {
     "data": {
      "text/plain": [
       "array([[0, 1, 2],\n",
       "       [3, 4, 5],\n",
       "       [6, 7, 8]])"
      ]
     },
     "execution_count": 37,
     "metadata": {},
     "output_type": "execute_result"
    }
   ],
   "source": [
    "arr_2d"
   ]
  },
  {
   "cell_type": "markdown",
   "id": "bde53ba6",
   "metadata": {},
   "source": [
    "Evidentemente hay que seguir un patrón lógico, el número de elementos tiene que coincidir con el tamaño de las dimensiones multiplicadas:"
   ]
  },
  {
   "cell_type": "code",
   "execution_count": 38,
   "id": "62d895e0",
   "metadata": {},
   "outputs": [
    {
     "ename": "ValueError",
     "evalue": "cannot reshape array of size 9 into shape (3,3,3)",
     "output_type": "error",
     "traceback": [
      "\u001b[1;31m---------------------------------------------------------------------------\u001b[0m",
      "\u001b[1;31mValueError\u001b[0m                                Traceback (most recent call last)",
      "Cell \u001b[1;32mIn[38], line 2\u001b[0m\n\u001b[0;32m      1\u001b[0m \u001b[38;5;66;03m# esto no funcionará: 9 != 3x3x3\u001b[39;00m\n\u001b[1;32m----> 2\u001b[0m arr_3d \u001b[38;5;241m=\u001b[39m \u001b[43mnp\u001b[49m\u001b[38;5;241;43m.\u001b[39;49m\u001b[43marange\u001b[49m\u001b[43m(\u001b[49m\u001b[38;5;241;43m9\u001b[39;49m\u001b[43m)\u001b[49m\u001b[38;5;241;43m.\u001b[39;49m\u001b[43mreshape\u001b[49m\u001b[43m(\u001b[49m\u001b[38;5;241;43m3\u001b[39;49m\u001b[43m,\u001b[49m\u001b[38;5;241;43m3\u001b[39;49m\u001b[43m,\u001b[49m\u001b[38;5;241;43m3\u001b[39;49m\u001b[43m)\u001b[49m\n",
      "\u001b[1;31mValueError\u001b[0m: cannot reshape array of size 9 into shape (3,3,3)"
     ]
    }
   ],
   "source": [
    "# esto no funcionará: 9 != 3x3x3\n",
    "arr_3d = np.arange(9).reshape(3,3,3)"
   ]
  },
  {
   "cell_type": "code",
   "execution_count": 39,
   "id": "01f3f0ba",
   "metadata": {},
   "outputs": [],
   "source": [
    "# esto sí que funcionará: 27 == 3x3x3\n",
    "arr_3d = np.arange(27).reshape(3,3,3)"
   ]
  },
  {
   "cell_type": "code",
   "execution_count": 40,
   "id": "99b3d822",
   "metadata": {},
   "outputs": [
    {
     "data": {
      "text/plain": [
       "array([[[ 0,  1,  2],\n",
       "        [ 3,  4,  5],\n",
       "        [ 6,  7,  8]],\n",
       "\n",
       "       [[ 9, 10, 11],\n",
       "        [12, 13, 14],\n",
       "        [15, 16, 17]],\n",
       "\n",
       "       [[18, 19, 20],\n",
       "        [21, 22, 23],\n",
       "        [24, 25, 26]]])"
      ]
     },
     "execution_count": 40,
     "metadata": {},
     "output_type": "execute_result"
    }
   ],
   "source": [
    "arr_3d"
   ]
  },
  {
   "cell_type": "code",
   "execution_count": null,
   "id": "8495b115",
   "metadata": {},
   "outputs": [],
   "source": []
  }
 ],
 "metadata": {
  "kernelspec": {
   "display_name": "Python 3 (ipykernel)",
   "language": "python",
   "name": "python3"
  },
  "language_info": {
   "codemirror_mode": {
    "name": "ipython",
    "version": 3
   },
   "file_extension": ".py",
   "mimetype": "text/x-python",
   "name": "python",
   "nbconvert_exporter": "python",
   "pygments_lexer": "ipython3",
   "version": "3.11.1"
  }
 },
 "nbformat": 4,
 "nbformat_minor": 5
}
