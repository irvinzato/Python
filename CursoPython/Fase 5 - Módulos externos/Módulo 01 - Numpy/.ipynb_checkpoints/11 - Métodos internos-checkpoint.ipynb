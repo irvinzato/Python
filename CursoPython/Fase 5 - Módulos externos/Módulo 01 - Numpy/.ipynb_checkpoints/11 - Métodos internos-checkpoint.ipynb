{
 "cells": [
  {
   "cell_type": "markdown",
   "id": "edf880a4",
   "metadata": {},
   "source": [
    "# Métodos internos\n",
    "\n",
    "En esta lección vamos a repasar algunos métodos estadísticos y de ordenación que incluyen las instancias de la clase array. Para más información tenéis [la documentación oficial](https://numpy.org/doc/stable/reference/index.html).\n",
    "\n",
    "## Métodos estadísticos"
   ]
  },
  {
   "cell_type": "code",
   "execution_count": 3,
   "id": "421862c8",
   "metadata": {},
   "outputs": [
    {
     "data": {
      "text/plain": [
       "array([[1, 2, 3],\n",
       "       [4, 5, 6]])"
      ]
     },
     "execution_count": 3,
     "metadata": {},
     "output_type": "execute_result"
    }
   ],
   "source": [
    "import numpy as np\n",
    "\n",
    "# generamos un array de 2*3 con números aleatorios\n",
    "arr = np.arange(1,7).reshape(2,3)\n",
    "\n",
    "arr"
   ]
  },
  {
   "cell_type": "code",
   "execution_count": 4,
   "id": "92b05561",
   "metadata": {},
   "outputs": [
    {
     "data": {
      "text/plain": [
       "21"
      ]
     },
     "execution_count": 4,
     "metadata": {},
     "output_type": "execute_result"
    }
   ],
   "source": [
    "# sumatorio\n",
    "arr.sum()"
   ]
  },
  {
   "cell_type": "code",
   "execution_count": 5,
   "id": "c2436d37",
   "metadata": {},
   "outputs": [
    {
     "data": {
      "text/plain": [
       "3.5"
      ]
     },
     "execution_count": 5,
     "metadata": {},
     "output_type": "execute_result"
    }
   ],
   "source": [
    "# media\n",
    "arr.mean()"
   ]
  },
  {
   "cell_type": "code",
   "execution_count": 6,
   "id": "76d623cb",
   "metadata": {},
   "outputs": [
    {
     "data": {
      "text/plain": [
       "1.707825127659933"
      ]
     },
     "execution_count": 6,
     "metadata": {},
     "output_type": "execute_result"
    }
   ],
   "source": [
    "# desviación estándard\n",
    "arr.std()"
   ]
  },
  {
   "cell_type": "code",
   "execution_count": 7,
   "id": "484176bd",
   "metadata": {},
   "outputs": [
    {
     "data": {
      "text/plain": [
       "2.9166666666666665"
      ]
     },
     "execution_count": 7,
     "metadata": {},
     "output_type": "execute_result"
    }
   ],
   "source": [
    "# varianza\n",
    "arr.var()"
   ]
  },
  {
   "cell_type": "markdown",
   "id": "8643fc28",
   "metadata": {},
   "source": [
    "## Métodos de ordenación"
   ]
  },
  {
   "cell_type": "code",
   "execution_count": 8,
   "id": "4bb9fb7f",
   "metadata": {},
   "outputs": [
    {
     "data": {
      "text/plain": [
       "array([[  2,  -2,   9],\n",
       "       [ -4, -10,  -5],\n",
       "       [ -6, -10,  -5]])"
      ]
     },
     "execution_count": 8,
     "metadata": {},
     "output_type": "execute_result"
    }
   ],
   "source": [
    "# generamos un nuevo array aleatorio\n",
    "arr = np.random.randint(-10,10,[3,3])\n",
    "\n",
    "arr"
   ]
  },
  {
   "cell_type": "code",
   "execution_count": 10,
   "id": "637edce6",
   "metadata": {},
   "outputs": [
    {
     "data": {
      "text/plain": [
       "array([[ -2,   2,   9],\n",
       "       [-10,  -5,  -4],\n",
       "       [-10,  -6,  -5]])"
      ]
     },
     "execution_count": 10,
     "metadata": {},
     "output_type": "execute_result"
    }
   ],
   "source": [
    "# Ordenar elementos horizontalmente(fila)\n",
    "arr.sort()\n",
    "\n",
    "arr"
   ]
  },
  {
   "cell_type": "code",
   "execution_count": 12,
   "id": "16b14047",
   "metadata": {},
   "outputs": [
    {
     "data": {
      "text/plain": [
       "array([[-10,  -6,  -5],\n",
       "       [-10,  -5,  -4],\n",
       "       [ -2,   2,   9]])"
      ]
     },
     "execution_count": 12,
     "metadata": {},
     "output_type": "execute_result"
    }
   ],
   "source": [
    "# Ordenar elementos verticalmente(columnas)\n",
    "arr.sort(0)\n",
    "\n",
    "arr"
   ]
  },
  {
   "cell_type": "code",
   "execution_count": null,
   "id": "5a0bf84e",
   "metadata": {},
   "outputs": [],
   "source": []
  }
 ],
 "metadata": {
  "kernelspec": {
   "display_name": "Python 3 (ipykernel)",
   "language": "python",
   "name": "python3"
  },
  "language_info": {
   "codemirror_mode": {
    "name": "ipython",
    "version": 3
   },
   "file_extension": ".py",
   "mimetype": "text/x-python",
   "name": "python",
   "nbconvert_exporter": "python",
   "pygments_lexer": "ipython3",
   "version": "3.11.1"
  }
 },
 "nbformat": 4,
 "nbformat_minor": 5
}
