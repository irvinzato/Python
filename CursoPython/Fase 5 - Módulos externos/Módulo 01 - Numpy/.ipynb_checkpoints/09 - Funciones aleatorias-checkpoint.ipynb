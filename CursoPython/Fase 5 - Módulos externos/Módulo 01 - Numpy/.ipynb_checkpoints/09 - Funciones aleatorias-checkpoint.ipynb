{
 "cells": [
  {
   "cell_type": "markdown",
   "id": "cf5d45f9",
   "metadata": {},
   "source": [
    "# Funciones aleatorias\n",
    "\n",
    "Hablando de funciones no podemos olvidar las funciones aleatorias encontradas en el módulo `random`. [En la documentación oficial](https://numpy.org/doc/stable/reference/random/index.html) encontraréis el listado completo con ejemplos de uso.\n",
    "\n",
    "Tenemos funciones para generar arrays con `datos aleatorios` y `permutaciones`. También hay muchas enfocadas a generar muestras de distribuciones de probabilidad pensadas para visualizar estadística.\n",
    "\n",
    "Vamos a practicar algunas de las dos primeras.\n",
    "\n",
    "## Datos aleatorios"
   ]
  },
  {
   "cell_type": "code",
   "execution_count": 1,
   "id": "d6d5857a",
   "metadata": {},
   "outputs": [],
   "source": [
    "import numpy as np"
   ]
  },
  {
   "cell_type": "code",
   "execution_count": 2,
   "id": "7959ffbb",
   "metadata": {},
   "outputs": [
    {
     "data": {
      "text/plain": [
       "0.9140869411529414"
      ]
     },
     "execution_count": 2,
     "metadata": {},
     "output_type": "execute_result"
    }
   ],
   "source": [
    "# número decimal entre 0 y 1\n",
    "np.random.rand()"
   ]
  },
  {
   "cell_type": "code",
   "execution_count": 3,
   "id": "df6d6818",
   "metadata": {},
   "outputs": [
    {
     "data": {
      "text/plain": [
       "array([0.14867775, 0.42469939, 0.6297093 , 0.93482237])"
      ]
     },
     "execution_count": 3,
     "metadata": {},
     "output_type": "execute_result"
    }
   ],
   "source": [
    "# array 1D de decimales entre 0 y 1\n",
    "np.random.rand(4)"
   ]
  },
  {
   "cell_type": "code",
   "execution_count": 4,
   "id": "2963980d",
   "metadata": {},
   "outputs": [
    {
     "data": {
      "text/plain": [
       "array([[0.02062554, 0.38466819],\n",
       "       [0.96122153, 0.72241708],\n",
       "       [0.92570625, 0.50913955],\n",
       "       [0.32903646, 0.71875043]])"
      ]
     },
     "execution_count": 4,
     "metadata": {},
     "output_type": "execute_result"
    }
   ],
   "source": [
    "# array 2D de decimales entre 0 y 1\n",
    "np.random.rand(4,2)"
   ]
  },
  {
   "cell_type": "code",
   "execution_count": 5,
   "id": "0b38a3ae",
   "metadata": {},
   "outputs": [
    {
     "data": {
      "text/plain": [
       "array([[[1.62586904, 7.25205149],\n",
       "        [3.85997754, 4.66033966]],\n",
       "\n",
       "       [[4.66839165, 6.29724833],\n",
       "        [1.27220814, 7.13192435]]])"
      ]
     },
     "execution_count": 5,
     "metadata": {},
     "output_type": "execute_result"
    }
   ],
   "source": [
    "# array 3D de decimales entre 0 y N\n",
    "np.random.uniform(10, size=[2,2,2])"
   ]
  },
  {
   "cell_type": "code",
   "execution_count": 6,
   "id": "095c18e5",
   "metadata": {},
   "outputs": [
    {
     "data": {
      "text/plain": [
       "array([[[[ 1.40795335,  1.42019904],\n",
       "         [-6.7038252 , -5.55195196]],\n",
       "\n",
       "        [[ 1.24737526,  9.89044035],\n",
       "         [ 3.80458921, -1.64479611]]],\n",
       "\n",
       "\n",
       "       [[[ 1.39514634,  8.98384844],\n",
       "         [ 2.54617879, -9.75845259]],\n",
       "\n",
       "        [[ 0.55732815,  2.80912623],\n",
       "         [ 4.38093679,  1.57473467]]]])"
      ]
     },
     "execution_count": 6,
     "metadata": {},
     "output_type": "execute_result"
    }
   ],
   "source": [
    "# array 4D de decimales entre -N y M\n",
    "np.random.uniform(-10, 10, size=[2,2,2,2])"
   ]
  },
  {
   "cell_type": "code",
   "execution_count": 8,
   "id": "9039ccb1",
   "metadata": {},
   "outputs": [
    {
     "data": {
      "text/plain": [
       "4"
      ]
     },
     "execution_count": 8,
     "metadata": {},
     "output_type": "execute_result"
    }
   ],
   "source": [
    "# número entero entre 0 y N\n",
    "np.random.randint(10)"
   ]
  },
  {
   "cell_type": "code",
   "execution_count": 10,
   "id": "ecfbc054",
   "metadata": {},
   "outputs": [
    {
     "data": {
      "text/plain": [
       "array([[5, 8],\n",
       "       [3, 9],\n",
       "       [0, 1]])"
      ]
     },
     "execution_count": 10,
     "metadata": {},
     "output_type": "execute_result"
    }
   ],
   "source": [
    "# array de enteros entre 0 y N\n",
    "np.random.randint(10, size=[3,2])"
   ]
  },
  {
   "cell_type": "code",
   "execution_count": 12,
   "id": "7fb65934",
   "metadata": {},
   "outputs": [
    {
     "data": {
      "text/plain": [
       "array([[ 7, -8],\n",
       "       [ 9, -9],\n",
       "       [-7,  7]])"
      ]
     },
     "execution_count": 12,
     "metadata": {},
     "output_type": "execute_result"
    }
   ],
   "source": [
    "# array de enteros entre -N y M\n",
    "np.random.randint(-10, 10, size=[3,2])"
   ]
  },
  {
   "cell_type": "code",
   "execution_count": 13,
   "id": "e860ee65",
   "metadata": {},
   "outputs": [
    {
     "data": {
      "text/plain": [
       "array([ 0.33369883,  0.03243969, -0.9156405 , -0.02320205,  0.10027864,\n",
       "        0.10814765,  0.03759306,  0.88515904,  0.09928281, -0.33498391,\n",
       "        1.02016601, -2.20409549, -0.57829438, -1.54656896,  0.55094885,\n",
       "        0.42466802, -1.71727893, -1.31492763,  0.26150774,  1.25249164])"
      ]
     },
     "execution_count": 13,
     "metadata": {},
     "output_type": "execute_result"
    }
   ],
   "source": [
    "# array uniforme con curva gaussiana\n",
    "np.random.normal(size=20)"
   ]
  },
  {
   "cell_type": "markdown",
   "id": "538d5c41",
   "metadata": {},
   "source": [
    "## Permutaciones"
   ]
  },
  {
   "cell_type": "code",
   "execution_count": 14,
   "id": "487b5ff0",
   "metadata": {},
   "outputs": [
    {
     "data": {
      "text/plain": [
       "array([0, 1, 2, 3, 4, 5, 6, 7, 8, 9])"
      ]
     },
     "execution_count": 14,
     "metadata": {},
     "output_type": "execute_result"
    }
   ],
   "source": [
    "arr = np.arange(10)\n",
    "\n",
    "arr"
   ]
  },
  {
   "cell_type": "code",
   "execution_count": 15,
   "id": "428c472c",
   "metadata": {},
   "outputs": [
    {
     "data": {
      "text/plain": [
       "array([4, 8, 3, 7, 2, 9, 1, 5, 6, 0])"
      ]
     },
     "execution_count": 15,
     "metadata": {},
     "output_type": "execute_result"
    }
   ],
   "source": [
    "# desordenar un array\n",
    "np.random.shuffle(arr)\n",
    "\n",
    "arr"
   ]
  },
  {
   "cell_type": "code",
   "execution_count": 18,
   "id": "6cb45b00",
   "metadata": {},
   "outputs": [
    {
     "data": {
      "text/plain": [
       "array([14,  9,  3, 12,  0, 13,  7,  8,  6,  2, 11,  1,  4,  5, 10])"
      ]
     },
     "execution_count": 18,
     "metadata": {},
     "output_type": "execute_result"
    }
   ],
   "source": [
    "# generar secuencia permutada a partir de un número\n",
    "#Es como hacer los dos pasos anteriores(generar array y desordenar) pero en una sola función\n",
    "np.random.permutation(15)"
   ]
  },
  {
   "cell_type": "code",
   "execution_count": null,
   "id": "94750164",
   "metadata": {},
   "outputs": [],
   "source": []
  }
 ],
 "metadata": {
  "kernelspec": {
   "display_name": "Python 3 (ipykernel)",
   "language": "python",
   "name": "python3"
  },
  "language_info": {
   "codemirror_mode": {
    "name": "ipython",
    "version": 3
   },
   "file_extension": ".py",
   "mimetype": "text/x-python",
   "name": "python",
   "nbconvert_exporter": "python",
   "pygments_lexer": "ipython3",
   "version": "3.11.1"
  }
 },
 "nbformat": 4,
 "nbformat_minor": 5
}
