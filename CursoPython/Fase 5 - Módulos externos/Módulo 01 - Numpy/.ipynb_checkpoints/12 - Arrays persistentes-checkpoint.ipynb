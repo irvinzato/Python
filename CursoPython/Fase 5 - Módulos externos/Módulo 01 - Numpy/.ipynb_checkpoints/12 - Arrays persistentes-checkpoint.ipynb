{
 "cells": [
  {
   "cell_type": "markdown",
   "id": "9c57e182",
   "metadata": {},
   "source": [
    "# Arrays y persistencia\n",
    "\n",
    "Por último vamos a ver algunas funciones que nos permitirán almacenar los arrays en ficheros. Vienen bien si estamos trabajando y necesitamos almacenar nuestros datos para recuperarlos en otro momento.\n",
    "\n",
    "Veremos dos métodos, el clásico en ficheros binarios y la variante en formato de texto. Los primeros no se pueden abrir con un editor de texto para editarlos, los segundos sí. Por contra los ficheros binarios pueden almacenar varios arrays y los ficheros de texto únicamente un array por fichero, así que utilizad las dos formas dependiendo de vuestros intereses.\n",
    "\n",
    "Para más información sobre la persistencia buscad la sección pertinente en [la documentación oficial](https://numpy.org/doc/stable/reference/routines.io.html).\n",
    "\n",
    "## Guardado binario"
   ]
  },
  {
   "cell_type": "code",
   "execution_count": 1,
   "id": "50eb1eb2",
   "metadata": {},
   "outputs": [
    {
     "data": {
      "text/plain": [
       "array([[0, 0, 0],\n",
       "       [3, 3, 3],\n",
       "       [1, 1, 0]])"
      ]
     },
     "execution_count": 1,
     "metadata": {},
     "output_type": "execute_result"
    }
   ],
   "source": [
    "import numpy as np\n",
    "\n",
    "# creamos un array aleatorio\n",
    "arr_1 = np.random.randint(0,4,[3,3])\n",
    "\n",
    "arr_1"
   ]
  },
  {
   "cell_type": "code",
   "execution_count": 2,
   "id": "4a512d91",
   "metadata": {},
   "outputs": [],
   "source": [
    "# lo guardarmos en un binario con extensión .npy, por defecto lo creara en la ubicación donde estoy parado\n",
    "np.save('arr_1.npy', arr_1)"
   ]
  },
  {
   "cell_type": "markdown",
   "id": "34bd2f90",
   "metadata": {},
   "source": [
    "El fichero se creará en el mismo directorio del script donde hemos ejecutado el comando."
   ]
  },
  {
   "cell_type": "code",
   "execution_count": 3,
   "id": "c7de9c55",
   "metadata": {},
   "outputs": [
    {
     "ename": "NameError",
     "evalue": "name 'arr_1' is not defined",
     "output_type": "error",
     "traceback": [
      "\u001b[1;31m---------------------------------------------------------------------------\u001b[0m",
      "\u001b[1;31mNameError\u001b[0m                                 Traceback (most recent call last)",
      "Cell \u001b[1;32mIn[3], line 4\u001b[0m\n\u001b[0;32m      1\u001b[0m \u001b[38;5;66;03m# borramos el array de la memoria para asegurarnos de que ya no existe\u001b[39;00m\n\u001b[0;32m      2\u001b[0m \u001b[38;5;28;01mdel\u001b[39;00m(arr_1)\n\u001b[1;32m----> 4\u001b[0m \u001b[43marr_1\u001b[49m\n",
      "\u001b[1;31mNameError\u001b[0m: name 'arr_1' is not defined"
     ]
    }
   ],
   "source": [
    "# borramos el array de la memoria para asegurarnos de que ya no existe\n",
    "del(arr_1)\n",
    "\n",
    "arr_1"
   ]
  },
  {
   "cell_type": "code",
   "execution_count": 4,
   "id": "3299542d",
   "metadata": {},
   "outputs": [
    {
     "data": {
      "text/plain": [
       "array([[0, 0, 0],\n",
       "       [3, 3, 3],\n",
       "       [1, 1, 0]])"
      ]
     },
     "execution_count": 4,
     "metadata": {},
     "output_type": "execute_result"
    }
   ],
   "source": [
    "# lo cargamos desde el fichero binario\n",
    "arr_1 = np.load('arr_1.npy')\n",
    "\n",
    "arr_1"
   ]
  },
  {
   "cell_type": "markdown",
   "id": "c1e9456a",
   "metadata": {},
   "source": [
    "En ficheros binarios podemos guardar y recuperar varios arrays a la vez:"
   ]
  },
  {
   "cell_type": "code",
   "execution_count": 5,
   "id": "186ee2de",
   "metadata": {},
   "outputs": [
    {
     "data": {
      "text/plain": [
       "array([[-4, -3, -1],\n",
       "       [-1, -2, -3],\n",
       "       [-1, -1, -2]])"
      ]
     },
     "execution_count": 5,
     "metadata": {},
     "output_type": "execute_result"
    }
   ],
   "source": [
    "# creamos otro array aleatorio\n",
    "arr_2 = np.random.randint(-4,0,[3,3])\n",
    "\n",
    "arr_2"
   ]
  },
  {
   "cell_type": "code",
   "execution_count": 6,
   "id": "5dabd191",
   "metadata": {},
   "outputs": [],
   "source": [
    "# utilizaremos savez para guardar de forma comprimida con la extensión .npz\n",
    "# debemos especificar una clave para cada array que queramos guardar\n",
    "np.savez('arrays.npz', arr_1=arr_1, arr_2=arr_2)"
   ]
  },
  {
   "cell_type": "code",
   "execution_count": 7,
   "id": "36348248",
   "metadata": {},
   "outputs": [],
   "source": [
    "# los borramos de la memoria\n",
    "del(arr_1)\n",
    "del(arr_2)"
   ]
  },
  {
   "cell_type": "code",
   "execution_count": 8,
   "id": "e8c7361f",
   "metadata": {},
   "outputs": [
    {
     "data": {
      "text/plain": [
       "<numpy.lib.npyio.NpzFile at 0x2265a25a390>"
      ]
     },
     "execution_count": 8,
     "metadata": {},
     "output_type": "execute_result"
    }
   ],
   "source": [
    "# los cargamos desde el fichero binario\n",
    "arrays = np.load('arrays.npz')\n",
    "\n",
    "arrays"
   ]
  },
  {
   "cell_type": "code",
   "execution_count": null,
   "id": "f98853a9",
   "metadata": {},
   "outputs": [],
   "source": [
    "# mediante la clave de guardado podemos recuperarlos"
   ]
  },
  {
   "cell_type": "code",
   "execution_count": 9,
   "id": "4ccf561c",
   "metadata": {},
   "outputs": [
    {
     "data": {
      "text/plain": [
       "array([[0, 0, 0],\n",
       "       [3, 3, 3],\n",
       "       [1, 1, 0]])"
      ]
     },
     "execution_count": 9,
     "metadata": {},
     "output_type": "execute_result"
    }
   ],
   "source": [
    "arrays['arr_1']"
   ]
  },
  {
   "cell_type": "code",
   "execution_count": 10,
   "id": "16893d5c",
   "metadata": {},
   "outputs": [
    {
     "data": {
      "text/plain": [
       "array([[-4, -3, -1],\n",
       "       [-1, -2, -3],\n",
       "       [-1, -1, -2]])"
      ]
     },
     "execution_count": 10,
     "metadata": {},
     "output_type": "execute_result"
    }
   ],
   "source": [
    "arrays['arr_2']"
   ]
  },
  {
   "cell_type": "markdown",
   "id": "63dea93a",
   "metadata": {},
   "source": [
    "## Guardado en texto\n",
    "\n",
    "Básicamente se hace de la misma forma cambiando las funciones:\n",
    "\n",
    "- Para guardar utilizamos `savetxt()`\n",
    "- Para cargar utilizamos `loadtxt()`"
   ]
  },
  {
   "cell_type": "code",
   "execution_count": 11,
   "id": "c19069ff",
   "metadata": {},
   "outputs": [
    {
     "data": {
      "text/plain": [
       "array([[-3,  9, -1],\n",
       "       [ 0, -8,  6],\n",
       "       [-3,  7, -9]])"
      ]
     },
     "execution_count": 11,
     "metadata": {},
     "output_type": "execute_result"
    }
   ],
   "source": [
    "# creamos un array de prueba\n",
    "arr_3 = np.random.randint(-10,10,[3,3])\n",
    "\n",
    "arr_3"
   ]
  },
  {
   "cell_type": "code",
   "execution_count": 12,
   "id": "d4dddb61",
   "metadata": {},
   "outputs": [],
   "source": [
    "# lo guardamos en un fichero de texto, por defecto separa valores de columnas con espacios y filas con salto de linea\n",
    "np.savetxt('arr_3.txt', arr_3)"
   ]
  },
  {
   "cell_type": "markdown",
   "id": "f472929c",
   "metadata": {},
   "source": [
    "Por defecto los arrays en ficheros de texto se guardan con filas separadas por saltos de línea y columnas separadas por espacios (algo así):\n",
    "\n",
    "```\n",
    "6.000000000000000000e+00 -7.000000000000000000e+00 -4.000000000000000000e+00\n",
    "-5.000000000000000000e+00 -9.000000000000000000e+00 -1.000000000000000000e+00\n",
    "-3.000000000000000000e+00 4.000000000000000000e+00 -5.000000000000000000e+00\n",
    "```\n",
    "\n",
    "Podemos establecer el separador a voluntad:"
   ]
  },
  {
   "cell_type": "code",
   "execution_count": 13,
   "id": "cd86d69b",
   "metadata": {},
   "outputs": [],
   "source": [
    "# guardamos separando las columnas con \",\", si no quiero el por defecto establezco alguno\n",
    "np.savetxt('arr_3.txt', arr_3, delimiter=',')"
   ]
  },
  {
   "cell_type": "markdown",
   "id": "010d3721",
   "metadata": {},
   "source": [
    "Ahora sería algo así:\n",
    "\n",
    "```\n",
    "6.000000000000000000e+00,-7.000000000000000000e+00,-4.000000000000000000e+00\n",
    "-5.000000000000000000e+00,-9.000000000000000000e+00,-1.000000000000000000e+00\n",
    "-3.000000000000000000e+00,4.000000000000000000e+00,-5.000000000000000000e+00\n",
    "```\n",
    "\n",
    "No importa cómo lo guardemos, lo importante es que a la hora de recuperarlos indiquemos los separadores si los hemos cambiado:"
   ]
  },
  {
   "cell_type": "code",
   "execution_count": 14,
   "id": "881fef30",
   "metadata": {},
   "outputs": [],
   "source": [
    "# lo borramos de la memoria\n",
    "del(arr_3)"
   ]
  },
  {
   "cell_type": "code",
   "execution_count": 15,
   "id": "ed3c855e",
   "metadata": {},
   "outputs": [
    {
     "data": {
      "text/plain": [
       "array([[-3.,  9., -1.],\n",
       "       [ 0., -8.,  6.],\n",
       "       [-3.,  7., -9.]])"
      ]
     },
     "execution_count": 15,
     "metadata": {},
     "output_type": "execute_result"
    }
   ],
   "source": [
    "# lo cargamos indicando el separador (si lo hemos cambiado)\n",
    "arr_3 = np.loadtxt('arr_3.txt', delimiter=',')\n",
    "\n",
    "arr_3"
   ]
  },
  {
   "cell_type": "code",
   "execution_count": null,
   "id": "07504cfa",
   "metadata": {},
   "outputs": [],
   "source": []
  }
 ],
 "metadata": {
  "kernelspec": {
   "display_name": "Python 3 (ipykernel)",
   "language": "python",
   "name": "python3"
  },
  "language_info": {
   "codemirror_mode": {
    "name": "ipython",
    "version": 3
   },
   "file_extension": ".py",
   "mimetype": "text/x-python",
   "name": "python",
   "nbconvert_exporter": "python",
   "pygments_lexer": "ipython3",
   "version": "3.11.1"
  }
 },
 "nbformat": 4,
 "nbformat_minor": 5
}
