{
 "cells": [
  {
   "cell_type": "markdown",
   "id": "2dd737d5",
   "metadata": {},
   "source": [
    "# Configuración previa\n",
    "\n",
    "Instalación de Pipenv  por si alguien no lo tiene:\n",
    "\n",
    "```bash\n",
    "pip install pipenv\n",
    "```\n",
    "\n",
    "También se puede instalar desde el propio Jupyter Notebook con una exclamación delante:\n",
    "\n",
    "\n",
    "```bash\n",
    "!pip install pipenv\n",
    "```"
   ]
  },
  {
   "cell_type": "code",
   "execution_count": 1,
   "id": "9858b7ce",
   "metadata": {},
   "outputs": [
    {
     "name": "stdout",
     "output_type": "stream",
     "text": [
      "Defaulting to user installation because normal site-packages is not writeable\n",
      "Requirement already satisfied: pipenv in c:\\users\\irving\\appdata\\roaming\\python\\python311\\site-packages (2023.3.20)\n",
      "Requirement already satisfied: certifi in c:\\users\\irving\\appdata\\roaming\\python\\python311\\site-packages (from pipenv) (2022.12.7)\n",
      "Requirement already satisfied: setuptools>=67.0.0 in c:\\users\\irving\\appdata\\roaming\\python\\python311\\site-packages (from pipenv) (67.6.1)\n",
      "Requirement already satisfied: virtualenv-clone>=0.2.5 in c:\\users\\irving\\appdata\\roaming\\python\\python311\\site-packages (from pipenv) (0.5.7)\n",
      "Requirement already satisfied: virtualenv>=20.17.1 in c:\\users\\irving\\appdata\\roaming\\python\\python311\\site-packages (from pipenv) (20.21.0)\n",
      "Requirement already satisfied: distlib<1,>=0.3.6 in c:\\users\\irving\\appdata\\roaming\\python\\python311\\site-packages (from virtualenv>=20.17.1->pipenv) (0.3.6)\n",
      "Requirement already satisfied: filelock<4,>=3.4.1 in c:\\users\\irving\\appdata\\roaming\\python\\python311\\site-packages (from virtualenv>=20.17.1->pipenv) (3.10.7)\n",
      "Requirement already satisfied: platformdirs<4,>=2.4 in c:\\users\\irving\\appdata\\roaming\\python\\python311\\site-packages (from virtualenv>=20.17.1->pipenv) (2.6.2)\n"
     ]
    },
    {
     "name": "stderr",
     "output_type": "stream",
     "text": [
      "\n",
      "[notice] A new release of pip available: 22.3.1 -> 23.0.1\n",
      "[notice] To update, run: python.exe -m pip install --upgrade pip\n"
     ]
    }
   ],
   "source": [
    "!pip install pipenv"
   ]
  },
  {
   "cell_type": "code",
   "execution_count": null,
   "id": "ec5b0d8f",
   "metadata": {},
   "outputs": [],
   "source": []
  }
 ],
 "metadata": {
  "kernelspec": {
   "display_name": "Python 3 (ipykernel)",
   "language": "python",
   "name": "python3"
  },
  "language_info": {
   "codemirror_mode": {
    "name": "ipython",
    "version": 3
   },
   "file_extension": ".py",
   "mimetype": "text/x-python",
   "name": "python",
   "nbconvert_exporter": "python",
   "pygments_lexer": "ipython3",
   "version": "3.11.1"
  }
 },
 "nbformat": 4,
 "nbformat_minor": 5
}
