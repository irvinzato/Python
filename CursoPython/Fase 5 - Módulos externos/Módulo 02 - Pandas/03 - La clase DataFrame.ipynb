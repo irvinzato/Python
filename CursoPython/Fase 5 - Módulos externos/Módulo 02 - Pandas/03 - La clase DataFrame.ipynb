{
 "cells": [
  {
   "cell_type": "markdown",
   "metadata": {
    "collapsed": true
   },
   "source": [
    "# La clase DataFrame\n",
    "\n",
    "Un `DataFrame` es una agrupación de `Series` unidas bajo los mismos índices dando como resultado estructuras similares a tablas donde representar todo tipo de información.\n",
    "\n",
    "Cada serie del `DataFrame` se puede considerar una columna a la cuál podemos establecer un nombre:"
   ]
  },
  {
   "cell_type": "code",
   "execution_count": 1,
   "metadata": {},
   "outputs": [],
   "source": [
    "import pandas as pd\n",
    "import numpy as np\n",
    "\n",
    "array = np.random.uniform(-10, 10, size=[4,4])\n",
    "\n",
    "df = pd.DataFrame(array, index=['A','B','C','D'], columns=['W','X','Y','Z'])"
   ]
  },
  {
   "cell_type": "code",
   "execution_count": 2,
   "metadata": {},
   "outputs": [
    {
     "data": {
      "text/html": [
       "<div>\n",
       "<style scoped>\n",
       "    .dataframe tbody tr th:only-of-type {\n",
       "        vertical-align: middle;\n",
       "    }\n",
       "\n",
       "    .dataframe tbody tr th {\n",
       "        vertical-align: top;\n",
       "    }\n",
       "\n",
       "    .dataframe thead th {\n",
       "        text-align: right;\n",
       "    }\n",
       "</style>\n",
       "<table border=\"1\" class=\"dataframe\">\n",
       "  <thead>\n",
       "    <tr style=\"text-align: right;\">\n",
       "      <th></th>\n",
       "      <th>W</th>\n",
       "      <th>X</th>\n",
       "      <th>Y</th>\n",
       "      <th>Z</th>\n",
       "    </tr>\n",
       "  </thead>\n",
       "  <tbody>\n",
       "    <tr>\n",
       "      <th>A</th>\n",
       "      <td>5.723169</td>\n",
       "      <td>-5.944629</td>\n",
       "      <td>-6.768249</td>\n",
       "      <td>-9.249052</td>\n",
       "    </tr>\n",
       "    <tr>\n",
       "      <th>B</th>\n",
       "      <td>-7.073913</td>\n",
       "      <td>-0.968109</td>\n",
       "      <td>-2.884598</td>\n",
       "      <td>-2.382877</td>\n",
       "    </tr>\n",
       "    <tr>\n",
       "      <th>C</th>\n",
       "      <td>1.496078</td>\n",
       "      <td>5.168008</td>\n",
       "      <td>2.264019</td>\n",
       "      <td>-4.260526</td>\n",
       "    </tr>\n",
       "    <tr>\n",
       "      <th>D</th>\n",
       "      <td>-7.686296</td>\n",
       "      <td>-5.842456</td>\n",
       "      <td>-6.666106</td>\n",
       "      <td>-1.275657</td>\n",
       "    </tr>\n",
       "  </tbody>\n",
       "</table>\n",
       "</div>"
      ],
      "text/plain": [
       "          W         X         Y         Z\n",
       "A  5.723169 -5.944629 -6.768249 -9.249052\n",
       "B -7.073913 -0.968109 -2.884598 -2.382877\n",
       "C  1.496078  5.168008  2.264019 -4.260526\n",
       "D -7.686296 -5.842456 -6.666106 -1.275657"
      ]
     },
     "execution_count": 2,
     "metadata": {},
     "output_type": "execute_result"
    }
   ],
   "source": [
    "# Representación en jupyter\n",
    "df"
   ]
  },
  {
   "cell_type": "code",
   "execution_count": 3,
   "metadata": {},
   "outputs": [
    {
     "name": "stdout",
     "output_type": "stream",
     "text": [
      "          W         X         Y         Z\n",
      "A  5.723169 -5.944629 -6.768249 -9.249052\n",
      "B -7.073913 -0.968109 -2.884598 -2.382877\n",
      "C  1.496078  5.168008  2.264019 -4.260526\n",
      "D -7.686296 -5.842456 -6.666106 -1.275657\n"
     ]
    }
   ],
   "source": [
    "# Representación por pantalla\n",
    "print(df)"
   ]
  },
  {
   "cell_type": "code",
   "execution_count": 4,
   "metadata": {},
   "outputs": [
    {
     "data": {
      "text/plain": [
       "pandas.core.frame.DataFrame"
      ]
     },
     "execution_count": 4,
     "metadata": {},
     "output_type": "execute_result"
    }
   ],
   "source": [
    "# Tipo de un df\n",
    "type(df)"
   ]
  },
  {
   "cell_type": "markdown",
   "metadata": {},
   "source": [
    "## Trabajando con DataFrames\n",
    "\n",
    "Podemos consultar una COLUMNA mediante su nombre:"
   ]
  },
  {
   "cell_type": "code",
   "execution_count": 5,
   "metadata": {},
   "outputs": [
    {
     "data": {
      "text/plain": [
       "A   -5.944629\n",
       "B   -0.968109\n",
       "C    5.168008\n",
       "D   -5.842456\n",
       "Name: X, dtype: float64"
      ]
     },
     "execution_count": 5,
     "metadata": {},
     "output_type": "execute_result"
    }
   ],
   "source": [
    "df['X']"
   ]
  },
  {
   "cell_type": "markdown",
   "metadata": {},
   "source": [
    "Como vemos una columna es en realidad una serie:"
   ]
  },
  {
   "cell_type": "code",
   "execution_count": 6,
   "metadata": {},
   "outputs": [
    {
     "data": {
      "text/plain": [
       "pandas.core.series.Series"
      ]
     },
     "execution_count": 6,
     "metadata": {},
     "output_type": "execute_result"
    }
   ],
   "source": [
    "type(df['X'])"
   ]
  },
  {
   "cell_type": "markdown",
   "metadata": {},
   "source": [
    "También podemos consultar varias columnas pasando una lista con los nombres:"
   ]
  },
  {
   "cell_type": "code",
   "execution_count": 7,
   "metadata": {},
   "outputs": [
    {
     "data": {
      "text/html": [
       "<div>\n",
       "<style scoped>\n",
       "    .dataframe tbody tr th:only-of-type {\n",
       "        vertical-align: middle;\n",
       "    }\n",
       "\n",
       "    .dataframe tbody tr th {\n",
       "        vertical-align: top;\n",
       "    }\n",
       "\n",
       "    .dataframe thead th {\n",
       "        text-align: right;\n",
       "    }\n",
       "</style>\n",
       "<table border=\"1\" class=\"dataframe\">\n",
       "  <thead>\n",
       "    <tr style=\"text-align: right;\">\n",
       "      <th></th>\n",
       "      <th>Y</th>\n",
       "      <th>Z</th>\n",
       "    </tr>\n",
       "  </thead>\n",
       "  <tbody>\n",
       "    <tr>\n",
       "      <th>A</th>\n",
       "      <td>-6.768249</td>\n",
       "      <td>-9.249052</td>\n",
       "    </tr>\n",
       "    <tr>\n",
       "      <th>B</th>\n",
       "      <td>-2.884598</td>\n",
       "      <td>-2.382877</td>\n",
       "    </tr>\n",
       "    <tr>\n",
       "      <th>C</th>\n",
       "      <td>2.264019</td>\n",
       "      <td>-4.260526</td>\n",
       "    </tr>\n",
       "    <tr>\n",
       "      <th>D</th>\n",
       "      <td>-6.666106</td>\n",
       "      <td>-1.275657</td>\n",
       "    </tr>\n",
       "  </tbody>\n",
       "</table>\n",
       "</div>"
      ],
      "text/plain": [
       "          Y         Z\n",
       "A -6.768249 -9.249052\n",
       "B -2.884598 -2.382877\n",
       "C  2.264019 -4.260526\n",
       "D -6.666106 -1.275657"
      ]
     },
     "execution_count": 7,
     "metadata": {},
     "output_type": "execute_result"
    }
   ],
   "source": [
    "df[['Y','Z']]"
   ]
  },
  {
   "cell_type": "markdown",
   "metadata": {},
   "source": [
    "### Añadir una columna"
   ]
  },
  {
   "cell_type": "code",
   "execution_count": 17,
   "metadata": {},
   "outputs": [],
   "source": [
    "df['TOTAL'] = df['W'] + df['X'] + df['Y'] + df['Z']"
   ]
  },
  {
   "cell_type": "code",
   "execution_count": 18,
   "metadata": {},
   "outputs": [
    {
     "data": {
      "text/html": [
       "<div>\n",
       "<style scoped>\n",
       "    .dataframe tbody tr th:only-of-type {\n",
       "        vertical-align: middle;\n",
       "    }\n",
       "\n",
       "    .dataframe tbody tr th {\n",
       "        vertical-align: top;\n",
       "    }\n",
       "\n",
       "    .dataframe thead th {\n",
       "        text-align: right;\n",
       "    }\n",
       "</style>\n",
       "<table border=\"1\" class=\"dataframe\">\n",
       "  <thead>\n",
       "    <tr style=\"text-align: right;\">\n",
       "      <th></th>\n",
       "      <th>W</th>\n",
       "      <th>X</th>\n",
       "      <th>Y</th>\n",
       "      <th>Z</th>\n",
       "      <th>TOTAL</th>\n",
       "    </tr>\n",
       "  </thead>\n",
       "  <tbody>\n",
       "    <tr>\n",
       "      <th>A</th>\n",
       "      <td>5.723169</td>\n",
       "      <td>-5.944629</td>\n",
       "      <td>-6.768249</td>\n",
       "      <td>-9.249052</td>\n",
       "      <td>-16.238760</td>\n",
       "    </tr>\n",
       "    <tr>\n",
       "      <th>B</th>\n",
       "      <td>-7.073913</td>\n",
       "      <td>-0.968109</td>\n",
       "      <td>-2.884598</td>\n",
       "      <td>-2.382877</td>\n",
       "      <td>-13.309497</td>\n",
       "    </tr>\n",
       "    <tr>\n",
       "      <th>C</th>\n",
       "      <td>1.496078</td>\n",
       "      <td>5.168008</td>\n",
       "      <td>2.264019</td>\n",
       "      <td>-4.260526</td>\n",
       "      <td>4.667578</td>\n",
       "    </tr>\n",
       "    <tr>\n",
       "      <th>D</th>\n",
       "      <td>-7.686296</td>\n",
       "      <td>-5.842456</td>\n",
       "      <td>-6.666106</td>\n",
       "      <td>-1.275657</td>\n",
       "      <td>-21.470515</td>\n",
       "    </tr>\n",
       "  </tbody>\n",
       "</table>\n",
       "</div>"
      ],
      "text/plain": [
       "          W         X         Y         Z      TOTAL\n",
       "A  5.723169 -5.944629 -6.768249 -9.249052 -16.238760\n",
       "B -7.073913 -0.968109 -2.884598 -2.382877 -13.309497\n",
       "C  1.496078  5.168008  2.264019 -4.260526   4.667578\n",
       "D -7.686296 -5.842456 -6.666106 -1.275657 -21.470515"
      ]
     },
     "execution_count": 18,
     "metadata": {},
     "output_type": "execute_result"
    }
   ],
   "source": [
    "df"
   ]
  },
  {
   "cell_type": "code",
   "execution_count": 20,
   "metadata": {},
   "outputs": [
    {
     "data": {
      "text/html": [
       "<div>\n",
       "<style scoped>\n",
       "    .dataframe tbody tr th:only-of-type {\n",
       "        vertical-align: middle;\n",
       "    }\n",
       "\n",
       "    .dataframe tbody tr th {\n",
       "        vertical-align: top;\n",
       "    }\n",
       "\n",
       "    .dataframe thead th {\n",
       "        text-align: right;\n",
       "    }\n",
       "</style>\n",
       "<table border=\"1\" class=\"dataframe\">\n",
       "  <thead>\n",
       "    <tr style=\"text-align: right;\">\n",
       "      <th></th>\n",
       "      <th>W</th>\n",
       "      <th>X</th>\n",
       "      <th>Y</th>\n",
       "      <th>Z</th>\n",
       "      <th>TOTAL</th>\n",
       "      <th>PRUEBA</th>\n",
       "    </tr>\n",
       "  </thead>\n",
       "  <tbody>\n",
       "    <tr>\n",
       "      <th>A</th>\n",
       "      <td>5.723169</td>\n",
       "      <td>-5.944629</td>\n",
       "      <td>-6.768249</td>\n",
       "      <td>-9.249052</td>\n",
       "      <td>-16.238760</td>\n",
       "      <td>15</td>\n",
       "    </tr>\n",
       "    <tr>\n",
       "      <th>B</th>\n",
       "      <td>-7.073913</td>\n",
       "      <td>-0.968109</td>\n",
       "      <td>-2.884598</td>\n",
       "      <td>-2.382877</td>\n",
       "      <td>-13.309497</td>\n",
       "      <td>15</td>\n",
       "    </tr>\n",
       "    <tr>\n",
       "      <th>C</th>\n",
       "      <td>1.496078</td>\n",
       "      <td>5.168008</td>\n",
       "      <td>2.264019</td>\n",
       "      <td>-4.260526</td>\n",
       "      <td>4.667578</td>\n",
       "      <td>15</td>\n",
       "    </tr>\n",
       "    <tr>\n",
       "      <th>D</th>\n",
       "      <td>-7.686296</td>\n",
       "      <td>-5.842456</td>\n",
       "      <td>-6.666106</td>\n",
       "      <td>-1.275657</td>\n",
       "      <td>-21.470515</td>\n",
       "      <td>15</td>\n",
       "    </tr>\n",
       "  </tbody>\n",
       "</table>\n",
       "</div>"
      ],
      "text/plain": [
       "          W         X         Y         Z      TOTAL  PRUEBA\n",
       "A  5.723169 -5.944629 -6.768249 -9.249052 -16.238760      15\n",
       "B -7.073913 -0.968109 -2.884598 -2.382877 -13.309497      15\n",
       "C  1.496078  5.168008  2.264019 -4.260526   4.667578      15\n",
       "D -7.686296 -5.842456 -6.666106 -1.275657 -21.470515      15"
      ]
     },
     "execution_count": 20,
     "metadata": {},
     "output_type": "execute_result"
    }
   ],
   "source": [
    "df['PRUEBA'] = 10 + 5\n",
    "df"
   ]
  },
  {
   "cell_type": "markdown",
   "metadata": {},
   "source": [
    "### Borrar una columna"
   ]
  },
  {
   "cell_type": "code",
   "execution_count": 21,
   "metadata": {},
   "outputs": [
    {
     "data": {
      "text/html": [
       "<div>\n",
       "<style scoped>\n",
       "    .dataframe tbody tr th:only-of-type {\n",
       "        vertical-align: middle;\n",
       "    }\n",
       "\n",
       "    .dataframe tbody tr th {\n",
       "        vertical-align: top;\n",
       "    }\n",
       "\n",
       "    .dataframe thead th {\n",
       "        text-align: right;\n",
       "    }\n",
       "</style>\n",
       "<table border=\"1\" class=\"dataframe\">\n",
       "  <thead>\n",
       "    <tr style=\"text-align: right;\">\n",
       "      <th></th>\n",
       "      <th>W</th>\n",
       "      <th>X</th>\n",
       "      <th>Y</th>\n",
       "      <th>Z</th>\n",
       "      <th>TOTAL</th>\n",
       "    </tr>\n",
       "  </thead>\n",
       "  <tbody>\n",
       "    <tr>\n",
       "      <th>A</th>\n",
       "      <td>5.723169</td>\n",
       "      <td>-5.944629</td>\n",
       "      <td>-6.768249</td>\n",
       "      <td>-9.249052</td>\n",
       "      <td>-16.238760</td>\n",
       "    </tr>\n",
       "    <tr>\n",
       "      <th>B</th>\n",
       "      <td>-7.073913</td>\n",
       "      <td>-0.968109</td>\n",
       "      <td>-2.884598</td>\n",
       "      <td>-2.382877</td>\n",
       "      <td>-13.309497</td>\n",
       "    </tr>\n",
       "    <tr>\n",
       "      <th>C</th>\n",
       "      <td>1.496078</td>\n",
       "      <td>5.168008</td>\n",
       "      <td>2.264019</td>\n",
       "      <td>-4.260526</td>\n",
       "      <td>4.667578</td>\n",
       "    </tr>\n",
       "    <tr>\n",
       "      <th>D</th>\n",
       "      <td>-7.686296</td>\n",
       "      <td>-5.842456</td>\n",
       "      <td>-6.666106</td>\n",
       "      <td>-1.275657</td>\n",
       "      <td>-21.470515</td>\n",
       "    </tr>\n",
       "  </tbody>\n",
       "</table>\n",
       "</div>"
      ],
      "text/plain": [
       "          W         X         Y         Z      TOTAL\n",
       "A  5.723169 -5.944629 -6.768249 -9.249052 -16.238760\n",
       "B -7.073913 -0.968109 -2.884598 -2.382877 -13.309497\n",
       "C  1.496078  5.168008  2.264019 -4.260526   4.667578\n",
       "D -7.686296 -5.842456 -6.666106 -1.275657 -21.470515"
      ]
     },
     "execution_count": 21,
     "metadata": {},
     "output_type": "execute_result"
    }
   ],
   "source": [
    "#Si es una columna es eje(axis) es 1, también podria borrar filas\n",
    "df.drop('PRUEBA', axis=1)"
   ]
  },
  {
   "cell_type": "code",
   "execution_count": 22,
   "metadata": {},
   "outputs": [
    {
     "data": {
      "text/html": [
       "<div>\n",
       "<style scoped>\n",
       "    .dataframe tbody tr th:only-of-type {\n",
       "        vertical-align: middle;\n",
       "    }\n",
       "\n",
       "    .dataframe tbody tr th {\n",
       "        vertical-align: top;\n",
       "    }\n",
       "\n",
       "    .dataframe thead th {\n",
       "        text-align: right;\n",
       "    }\n",
       "</style>\n",
       "<table border=\"1\" class=\"dataframe\">\n",
       "  <thead>\n",
       "    <tr style=\"text-align: right;\">\n",
       "      <th></th>\n",
       "      <th>W</th>\n",
       "      <th>X</th>\n",
       "      <th>Y</th>\n",
       "      <th>Z</th>\n",
       "      <th>TOTAL</th>\n",
       "      <th>PRUEBA</th>\n",
       "    </tr>\n",
       "  </thead>\n",
       "  <tbody>\n",
       "    <tr>\n",
       "      <th>A</th>\n",
       "      <td>5.723169</td>\n",
       "      <td>-5.944629</td>\n",
       "      <td>-6.768249</td>\n",
       "      <td>-9.249052</td>\n",
       "      <td>-16.238760</td>\n",
       "      <td>15</td>\n",
       "    </tr>\n",
       "    <tr>\n",
       "      <th>B</th>\n",
       "      <td>-7.073913</td>\n",
       "      <td>-0.968109</td>\n",
       "      <td>-2.884598</td>\n",
       "      <td>-2.382877</td>\n",
       "      <td>-13.309497</td>\n",
       "      <td>15</td>\n",
       "    </tr>\n",
       "    <tr>\n",
       "      <th>C</th>\n",
       "      <td>1.496078</td>\n",
       "      <td>5.168008</td>\n",
       "      <td>2.264019</td>\n",
       "      <td>-4.260526</td>\n",
       "      <td>4.667578</td>\n",
       "      <td>15</td>\n",
       "    </tr>\n",
       "    <tr>\n",
       "      <th>D</th>\n",
       "      <td>-7.686296</td>\n",
       "      <td>-5.842456</td>\n",
       "      <td>-6.666106</td>\n",
       "      <td>-1.275657</td>\n",
       "      <td>-21.470515</td>\n",
       "      <td>15</td>\n",
       "    </tr>\n",
       "  </tbody>\n",
       "</table>\n",
       "</div>"
      ],
      "text/plain": [
       "          W         X         Y         Z      TOTAL  PRUEBA\n",
       "A  5.723169 -5.944629 -6.768249 -9.249052 -16.238760      15\n",
       "B -7.073913 -0.968109 -2.884598 -2.382877 -13.309497      15\n",
       "C  1.496078  5.168008  2.264019 -4.260526   4.667578      15\n",
       "D -7.686296 -5.842456 -6.666106 -1.275657 -21.470515      15"
      ]
     },
     "execution_count": 22,
     "metadata": {},
     "output_type": "execute_result"
    }
   ],
   "source": [
    "# No se modifica el df original\n",
    "df"
   ]
  },
  {
   "cell_type": "code",
   "execution_count": 23,
   "metadata": {},
   "outputs": [
    {
     "data": {
      "text/html": [
       "<div>\n",
       "<style scoped>\n",
       "    .dataframe tbody tr th:only-of-type {\n",
       "        vertical-align: middle;\n",
       "    }\n",
       "\n",
       "    .dataframe tbody tr th {\n",
       "        vertical-align: top;\n",
       "    }\n",
       "\n",
       "    .dataframe thead th {\n",
       "        text-align: right;\n",
       "    }\n",
       "</style>\n",
       "<table border=\"1\" class=\"dataframe\">\n",
       "  <thead>\n",
       "    <tr style=\"text-align: right;\">\n",
       "      <th></th>\n",
       "      <th>W</th>\n",
       "      <th>X</th>\n",
       "      <th>Y</th>\n",
       "      <th>Z</th>\n",
       "      <th>TOTAL</th>\n",
       "    </tr>\n",
       "  </thead>\n",
       "  <tbody>\n",
       "    <tr>\n",
       "      <th>A</th>\n",
       "      <td>5.723169</td>\n",
       "      <td>-5.944629</td>\n",
       "      <td>-6.768249</td>\n",
       "      <td>-9.249052</td>\n",
       "      <td>-16.238760</td>\n",
       "    </tr>\n",
       "    <tr>\n",
       "      <th>B</th>\n",
       "      <td>-7.073913</td>\n",
       "      <td>-0.968109</td>\n",
       "      <td>-2.884598</td>\n",
       "      <td>-2.382877</td>\n",
       "      <td>-13.309497</td>\n",
       "    </tr>\n",
       "    <tr>\n",
       "      <th>C</th>\n",
       "      <td>1.496078</td>\n",
       "      <td>5.168008</td>\n",
       "      <td>2.264019</td>\n",
       "      <td>-4.260526</td>\n",
       "      <td>4.667578</td>\n",
       "    </tr>\n",
       "    <tr>\n",
       "      <th>D</th>\n",
       "      <td>-7.686296</td>\n",
       "      <td>-5.842456</td>\n",
       "      <td>-6.666106</td>\n",
       "      <td>-1.275657</td>\n",
       "      <td>-21.470515</td>\n",
       "    </tr>\n",
       "  </tbody>\n",
       "</table>\n",
       "</div>"
      ],
      "text/plain": [
       "          W         X         Y         Z      TOTAL\n",
       "A  5.723169 -5.944629 -6.768249 -9.249052 -16.238760\n",
       "B -7.073913 -0.968109 -2.884598 -2.382877 -13.309497\n",
       "C  1.496078  5.168008  2.264019 -4.260526   4.667578\n",
       "D -7.686296 -5.842456 -6.666106 -1.275657 -21.470515"
      ]
     },
     "execution_count": 23,
     "metadata": {},
     "output_type": "execute_result"
    }
   ],
   "source": [
    "# A no ser que le indiquemos explícitamente(\"inplace\")\n",
    "df.drop('PRUEBA', axis=1, inplace=True)\n",
    "\n",
    "df"
   ]
  },
  {
   "cell_type": "markdown",
   "metadata": {},
   "source": [
    "### Borrar una fila"
   ]
  },
  {
   "cell_type": "code",
   "execution_count": 24,
   "metadata": {},
   "outputs": [
    {
     "data": {
      "text/html": [
       "<div>\n",
       "<style scoped>\n",
       "    .dataframe tbody tr th:only-of-type {\n",
       "        vertical-align: middle;\n",
       "    }\n",
       "\n",
       "    .dataframe tbody tr th {\n",
       "        vertical-align: top;\n",
       "    }\n",
       "\n",
       "    .dataframe thead th {\n",
       "        text-align: right;\n",
       "    }\n",
       "</style>\n",
       "<table border=\"1\" class=\"dataframe\">\n",
       "  <thead>\n",
       "    <tr style=\"text-align: right;\">\n",
       "      <th></th>\n",
       "      <th>W</th>\n",
       "      <th>X</th>\n",
       "      <th>Y</th>\n",
       "      <th>Z</th>\n",
       "      <th>TOTAL</th>\n",
       "    </tr>\n",
       "  </thead>\n",
       "  <tbody>\n",
       "    <tr>\n",
       "      <th>A</th>\n",
       "      <td>5.723169</td>\n",
       "      <td>-5.944629</td>\n",
       "      <td>-6.768249</td>\n",
       "      <td>-9.249052</td>\n",
       "      <td>-16.238760</td>\n",
       "    </tr>\n",
       "    <tr>\n",
       "      <th>B</th>\n",
       "      <td>-7.073913</td>\n",
       "      <td>-0.968109</td>\n",
       "      <td>-2.884598</td>\n",
       "      <td>-2.382877</td>\n",
       "      <td>-13.309497</td>\n",
       "    </tr>\n",
       "    <tr>\n",
       "      <th>C</th>\n",
       "      <td>1.496078</td>\n",
       "      <td>5.168008</td>\n",
       "      <td>2.264019</td>\n",
       "      <td>-4.260526</td>\n",
       "      <td>4.667578</td>\n",
       "    </tr>\n",
       "  </tbody>\n",
       "</table>\n",
       "</div>"
      ],
      "text/plain": [
       "          W         X         Y         Z      TOTAL\n",
       "A  5.723169 -5.944629 -6.768249 -9.249052 -16.238760\n",
       "B -7.073913 -0.968109 -2.884598 -2.382877 -13.309497\n",
       "C  1.496078  5.168008  2.264019 -4.260526   4.667578"
      ]
     },
     "execution_count": 24,
     "metadata": {},
     "output_type": "execute_result"
    }
   ],
   "source": [
    "#Para la fila el eje(axis) es 0\n",
    "df.drop('D', axis=0)"
   ]
  },
  {
   "cell_type": "markdown",
   "metadata": {},
   "source": [
    "### Seleccionar filas"
   ]
  },
  {
   "cell_type": "code",
   "execution_count": 25,
   "metadata": {},
   "outputs": [
    {
     "data": {
      "text/plain": [
       "W        1.496078\n",
       "X        5.168008\n",
       "Y        2.264019\n",
       "Z       -4.260526\n",
       "TOTAL    4.667578\n",
       "Name: C, dtype: float64"
      ]
     },
     "execution_count": 25,
     "metadata": {},
     "output_type": "execute_result"
    }
   ],
   "source": [
    "#Para consultar FILAS\n",
    "df.loc['C']"
   ]
  },
  {
   "cell_type": "markdown",
   "metadata": {},
   "source": [
    "También podemos utilizar el índice:"
   ]
  },
  {
   "cell_type": "code",
   "execution_count": 26,
   "metadata": {},
   "outputs": [
    {
     "data": {
      "text/plain": [
       "W        1.496078\n",
       "X        5.168008\n",
       "Y        2.264019\n",
       "Z       -4.260526\n",
       "TOTAL    4.667578\n",
       "Name: C, dtype: float64"
      ]
     },
     "execution_count": 26,
     "metadata": {},
     "output_type": "execute_result"
    }
   ],
   "source": [
    "df.iloc[2]"
   ]
  },
  {
   "cell_type": "markdown",
   "metadata": {},
   "source": [
    "### Seleccionar subset"
   ]
  },
  {
   "cell_type": "code",
   "execution_count": 27,
   "metadata": {},
   "outputs": [
    {
     "data": {
      "text/plain": [
       "-4.260526240878977"
      ]
     },
     "execution_count": 27,
     "metadata": {},
     "output_type": "execute_result"
    }
   ],
   "source": [
    "# Fila C y columna Z, para extraer un dato mediante las coordenadas\n",
    "df.loc['C','Z']"
   ]
  },
  {
   "cell_type": "code",
   "execution_count": 28,
   "metadata": {},
   "outputs": [
    {
     "data": {
      "text/html": [
       "<div>\n",
       "<style scoped>\n",
       "    .dataframe tbody tr th:only-of-type {\n",
       "        vertical-align: middle;\n",
       "    }\n",
       "\n",
       "    .dataframe tbody tr th {\n",
       "        vertical-align: top;\n",
       "    }\n",
       "\n",
       "    .dataframe thead th {\n",
       "        text-align: right;\n",
       "    }\n",
       "</style>\n",
       "<table border=\"1\" class=\"dataframe\">\n",
       "  <thead>\n",
       "    <tr style=\"text-align: right;\">\n",
       "      <th></th>\n",
       "      <th>W</th>\n",
       "      <th>Y</th>\n",
       "    </tr>\n",
       "  </thead>\n",
       "  <tbody>\n",
       "    <tr>\n",
       "      <th>A</th>\n",
       "      <td>5.723169</td>\n",
       "      <td>-6.768249</td>\n",
       "    </tr>\n",
       "    <tr>\n",
       "      <th>B</th>\n",
       "      <td>-7.073913</td>\n",
       "      <td>-2.884598</td>\n",
       "    </tr>\n",
       "  </tbody>\n",
       "</table>\n",
       "</div>"
      ],
      "text/plain": [
       "          W         Y\n",
       "A  5.723169 -6.768249\n",
       "B -7.073913 -2.884598"
      ]
     },
     "execution_count": 28,
     "metadata": {},
     "output_type": "execute_result"
    }
   ],
   "source": [
    "# Filas A,B y columnas W,Y\n",
    "df.loc[['A','B'],['W','Y']]"
   ]
  },
  {
   "cell_type": "markdown",
   "metadata": {},
   "source": [
    "## Selección condicionada\n",
    "\n",
    "Una de las mayores utilidades de los `DataFrames` es su capacidad para realizar consultas condicionadas:"
   ]
  },
  {
   "cell_type": "code",
   "execution_count": 29,
   "metadata": {},
   "outputs": [
    {
     "data": {
      "text/html": [
       "<div>\n",
       "<style scoped>\n",
       "    .dataframe tbody tr th:only-of-type {\n",
       "        vertical-align: middle;\n",
       "    }\n",
       "\n",
       "    .dataframe tbody tr th {\n",
       "        vertical-align: top;\n",
       "    }\n",
       "\n",
       "    .dataframe thead th {\n",
       "        text-align: right;\n",
       "    }\n",
       "</style>\n",
       "<table border=\"1\" class=\"dataframe\">\n",
       "  <thead>\n",
       "    <tr style=\"text-align: right;\">\n",
       "      <th></th>\n",
       "      <th>W</th>\n",
       "      <th>X</th>\n",
       "      <th>Y</th>\n",
       "      <th>Z</th>\n",
       "      <th>TOTAL</th>\n",
       "    </tr>\n",
       "  </thead>\n",
       "  <tbody>\n",
       "    <tr>\n",
       "      <th>A</th>\n",
       "      <td>5.723169</td>\n",
       "      <td>-5.944629</td>\n",
       "      <td>-6.768249</td>\n",
       "      <td>-9.249052</td>\n",
       "      <td>-16.238760</td>\n",
       "    </tr>\n",
       "    <tr>\n",
       "      <th>B</th>\n",
       "      <td>-7.073913</td>\n",
       "      <td>-0.968109</td>\n",
       "      <td>-2.884598</td>\n",
       "      <td>-2.382877</td>\n",
       "      <td>-13.309497</td>\n",
       "    </tr>\n",
       "    <tr>\n",
       "      <th>C</th>\n",
       "      <td>1.496078</td>\n",
       "      <td>5.168008</td>\n",
       "      <td>2.264019</td>\n",
       "      <td>-4.260526</td>\n",
       "      <td>4.667578</td>\n",
       "    </tr>\n",
       "    <tr>\n",
       "      <th>D</th>\n",
       "      <td>-7.686296</td>\n",
       "      <td>-5.842456</td>\n",
       "      <td>-6.666106</td>\n",
       "      <td>-1.275657</td>\n",
       "      <td>-21.470515</td>\n",
       "    </tr>\n",
       "  </tbody>\n",
       "</table>\n",
       "</div>"
      ],
      "text/plain": [
       "          W         X         Y         Z      TOTAL\n",
       "A  5.723169 -5.944629 -6.768249 -9.249052 -16.238760\n",
       "B -7.073913 -0.968109 -2.884598 -2.382877 -13.309497\n",
       "C  1.496078  5.168008  2.264019 -4.260526   4.667578\n",
       "D -7.686296 -5.842456 -6.666106 -1.275657 -21.470515"
      ]
     },
     "execution_count": 29,
     "metadata": {},
     "output_type": "execute_result"
    }
   ],
   "source": [
    "df"
   ]
  },
  {
   "cell_type": "code",
   "execution_count": 30,
   "metadata": {},
   "outputs": [
    {
     "data": {
      "text/html": [
       "<div>\n",
       "<style scoped>\n",
       "    .dataframe tbody tr th:only-of-type {\n",
       "        vertical-align: middle;\n",
       "    }\n",
       "\n",
       "    .dataframe tbody tr th {\n",
       "        vertical-align: top;\n",
       "    }\n",
       "\n",
       "    .dataframe thead th {\n",
       "        text-align: right;\n",
       "    }\n",
       "</style>\n",
       "<table border=\"1\" class=\"dataframe\">\n",
       "  <thead>\n",
       "    <tr style=\"text-align: right;\">\n",
       "      <th></th>\n",
       "      <th>W</th>\n",
       "      <th>X</th>\n",
       "      <th>Y</th>\n",
       "      <th>Z</th>\n",
       "      <th>TOTAL</th>\n",
       "    </tr>\n",
       "  </thead>\n",
       "  <tbody>\n",
       "    <tr>\n",
       "      <th>A</th>\n",
       "      <td>True</td>\n",
       "      <td>False</td>\n",
       "      <td>False</td>\n",
       "      <td>False</td>\n",
       "      <td>False</td>\n",
       "    </tr>\n",
       "    <tr>\n",
       "      <th>B</th>\n",
       "      <td>False</td>\n",
       "      <td>False</td>\n",
       "      <td>False</td>\n",
       "      <td>False</td>\n",
       "      <td>False</td>\n",
       "    </tr>\n",
       "    <tr>\n",
       "      <th>C</th>\n",
       "      <td>True</td>\n",
       "      <td>True</td>\n",
       "      <td>True</td>\n",
       "      <td>False</td>\n",
       "      <td>True</td>\n",
       "    </tr>\n",
       "    <tr>\n",
       "      <th>D</th>\n",
       "      <td>False</td>\n",
       "      <td>False</td>\n",
       "      <td>False</td>\n",
       "      <td>False</td>\n",
       "      <td>False</td>\n",
       "    </tr>\n",
       "  </tbody>\n",
       "</table>\n",
       "</div>"
      ],
      "text/plain": [
       "       W      X      Y      Z  TOTAL\n",
       "A   True  False  False  False  False\n",
       "B  False  False  False  False  False\n",
       "C   True   True   True  False   True\n",
       "D  False  False  False  False  False"
      ]
     },
     "execution_count": 30,
     "metadata": {},
     "output_type": "execute_result"
    }
   ],
   "source": [
    "# Registros > 0 (EN BOOLEANOS)\n",
    "df > 0"
   ]
  },
  {
   "cell_type": "code",
   "execution_count": 31,
   "metadata": {},
   "outputs": [
    {
     "data": {
      "text/html": [
       "<div>\n",
       "<style scoped>\n",
       "    .dataframe tbody tr th:only-of-type {\n",
       "        vertical-align: middle;\n",
       "    }\n",
       "\n",
       "    .dataframe tbody tr th {\n",
       "        vertical-align: top;\n",
       "    }\n",
       "\n",
       "    .dataframe thead th {\n",
       "        text-align: right;\n",
       "    }\n",
       "</style>\n",
       "<table border=\"1\" class=\"dataframe\">\n",
       "  <thead>\n",
       "    <tr style=\"text-align: right;\">\n",
       "      <th></th>\n",
       "      <th>W</th>\n",
       "      <th>X</th>\n",
       "      <th>Y</th>\n",
       "      <th>Z</th>\n",
       "      <th>TOTAL</th>\n",
       "    </tr>\n",
       "  </thead>\n",
       "  <tbody>\n",
       "    <tr>\n",
       "      <th>A</th>\n",
       "      <td>5.723169</td>\n",
       "      <td>NaN</td>\n",
       "      <td>NaN</td>\n",
       "      <td>NaN</td>\n",
       "      <td>NaN</td>\n",
       "    </tr>\n",
       "    <tr>\n",
       "      <th>B</th>\n",
       "      <td>NaN</td>\n",
       "      <td>NaN</td>\n",
       "      <td>NaN</td>\n",
       "      <td>NaN</td>\n",
       "      <td>NaN</td>\n",
       "    </tr>\n",
       "    <tr>\n",
       "      <th>C</th>\n",
       "      <td>1.496078</td>\n",
       "      <td>5.168008</td>\n",
       "      <td>2.264019</td>\n",
       "      <td>NaN</td>\n",
       "      <td>4.667578</td>\n",
       "    </tr>\n",
       "    <tr>\n",
       "      <th>D</th>\n",
       "      <td>NaN</td>\n",
       "      <td>NaN</td>\n",
       "      <td>NaN</td>\n",
       "      <td>NaN</td>\n",
       "      <td>NaN</td>\n",
       "    </tr>\n",
       "  </tbody>\n",
       "</table>\n",
       "</div>"
      ],
      "text/plain": [
       "          W         X         Y   Z     TOTAL\n",
       "A  5.723169       NaN       NaN NaN       NaN\n",
       "B       NaN       NaN       NaN NaN       NaN\n",
       "C  1.496078  5.168008  2.264019 NaN  4.667578\n",
       "D       NaN       NaN       NaN NaN       NaN"
      ]
     },
     "execution_count": 31,
     "metadata": {},
     "output_type": "execute_result"
    }
   ],
   "source": [
    "# Valor de los registros > 0 (EN VALORES)\n",
    "df[df > 0]"
   ]
  },
  {
   "cell_type": "code",
   "execution_count": 33,
   "metadata": {},
   "outputs": [
    {
     "data": {
      "text/html": [
       "<div>\n",
       "<style scoped>\n",
       "    .dataframe tbody tr th:only-of-type {\n",
       "        vertical-align: middle;\n",
       "    }\n",
       "\n",
       "    .dataframe tbody tr th {\n",
       "        vertical-align: top;\n",
       "    }\n",
       "\n",
       "    .dataframe thead th {\n",
       "        text-align: right;\n",
       "    }\n",
       "</style>\n",
       "<table border=\"1\" class=\"dataframe\">\n",
       "  <thead>\n",
       "    <tr style=\"text-align: right;\">\n",
       "      <th></th>\n",
       "      <th>W</th>\n",
       "      <th>X</th>\n",
       "      <th>Y</th>\n",
       "      <th>Z</th>\n",
       "      <th>TOTAL</th>\n",
       "    </tr>\n",
       "  </thead>\n",
       "  <tbody>\n",
       "    <tr>\n",
       "      <th>A</th>\n",
       "      <td>5.723169</td>\n",
       "      <td>-5.944629</td>\n",
       "      <td>-6.768249</td>\n",
       "      <td>-9.249052</td>\n",
       "      <td>-16.238760</td>\n",
       "    </tr>\n",
       "    <tr>\n",
       "      <th>C</th>\n",
       "      <td>1.496078</td>\n",
       "      <td>5.168008</td>\n",
       "      <td>2.264019</td>\n",
       "      <td>-4.260526</td>\n",
       "      <td>4.667578</td>\n",
       "    </tr>\n",
       "  </tbody>\n",
       "</table>\n",
       "</div>"
      ],
      "text/plain": [
       "          W         X         Y         Z      TOTAL\n",
       "A  5.723169 -5.944629 -6.768249 -9.249052 -16.238760\n",
       "C  1.496078  5.168008  2.264019 -4.260526   4.667578"
      ]
     },
     "execution_count": 33,
     "metadata": {},
     "output_type": "execute_result"
    }
   ],
   "source": [
    "# Valor de los registros cuando W > 0 (DEVUELVE LAS FILAS QUE EN DICHO EJE(W) ES MAYOR QUE 0)\n",
    "df[df['W'] > 0]"
   ]
  },
  {
   "cell_type": "code",
   "execution_count": 35,
   "metadata": {},
   "outputs": [
    {
     "data": {
      "text/html": [
       "<div>\n",
       "<style scoped>\n",
       "    .dataframe tbody tr th:only-of-type {\n",
       "        vertical-align: middle;\n",
       "    }\n",
       "\n",
       "    .dataframe tbody tr th {\n",
       "        vertical-align: top;\n",
       "    }\n",
       "\n",
       "    .dataframe thead th {\n",
       "        text-align: right;\n",
       "    }\n",
       "</style>\n",
       "<table border=\"1\" class=\"dataframe\">\n",
       "  <thead>\n",
       "    <tr style=\"text-align: right;\">\n",
       "      <th></th>\n",
       "      <th>Y</th>\n",
       "      <th>Z</th>\n",
       "    </tr>\n",
       "  </thead>\n",
       "  <tbody>\n",
       "    <tr>\n",
       "      <th>A</th>\n",
       "      <td>-6.768249</td>\n",
       "      <td>-9.249052</td>\n",
       "    </tr>\n",
       "    <tr>\n",
       "      <th>C</th>\n",
       "      <td>2.264019</td>\n",
       "      <td>-4.260526</td>\n",
       "    </tr>\n",
       "  </tbody>\n",
       "</table>\n",
       "</div>"
      ],
      "text/plain": [
       "          Y         Z\n",
       "A -6.768249 -9.249052\n",
       "C  2.264019 -4.260526"
      ]
     },
     "execution_count": 35,
     "metadata": {},
     "output_type": "execute_result"
    }
   ],
   "source": [
    "# Valor de los registros en las columnas Y,Z si W > 0\n",
    "df[df['W'] > 0][['Y','Z']]"
   ]
  },
  {
   "cell_type": "markdown",
   "metadata": {},
   "source": [
    "Podemos unir condiciones usando los operadores `or` con `|` y `and` con `&`:"
   ]
  },
  {
   "cell_type": "code",
   "execution_count": 39,
   "metadata": {},
   "outputs": [
    {
     "data": {
      "text/html": [
       "<div>\n",
       "<style scoped>\n",
       "    .dataframe tbody tr th:only-of-type {\n",
       "        vertical-align: middle;\n",
       "    }\n",
       "\n",
       "    .dataframe tbody tr th {\n",
       "        vertical-align: top;\n",
       "    }\n",
       "\n",
       "    .dataframe thead th {\n",
       "        text-align: right;\n",
       "    }\n",
       "</style>\n",
       "<table border=\"1\" class=\"dataframe\">\n",
       "  <thead>\n",
       "    <tr style=\"text-align: right;\">\n",
       "      <th></th>\n",
       "      <th>W</th>\n",
       "      <th>X</th>\n",
       "      <th>Y</th>\n",
       "      <th>Z</th>\n",
       "      <th>TOTAL</th>\n",
       "    </tr>\n",
       "  </thead>\n",
       "  <tbody>\n",
       "    <tr>\n",
       "      <th>A</th>\n",
       "      <td>5.723169</td>\n",
       "      <td>-5.944629</td>\n",
       "      <td>-6.768249</td>\n",
       "      <td>-9.249052</td>\n",
       "      <td>-16.238760</td>\n",
       "    </tr>\n",
       "    <tr>\n",
       "      <th>B</th>\n",
       "      <td>-7.073913</td>\n",
       "      <td>-0.968109</td>\n",
       "      <td>-2.884598</td>\n",
       "      <td>-2.382877</td>\n",
       "      <td>-13.309497</td>\n",
       "    </tr>\n",
       "    <tr>\n",
       "      <th>C</th>\n",
       "      <td>1.496078</td>\n",
       "      <td>5.168008</td>\n",
       "      <td>2.264019</td>\n",
       "      <td>-4.260526</td>\n",
       "      <td>4.667578</td>\n",
       "    </tr>\n",
       "    <tr>\n",
       "      <th>D</th>\n",
       "      <td>-7.686296</td>\n",
       "      <td>-5.842456</td>\n",
       "      <td>-6.666106</td>\n",
       "      <td>-1.275657</td>\n",
       "      <td>-21.470515</td>\n",
       "    </tr>\n",
       "  </tbody>\n",
       "</table>\n",
       "</div>"
      ],
      "text/plain": [
       "          W         X         Y         Z      TOTAL\n",
       "A  5.723169 -5.944629 -6.768249 -9.249052 -16.238760\n",
       "B -7.073913 -0.968109 -2.884598 -2.382877 -13.309497\n",
       "C  1.496078  5.168008  2.264019 -4.260526   4.667578\n",
       "D -7.686296 -5.842456 -6.666106 -1.275657 -21.470515"
      ]
     },
     "execution_count": 39,
     "metadata": {},
     "output_type": "execute_result"
    }
   ],
   "source": [
    "# Valor de los registros cuando X > 0 o Z < 0\n",
    "df[(df['X'] > 0) | (df['Z'] < 0)]"
   ]
  },
  {
   "cell_type": "code",
   "execution_count": 37,
   "metadata": {},
   "outputs": [
    {
     "data": {
      "text/html": [
       "<div>\n",
       "<style scoped>\n",
       "    .dataframe tbody tr th:only-of-type {\n",
       "        vertical-align: middle;\n",
       "    }\n",
       "\n",
       "    .dataframe tbody tr th {\n",
       "        vertical-align: top;\n",
       "    }\n",
       "\n",
       "    .dataframe thead th {\n",
       "        text-align: right;\n",
       "    }\n",
       "</style>\n",
       "<table border=\"1\" class=\"dataframe\">\n",
       "  <thead>\n",
       "    <tr style=\"text-align: right;\">\n",
       "      <th></th>\n",
       "      <th>W</th>\n",
       "      <th>Y</th>\n",
       "    </tr>\n",
       "  </thead>\n",
       "  <tbody>\n",
       "    <tr>\n",
       "      <th>A</th>\n",
       "      <td>5.723169</td>\n",
       "      <td>-6.768249</td>\n",
       "    </tr>\n",
       "    <tr>\n",
       "      <th>B</th>\n",
       "      <td>-7.073913</td>\n",
       "      <td>-2.884598</td>\n",
       "    </tr>\n",
       "    <tr>\n",
       "      <th>C</th>\n",
       "      <td>1.496078</td>\n",
       "      <td>2.264019</td>\n",
       "    </tr>\n",
       "    <tr>\n",
       "      <th>D</th>\n",
       "      <td>-7.686296</td>\n",
       "      <td>-6.666106</td>\n",
       "    </tr>\n",
       "  </tbody>\n",
       "</table>\n",
       "</div>"
      ],
      "text/plain": [
       "          W         Y\n",
       "A  5.723169 -6.768249\n",
       "B -7.073913 -2.884598\n",
       "C  1.496078  2.264019\n",
       "D -7.686296 -6.666106"
      ]
     },
     "execution_count": 37,
     "metadata": {},
     "output_type": "execute_result"
    }
   ],
   "source": [
    "# Valor de los registros en las columnas W e Y cuando X > 0 o Z < 0\n",
    "df[(df['X'] > 0) | (df['Z'] < 0)][['W','Y']]"
   ]
  },
  {
   "cell_type": "markdown",
   "metadata": {},
   "source": [
    "## Modificar índices"
   ]
  },
  {
   "cell_type": "code",
   "execution_count": 41,
   "metadata": {},
   "outputs": [
    {
     "data": {
      "text/html": [
       "<div>\n",
       "<style scoped>\n",
       "    .dataframe tbody tr th:only-of-type {\n",
       "        vertical-align: middle;\n",
       "    }\n",
       "\n",
       "    .dataframe tbody tr th {\n",
       "        vertical-align: top;\n",
       "    }\n",
       "\n",
       "    .dataframe thead th {\n",
       "        text-align: right;\n",
       "    }\n",
       "</style>\n",
       "<table border=\"1\" class=\"dataframe\">\n",
       "  <thead>\n",
       "    <tr style=\"text-align: right;\">\n",
       "      <th></th>\n",
       "      <th>W</th>\n",
       "      <th>X</th>\n",
       "      <th>Y</th>\n",
       "      <th>Z</th>\n",
       "    </tr>\n",
       "  </thead>\n",
       "  <tbody>\n",
       "    <tr>\n",
       "      <th>A</th>\n",
       "      <td>6.026331</td>\n",
       "      <td>-4.588844</td>\n",
       "      <td>8.988758</td>\n",
       "      <td>1.324941</td>\n",
       "    </tr>\n",
       "    <tr>\n",
       "      <th>B</th>\n",
       "      <td>9.075492</td>\n",
       "      <td>-9.440866</td>\n",
       "      <td>-0.276325</td>\n",
       "      <td>-7.754989</td>\n",
       "    </tr>\n",
       "    <tr>\n",
       "      <th>C</th>\n",
       "      <td>7.658744</td>\n",
       "      <td>-7.436920</td>\n",
       "      <td>-5.404298</td>\n",
       "      <td>9.100133</td>\n",
       "    </tr>\n",
       "    <tr>\n",
       "      <th>D</th>\n",
       "      <td>8.027564</td>\n",
       "      <td>5.812169</td>\n",
       "      <td>-2.988894</td>\n",
       "      <td>6.808054</td>\n",
       "    </tr>\n",
       "  </tbody>\n",
       "</table>\n",
       "</div>"
      ],
      "text/plain": [
       "          W         X         Y         Z\n",
       "A  6.026331 -4.588844  8.988758  1.324941\n",
       "B  9.075492 -9.440866 -0.276325 -7.754989\n",
       "C  7.658744 -7.436920 -5.404298  9.100133\n",
       "D  8.027564  5.812169 -2.988894  6.808054"
      ]
     },
     "execution_count": 41,
     "metadata": {},
     "output_type": "execute_result"
    }
   ],
   "source": [
    "# Creamos de nuevo el dataframe\n",
    "array = np.random.uniform(-10, 10, size=[4,4])\n",
    "df = pd.DataFrame(array, index=['A','B','C','D'], columns=['W','X','Y','Z'])\n",
    "\n",
    "df"
   ]
  },
  {
   "cell_type": "code",
   "execution_count": 42,
   "metadata": {},
   "outputs": [
    {
     "data": {
      "text/html": [
       "<div>\n",
       "<style scoped>\n",
       "    .dataframe tbody tr th:only-of-type {\n",
       "        vertical-align: middle;\n",
       "    }\n",
       "\n",
       "    .dataframe tbody tr th {\n",
       "        vertical-align: top;\n",
       "    }\n",
       "\n",
       "    .dataframe thead th {\n",
       "        text-align: right;\n",
       "    }\n",
       "</style>\n",
       "<table border=\"1\" class=\"dataframe\">\n",
       "  <thead>\n",
       "    <tr style=\"text-align: right;\">\n",
       "      <th></th>\n",
       "      <th>W</th>\n",
       "      <th>X</th>\n",
       "      <th>Y</th>\n",
       "      <th>Z</th>\n",
       "      <th>Códigos</th>\n",
       "    </tr>\n",
       "  </thead>\n",
       "  <tbody>\n",
       "    <tr>\n",
       "      <th>A</th>\n",
       "      <td>6.026331</td>\n",
       "      <td>-4.588844</td>\n",
       "      <td>8.988758</td>\n",
       "      <td>1.324941</td>\n",
       "      <td>AA</td>\n",
       "    </tr>\n",
       "    <tr>\n",
       "      <th>B</th>\n",
       "      <td>9.075492</td>\n",
       "      <td>-9.440866</td>\n",
       "      <td>-0.276325</td>\n",
       "      <td>-7.754989</td>\n",
       "      <td>BB</td>\n",
       "    </tr>\n",
       "    <tr>\n",
       "      <th>C</th>\n",
       "      <td>7.658744</td>\n",
       "      <td>-7.436920</td>\n",
       "      <td>-5.404298</td>\n",
       "      <td>9.100133</td>\n",
       "      <td>CC</td>\n",
       "    </tr>\n",
       "    <tr>\n",
       "      <th>D</th>\n",
       "      <td>8.027564</td>\n",
       "      <td>5.812169</td>\n",
       "      <td>-2.988894</td>\n",
       "      <td>6.808054</td>\n",
       "      <td>DD</td>\n",
       "    </tr>\n",
       "  </tbody>\n",
       "</table>\n",
       "</div>"
      ],
      "text/plain": [
       "          W         X         Y         Z Códigos\n",
       "A  6.026331 -4.588844  8.988758  1.324941      AA\n",
       "B  9.075492 -9.440866 -0.276325 -7.754989      BB\n",
       "C  7.658744 -7.436920 -5.404298  9.100133      CC\n",
       "D  8.027564  5.812169 -2.988894  6.808054      DD"
      ]
     },
     "execution_count": 42,
     "metadata": {},
     "output_type": "execute_result"
    }
   ],
   "source": [
    "# Añadimos una nueva Serie con el nombre de los índices\n",
    "df['Códigos'] = ['AA','BB','CC','DD']\n",
    "\n",
    "df"
   ]
  },
  {
   "cell_type": "code",
   "execution_count": 43,
   "metadata": {},
   "outputs": [
    {
     "data": {
      "text/html": [
       "<div>\n",
       "<style scoped>\n",
       "    .dataframe tbody tr th:only-of-type {\n",
       "        vertical-align: middle;\n",
       "    }\n",
       "\n",
       "    .dataframe tbody tr th {\n",
       "        vertical-align: top;\n",
       "    }\n",
       "\n",
       "    .dataframe thead th {\n",
       "        text-align: right;\n",
       "    }\n",
       "</style>\n",
       "<table border=\"1\" class=\"dataframe\">\n",
       "  <thead>\n",
       "    <tr style=\"text-align: right;\">\n",
       "      <th></th>\n",
       "      <th>W</th>\n",
       "      <th>X</th>\n",
       "      <th>Y</th>\n",
       "      <th>Z</th>\n",
       "    </tr>\n",
       "    <tr>\n",
       "      <th>Códigos</th>\n",
       "      <th></th>\n",
       "      <th></th>\n",
       "      <th></th>\n",
       "      <th></th>\n",
       "    </tr>\n",
       "  </thead>\n",
       "  <tbody>\n",
       "    <tr>\n",
       "      <th>AA</th>\n",
       "      <td>6.026331</td>\n",
       "      <td>-4.588844</td>\n",
       "      <td>8.988758</td>\n",
       "      <td>1.324941</td>\n",
       "    </tr>\n",
       "    <tr>\n",
       "      <th>BB</th>\n",
       "      <td>9.075492</td>\n",
       "      <td>-9.440866</td>\n",
       "      <td>-0.276325</td>\n",
       "      <td>-7.754989</td>\n",
       "    </tr>\n",
       "    <tr>\n",
       "      <th>CC</th>\n",
       "      <td>7.658744</td>\n",
       "      <td>-7.436920</td>\n",
       "      <td>-5.404298</td>\n",
       "      <td>9.100133</td>\n",
       "    </tr>\n",
       "    <tr>\n",
       "      <th>DD</th>\n",
       "      <td>8.027564</td>\n",
       "      <td>5.812169</td>\n",
       "      <td>-2.988894</td>\n",
       "      <td>6.808054</td>\n",
       "    </tr>\n",
       "  </tbody>\n",
       "</table>\n",
       "</div>"
      ],
      "text/plain": [
       "                W         X         Y         Z\n",
       "Códigos                                        \n",
       "AA       6.026331 -4.588844  8.988758  1.324941\n",
       "BB       9.075492 -9.440866 -0.276325 -7.754989\n",
       "CC       7.658744 -7.436920 -5.404298  9.100133\n",
       "DD       8.027564  5.812169 -2.988894  6.808054"
      ]
     },
     "execution_count": 43,
     "metadata": {},
     "output_type": "execute_result"
    }
   ],
   "source": [
    "# Substituimos los índices de las filas\n",
    "df.set_index('Códigos')"
   ]
  },
  {
   "cell_type": "code",
   "execution_count": 44,
   "metadata": {},
   "outputs": [
    {
     "data": {
      "text/html": [
       "<div>\n",
       "<style scoped>\n",
       "    .dataframe tbody tr th:only-of-type {\n",
       "        vertical-align: middle;\n",
       "    }\n",
       "\n",
       "    .dataframe tbody tr th {\n",
       "        vertical-align: top;\n",
       "    }\n",
       "\n",
       "    .dataframe thead th {\n",
       "        text-align: right;\n",
       "    }\n",
       "</style>\n",
       "<table border=\"1\" class=\"dataframe\">\n",
       "  <thead>\n",
       "    <tr style=\"text-align: right;\">\n",
       "      <th></th>\n",
       "      <th>W</th>\n",
       "      <th>X</th>\n",
       "      <th>Y</th>\n",
       "      <th>Z</th>\n",
       "      <th>Códigos</th>\n",
       "    </tr>\n",
       "  </thead>\n",
       "  <tbody>\n",
       "    <tr>\n",
       "      <th>A</th>\n",
       "      <td>6.026331</td>\n",
       "      <td>-4.588844</td>\n",
       "      <td>8.988758</td>\n",
       "      <td>1.324941</td>\n",
       "      <td>AA</td>\n",
       "    </tr>\n",
       "    <tr>\n",
       "      <th>B</th>\n",
       "      <td>9.075492</td>\n",
       "      <td>-9.440866</td>\n",
       "      <td>-0.276325</td>\n",
       "      <td>-7.754989</td>\n",
       "      <td>BB</td>\n",
       "    </tr>\n",
       "    <tr>\n",
       "      <th>C</th>\n",
       "      <td>7.658744</td>\n",
       "      <td>-7.436920</td>\n",
       "      <td>-5.404298</td>\n",
       "      <td>9.100133</td>\n",
       "      <td>CC</td>\n",
       "    </tr>\n",
       "    <tr>\n",
       "      <th>D</th>\n",
       "      <td>8.027564</td>\n",
       "      <td>5.812169</td>\n",
       "      <td>-2.988894</td>\n",
       "      <td>6.808054</td>\n",
       "      <td>DD</td>\n",
       "    </tr>\n",
       "  </tbody>\n",
       "</table>\n",
       "</div>"
      ],
      "text/plain": [
       "          W         X         Y         Z Códigos\n",
       "A  6.026331 -4.588844  8.988758  1.324941      AA\n",
       "B  9.075492 -9.440866 -0.276325 -7.754989      BB\n",
       "C  7.658744 -7.436920 -5.404298  9.100133      CC\n",
       "D  8.027564  5.812169 -2.988894  6.808054      DD"
      ]
     },
     "execution_count": 44,
     "metadata": {},
     "output_type": "execute_result"
    }
   ],
   "source": [
    "# No se guardan por defecto\n",
    "df"
   ]
  },
  {
   "cell_type": "code",
   "execution_count": 45,
   "metadata": {},
   "outputs": [
    {
     "data": {
      "text/html": [
       "<div>\n",
       "<style scoped>\n",
       "    .dataframe tbody tr th:only-of-type {\n",
       "        vertical-align: middle;\n",
       "    }\n",
       "\n",
       "    .dataframe tbody tr th {\n",
       "        vertical-align: top;\n",
       "    }\n",
       "\n",
       "    .dataframe thead th {\n",
       "        text-align: right;\n",
       "    }\n",
       "</style>\n",
       "<table border=\"1\" class=\"dataframe\">\n",
       "  <thead>\n",
       "    <tr style=\"text-align: right;\">\n",
       "      <th></th>\n",
       "      <th>W</th>\n",
       "      <th>X</th>\n",
       "      <th>Y</th>\n",
       "      <th>Z</th>\n",
       "    </tr>\n",
       "    <tr>\n",
       "      <th>Códigos</th>\n",
       "      <th></th>\n",
       "      <th></th>\n",
       "      <th></th>\n",
       "      <th></th>\n",
       "    </tr>\n",
       "  </thead>\n",
       "  <tbody>\n",
       "    <tr>\n",
       "      <th>AA</th>\n",
       "      <td>6.026331</td>\n",
       "      <td>-4.588844</td>\n",
       "      <td>8.988758</td>\n",
       "      <td>1.324941</td>\n",
       "    </tr>\n",
       "    <tr>\n",
       "      <th>BB</th>\n",
       "      <td>9.075492</td>\n",
       "      <td>-9.440866</td>\n",
       "      <td>-0.276325</td>\n",
       "      <td>-7.754989</td>\n",
       "    </tr>\n",
       "    <tr>\n",
       "      <th>CC</th>\n",
       "      <td>7.658744</td>\n",
       "      <td>-7.436920</td>\n",
       "      <td>-5.404298</td>\n",
       "      <td>9.100133</td>\n",
       "    </tr>\n",
       "    <tr>\n",
       "      <th>DD</th>\n",
       "      <td>8.027564</td>\n",
       "      <td>5.812169</td>\n",
       "      <td>-2.988894</td>\n",
       "      <td>6.808054</td>\n",
       "    </tr>\n",
       "  </tbody>\n",
       "</table>\n",
       "</div>"
      ],
      "text/plain": [
       "                W         X         Y         Z\n",
       "Códigos                                        \n",
       "AA       6.026331 -4.588844  8.988758  1.324941\n",
       "BB       9.075492 -9.440866 -0.276325 -7.754989\n",
       "CC       7.658744 -7.436920 -5.404298  9.100133\n",
       "DD       8.027564  5.812169 -2.988894  6.808054"
      ]
     },
     "execution_count": 45,
     "metadata": {},
     "output_type": "execute_result"
    }
   ],
   "source": [
    "# A no ser que lo especifiquemos explícitamente\n",
    "df.set_index('Códigos', inplace=True)\n",
    "\n",
    "df"
   ]
  },
  {
   "cell_type": "code",
   "execution_count": 46,
   "metadata": {},
   "outputs": [
    {
     "name": "stdout",
     "output_type": "stream",
     "text": [
      "                W         X         Y         Z\n",
      "Códigos                                        \n",
      "AA       6.026331 -4.588844  8.988758  1.324941\n",
      "BB       9.075492 -9.440866 -0.276325 -7.754989\n",
      "CC       7.658744 -7.436920 -5.404298  9.100133\n",
      "DD       8.027564  5.812169 -2.988894  6.808054\n"
     ]
    }
   ],
   "source": [
    "print(df)"
   ]
  },
  {
   "cell_type": "code",
   "execution_count": 47,
   "metadata": {},
   "outputs": [
    {
     "data": {
      "text/plain": [
       "W    6.026331\n",
       "X   -4.588844\n",
       "Y    8.988758\n",
       "Z    1.324941\n",
       "Name: AA, dtype: float64"
      ]
     },
     "execution_count": 47,
     "metadata": {},
     "output_type": "execute_result"
    }
   ],
   "source": [
    "# consultamos una fila con el nuevo índice\n",
    "df.loc['AA']"
   ]
  },
  {
   "cell_type": "markdown",
   "metadata": {},
   "source": [
    "### Índices por defecto"
   ]
  },
  {
   "cell_type": "code",
   "execution_count": 48,
   "metadata": {},
   "outputs": [
    {
     "data": {
      "text/html": [
       "<div>\n",
       "<style scoped>\n",
       "    .dataframe tbody tr th:only-of-type {\n",
       "        vertical-align: middle;\n",
       "    }\n",
       "\n",
       "    .dataframe tbody tr th {\n",
       "        vertical-align: top;\n",
       "    }\n",
       "\n",
       "    .dataframe thead th {\n",
       "        text-align: right;\n",
       "    }\n",
       "</style>\n",
       "<table border=\"1\" class=\"dataframe\">\n",
       "  <thead>\n",
       "    <tr style=\"text-align: right;\">\n",
       "      <th></th>\n",
       "      <th>W</th>\n",
       "      <th>X</th>\n",
       "      <th>Y</th>\n",
       "      <th>Z</th>\n",
       "    </tr>\n",
       "  </thead>\n",
       "  <tbody>\n",
       "    <tr>\n",
       "      <th>0</th>\n",
       "      <td>6.026331</td>\n",
       "      <td>-4.588844</td>\n",
       "      <td>8.988758</td>\n",
       "      <td>1.324941</td>\n",
       "    </tr>\n",
       "    <tr>\n",
       "      <th>1</th>\n",
       "      <td>9.075492</td>\n",
       "      <td>-9.440866</td>\n",
       "      <td>-0.276325</td>\n",
       "      <td>-7.754989</td>\n",
       "    </tr>\n",
       "    <tr>\n",
       "      <th>2</th>\n",
       "      <td>7.658744</td>\n",
       "      <td>-7.436920</td>\n",
       "      <td>-5.404298</td>\n",
       "      <td>9.100133</td>\n",
       "    </tr>\n",
       "    <tr>\n",
       "      <th>3</th>\n",
       "      <td>8.027564</td>\n",
       "      <td>5.812169</td>\n",
       "      <td>-2.988894</td>\n",
       "      <td>6.808054</td>\n",
       "    </tr>\n",
       "  </tbody>\n",
       "</table>\n",
       "</div>"
      ],
      "text/plain": [
       "          W         X         Y         Z\n",
       "0  6.026331 -4.588844  8.988758  1.324941\n",
       "1  9.075492 -9.440866 -0.276325 -7.754989\n",
       "2  7.658744 -7.436920 -5.404298  9.100133\n",
       "3  8.027564  5.812169 -2.988894  6.808054"
      ]
     },
     "execution_count": 48,
     "metadata": {},
     "output_type": "execute_result"
    }
   ],
   "source": [
    "# Reiniciamos los índices y borramos los anteriores explícitamente\n",
    "df.reset_index(drop=True, inplace=True)\n",
    "\n",
    "df"
   ]
  },
  {
   "cell_type": "markdown",
   "metadata": {},
   "source": [
    "Esto es solo la punta del iceberg, para más información sobre la clase `DataFrame` tenéis la [documentación oficial](https://pandas.pydata.org/docs/reference/api/pandas.DataFrame.html)."
   ]
  },
  {
   "cell_type": "code",
   "execution_count": null,
   "metadata": {},
   "outputs": [],
   "source": []
  }
 ],
 "metadata": {
  "kernelspec": {
   "display_name": "Python 3 (ipykernel)",
   "language": "python",
   "name": "python3"
  },
  "language_info": {
   "codemirror_mode": {
    "name": "ipython",
    "version": 3
   },
   "file_extension": ".py",
   "mimetype": "text/x-python",
   "name": "python",
   "nbconvert_exporter": "python",
   "pygments_lexer": "ipython3",
   "version": "3.11.1"
  }
 },
 "nbformat": 4,
 "nbformat_minor": 1
}
