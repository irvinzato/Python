{
 "cells": [
  {
   "cell_type": "markdown",
   "metadata": {
    "collapsed": true
   },
   "source": [
    "# Operaciones\n",
    "\n",
    "Los `DataFrames` ofrecen varias operaciones básicas, el listado completo se puede encontrar en la [documentación](https://pandas.pydata.org/docs/user_guide/basics.html). \n",
    "\n",
    "## Rango de fechas"
   ]
  },
  {
   "cell_type": "code",
   "execution_count": 3,
   "metadata": {},
   "outputs": [
    {
     "data": {
      "text/plain": [
       "DatetimeIndex(['2023-08-04', '2023-08-05', '2023-08-06', '2023-08-07',\n",
       "               '2023-08-08', '2023-08-09', '2023-08-10', '2023-08-11',\n",
       "               '2023-08-12', '2023-08-13', '2023-08-14', '2023-08-15',\n",
       "               '2023-08-16', '2023-08-17', '2023-08-18', '2023-08-19',\n",
       "               '2023-08-20', '2023-08-21', '2023-08-22', '2023-08-23'],\n",
       "              dtype='datetime64[ns]', freq='D')"
      ]
     },
     "execution_count": 3,
     "metadata": {},
     "output_type": "execute_result"
    }
   ],
   "source": [
    "import pandas as pd\n",
    "import numpy as np\n",
    "\n",
    "# Rango de fechas para usar de índice en un dataframe\n",
    "fechas = pd.date_range(\"08/04/2023\", periods=20) #Genera 20 dias a partir de cierta fecha\n",
    "\n",
    "fechas"
   ]
  },
  {
   "cell_type": "markdown",
   "metadata": {},
   "source": [
    "## Consultas rápidas"
   ]
  },
  {
   "cell_type": "code",
   "execution_count": 4,
   "metadata": {},
   "outputs": [
    {
     "data": {
      "text/html": [
       "<div>\n",
       "<style scoped>\n",
       "    .dataframe tbody tr th:only-of-type {\n",
       "        vertical-align: middle;\n",
       "    }\n",
       "\n",
       "    .dataframe tbody tr th {\n",
       "        vertical-align: top;\n",
       "    }\n",
       "\n",
       "    .dataframe thead th {\n",
       "        text-align: right;\n",
       "    }\n",
       "</style>\n",
       "<table border=\"1\" class=\"dataframe\">\n",
       "  <thead>\n",
       "    <tr style=\"text-align: right;\">\n",
       "      <th></th>\n",
       "      <th>A</th>\n",
       "      <th>B</th>\n",
       "      <th>C</th>\n",
       "      <th>D</th>\n",
       "    </tr>\n",
       "  </thead>\n",
       "  <tbody>\n",
       "    <tr>\n",
       "      <th>2023-08-04</th>\n",
       "      <td>0.426949</td>\n",
       "      <td>0.840222</td>\n",
       "      <td>-0.232874</td>\n",
       "      <td>-1.698797</td>\n",
       "    </tr>\n",
       "    <tr>\n",
       "      <th>2023-08-05</th>\n",
       "      <td>0.326430</td>\n",
       "      <td>-0.162327</td>\n",
       "      <td>1.557541</td>\n",
       "      <td>0.506056</td>\n",
       "    </tr>\n",
       "    <tr>\n",
       "      <th>2023-08-06</th>\n",
       "      <td>-1.129210</td>\n",
       "      <td>-0.393665</td>\n",
       "      <td>-0.405837</td>\n",
       "      <td>-1.235995</td>\n",
       "    </tr>\n",
       "    <tr>\n",
       "      <th>2023-08-07</th>\n",
       "      <td>-1.562617</td>\n",
       "      <td>0.769905</td>\n",
       "      <td>-0.004020</td>\n",
       "      <td>-0.575096</td>\n",
       "    </tr>\n",
       "    <tr>\n",
       "      <th>2023-08-08</th>\n",
       "      <td>0.604248</td>\n",
       "      <td>0.043948</td>\n",
       "      <td>1.488435</td>\n",
       "      <td>0.351583</td>\n",
       "    </tr>\n",
       "    <tr>\n",
       "      <th>2023-08-09</th>\n",
       "      <td>0.334357</td>\n",
       "      <td>0.471756</td>\n",
       "      <td>0.862360</td>\n",
       "      <td>-1.278770</td>\n",
       "    </tr>\n",
       "    <tr>\n",
       "      <th>2023-08-10</th>\n",
       "      <td>1.260706</td>\n",
       "      <td>0.434635</td>\n",
       "      <td>0.555900</td>\n",
       "      <td>-0.945319</td>\n",
       "    </tr>\n",
       "    <tr>\n",
       "      <th>2023-08-11</th>\n",
       "      <td>0.543238</td>\n",
       "      <td>0.031334</td>\n",
       "      <td>-1.330968</td>\n",
       "      <td>0.714981</td>\n",
       "    </tr>\n",
       "    <tr>\n",
       "      <th>2023-08-12</th>\n",
       "      <td>-1.291275</td>\n",
       "      <td>-2.376736</td>\n",
       "      <td>0.926573</td>\n",
       "      <td>1.349529</td>\n",
       "    </tr>\n",
       "    <tr>\n",
       "      <th>2023-08-13</th>\n",
       "      <td>-0.403799</td>\n",
       "      <td>-1.425671</td>\n",
       "      <td>-1.267554</td>\n",
       "      <td>-0.505495</td>\n",
       "    </tr>\n",
       "    <tr>\n",
       "      <th>2023-08-14</th>\n",
       "      <td>0.857580</td>\n",
       "      <td>0.242759</td>\n",
       "      <td>-2.162486</td>\n",
       "      <td>-0.257918</td>\n",
       "    </tr>\n",
       "    <tr>\n",
       "      <th>2023-08-15</th>\n",
       "      <td>0.958052</td>\n",
       "      <td>-0.078681</td>\n",
       "      <td>-0.265618</td>\n",
       "      <td>-0.370214</td>\n",
       "    </tr>\n",
       "    <tr>\n",
       "      <th>2023-08-16</th>\n",
       "      <td>0.472706</td>\n",
       "      <td>2.011865</td>\n",
       "      <td>0.117873</td>\n",
       "      <td>1.448262</td>\n",
       "    </tr>\n",
       "    <tr>\n",
       "      <th>2023-08-17</th>\n",
       "      <td>-0.180322</td>\n",
       "      <td>0.742784</td>\n",
       "      <td>0.294334</td>\n",
       "      <td>-1.177048</td>\n",
       "    </tr>\n",
       "    <tr>\n",
       "      <th>2023-08-18</th>\n",
       "      <td>1.528415</td>\n",
       "      <td>-1.290257</td>\n",
       "      <td>-0.374942</td>\n",
       "      <td>-0.645175</td>\n",
       "    </tr>\n",
       "    <tr>\n",
       "      <th>2023-08-19</th>\n",
       "      <td>-1.207194</td>\n",
       "      <td>0.353953</td>\n",
       "      <td>-0.181650</td>\n",
       "      <td>-1.491527</td>\n",
       "    </tr>\n",
       "    <tr>\n",
       "      <th>2023-08-20</th>\n",
       "      <td>-0.882318</td>\n",
       "      <td>-0.513279</td>\n",
       "      <td>1.384555</td>\n",
       "      <td>-1.838723</td>\n",
       "    </tr>\n",
       "    <tr>\n",
       "      <th>2023-08-21</th>\n",
       "      <td>0.319353</td>\n",
       "      <td>-0.554913</td>\n",
       "      <td>-0.145633</td>\n",
       "      <td>-0.365036</td>\n",
       "    </tr>\n",
       "    <tr>\n",
       "      <th>2023-08-22</th>\n",
       "      <td>-1.043198</td>\n",
       "      <td>-0.616661</td>\n",
       "      <td>0.032352</td>\n",
       "      <td>-0.115190</td>\n",
       "    </tr>\n",
       "    <tr>\n",
       "      <th>2023-08-23</th>\n",
       "      <td>-0.118775</td>\n",
       "      <td>0.676636</td>\n",
       "      <td>0.725511</td>\n",
       "      <td>0.574854</td>\n",
       "    </tr>\n",
       "  </tbody>\n",
       "</table>\n",
       "</div>"
      ],
      "text/plain": [
       "                   A         B         C         D\n",
       "2023-08-04  0.426949  0.840222 -0.232874 -1.698797\n",
       "2023-08-05  0.326430 -0.162327  1.557541  0.506056\n",
       "2023-08-06 -1.129210 -0.393665 -0.405837 -1.235995\n",
       "2023-08-07 -1.562617  0.769905 -0.004020 -0.575096\n",
       "2023-08-08  0.604248  0.043948  1.488435  0.351583\n",
       "2023-08-09  0.334357  0.471756  0.862360 -1.278770\n",
       "2023-08-10  1.260706  0.434635  0.555900 -0.945319\n",
       "2023-08-11  0.543238  0.031334 -1.330968  0.714981\n",
       "2023-08-12 -1.291275 -2.376736  0.926573  1.349529\n",
       "2023-08-13 -0.403799 -1.425671 -1.267554 -0.505495\n",
       "2023-08-14  0.857580  0.242759 -2.162486 -0.257918\n",
       "2023-08-15  0.958052 -0.078681 -0.265618 -0.370214\n",
       "2023-08-16  0.472706  2.011865  0.117873  1.448262\n",
       "2023-08-17 -0.180322  0.742784  0.294334 -1.177048\n",
       "2023-08-18  1.528415 -1.290257 -0.374942 -0.645175\n",
       "2023-08-19 -1.207194  0.353953 -0.181650 -1.491527\n",
       "2023-08-20 -0.882318 -0.513279  1.384555 -1.838723\n",
       "2023-08-21  0.319353 -0.554913 -0.145633 -0.365036\n",
       "2023-08-22 -1.043198 -0.616661  0.032352 -0.115190\n",
       "2023-08-23 -0.118775  0.676636  0.725511  0.574854"
      ]
     },
     "execution_count": 4,
     "metadata": {},
     "output_type": "execute_result"
    }
   ],
   "source": [
    "# Lo utilizamos para rellenar un df con valores aleatorios\n",
    "#20 filas, 4 columnas. Usando como index las fechas anteriores y columnas al gusto\n",
    "df = pd.DataFrame(np.random.randn(20, 4), index=fechas, columns=[\"A\", \"B\", \"C\", \"D\"])\n",
    "\n",
    "df"
   ]
  },
  {
   "cell_type": "code",
   "execution_count": 5,
   "metadata": {},
   "outputs": [
    {
     "data": {
      "text/html": [
       "<div>\n",
       "<style scoped>\n",
       "    .dataframe tbody tr th:only-of-type {\n",
       "        vertical-align: middle;\n",
       "    }\n",
       "\n",
       "    .dataframe tbody tr th {\n",
       "        vertical-align: top;\n",
       "    }\n",
       "\n",
       "    .dataframe thead th {\n",
       "        text-align: right;\n",
       "    }\n",
       "</style>\n",
       "<table border=\"1\" class=\"dataframe\">\n",
       "  <thead>\n",
       "    <tr style=\"text-align: right;\">\n",
       "      <th></th>\n",
       "      <th>A</th>\n",
       "      <th>B</th>\n",
       "      <th>C</th>\n",
       "      <th>D</th>\n",
       "    </tr>\n",
       "  </thead>\n",
       "  <tbody>\n",
       "    <tr>\n",
       "      <th>2023-08-04</th>\n",
       "      <td>0.426949</td>\n",
       "      <td>0.840222</td>\n",
       "      <td>-0.232874</td>\n",
       "      <td>-1.698797</td>\n",
       "    </tr>\n",
       "    <tr>\n",
       "      <th>2023-08-05</th>\n",
       "      <td>0.326430</td>\n",
       "      <td>-0.162327</td>\n",
       "      <td>1.557541</td>\n",
       "      <td>0.506056</td>\n",
       "    </tr>\n",
       "    <tr>\n",
       "      <th>2023-08-06</th>\n",
       "      <td>-1.129210</td>\n",
       "      <td>-0.393665</td>\n",
       "      <td>-0.405837</td>\n",
       "      <td>-1.235995</td>\n",
       "    </tr>\n",
       "    <tr>\n",
       "      <th>2023-08-07</th>\n",
       "      <td>-1.562617</td>\n",
       "      <td>0.769905</td>\n",
       "      <td>-0.004020</td>\n",
       "      <td>-0.575096</td>\n",
       "    </tr>\n",
       "    <tr>\n",
       "      <th>2023-08-08</th>\n",
       "      <td>0.604248</td>\n",
       "      <td>0.043948</td>\n",
       "      <td>1.488435</td>\n",
       "      <td>0.351583</td>\n",
       "    </tr>\n",
       "  </tbody>\n",
       "</table>\n",
       "</div>"
      ],
      "text/plain": [
       "                   A         B         C         D\n",
       "2023-08-04  0.426949  0.840222 -0.232874 -1.698797\n",
       "2023-08-05  0.326430 -0.162327  1.557541  0.506056\n",
       "2023-08-06 -1.129210 -0.393665 -0.405837 -1.235995\n",
       "2023-08-07 -1.562617  0.769905 -0.004020 -0.575096\n",
       "2023-08-08  0.604248  0.043948  1.488435  0.351583"
      ]
     },
     "execution_count": 5,
     "metadata": {},
     "output_type": "execute_result"
    }
   ],
   "source": [
    "# Primeras 5 filas (cabeza)\n",
    "df.head()"
   ]
  },
  {
   "cell_type": "code",
   "execution_count": 6,
   "metadata": {},
   "outputs": [
    {
     "data": {
      "text/html": [
       "<div>\n",
       "<style scoped>\n",
       "    .dataframe tbody tr th:only-of-type {\n",
       "        vertical-align: middle;\n",
       "    }\n",
       "\n",
       "    .dataframe tbody tr th {\n",
       "        vertical-align: top;\n",
       "    }\n",
       "\n",
       "    .dataframe thead th {\n",
       "        text-align: right;\n",
       "    }\n",
       "</style>\n",
       "<table border=\"1\" class=\"dataframe\">\n",
       "  <thead>\n",
       "    <tr style=\"text-align: right;\">\n",
       "      <th></th>\n",
       "      <th>A</th>\n",
       "      <th>B</th>\n",
       "      <th>C</th>\n",
       "      <th>D</th>\n",
       "    </tr>\n",
       "  </thead>\n",
       "  <tbody>\n",
       "    <tr>\n",
       "      <th>2023-08-04</th>\n",
       "      <td>0.426949</td>\n",
       "      <td>0.840222</td>\n",
       "      <td>-0.232874</td>\n",
       "      <td>-1.698797</td>\n",
       "    </tr>\n",
       "    <tr>\n",
       "      <th>2023-08-05</th>\n",
       "      <td>0.326430</td>\n",
       "      <td>-0.162327</td>\n",
       "      <td>1.557541</td>\n",
       "      <td>0.506056</td>\n",
       "    </tr>\n",
       "    <tr>\n",
       "      <th>2023-08-06</th>\n",
       "      <td>-1.129210</td>\n",
       "      <td>-0.393665</td>\n",
       "      <td>-0.405837</td>\n",
       "      <td>-1.235995</td>\n",
       "    </tr>\n",
       "  </tbody>\n",
       "</table>\n",
       "</div>"
      ],
      "text/plain": [
       "                   A         B         C         D\n",
       "2023-08-04  0.426949  0.840222 -0.232874 -1.698797\n",
       "2023-08-05  0.326430 -0.162327  1.557541  0.506056\n",
       "2023-08-06 -1.129210 -0.393665 -0.405837 -1.235995"
      ]
     },
     "execution_count": 6,
     "metadata": {},
     "output_type": "execute_result"
    }
   ],
   "source": [
    "# Primeras tres filas\n",
    "df.head(3)"
   ]
  },
  {
   "cell_type": "code",
   "execution_count": 7,
   "metadata": {},
   "outputs": [
    {
     "data": {
      "text/html": [
       "<div>\n",
       "<style scoped>\n",
       "    .dataframe tbody tr th:only-of-type {\n",
       "        vertical-align: middle;\n",
       "    }\n",
       "\n",
       "    .dataframe tbody tr th {\n",
       "        vertical-align: top;\n",
       "    }\n",
       "\n",
       "    .dataframe thead th {\n",
       "        text-align: right;\n",
       "    }\n",
       "</style>\n",
       "<table border=\"1\" class=\"dataframe\">\n",
       "  <thead>\n",
       "    <tr style=\"text-align: right;\">\n",
       "      <th></th>\n",
       "      <th>A</th>\n",
       "      <th>B</th>\n",
       "      <th>C</th>\n",
       "      <th>D</th>\n",
       "    </tr>\n",
       "  </thead>\n",
       "  <tbody>\n",
       "    <tr>\n",
       "      <th>2023-08-19</th>\n",
       "      <td>-1.207194</td>\n",
       "      <td>0.353953</td>\n",
       "      <td>-0.181650</td>\n",
       "      <td>-1.491527</td>\n",
       "    </tr>\n",
       "    <tr>\n",
       "      <th>2023-08-20</th>\n",
       "      <td>-0.882318</td>\n",
       "      <td>-0.513279</td>\n",
       "      <td>1.384555</td>\n",
       "      <td>-1.838723</td>\n",
       "    </tr>\n",
       "    <tr>\n",
       "      <th>2023-08-21</th>\n",
       "      <td>0.319353</td>\n",
       "      <td>-0.554913</td>\n",
       "      <td>-0.145633</td>\n",
       "      <td>-0.365036</td>\n",
       "    </tr>\n",
       "    <tr>\n",
       "      <th>2023-08-22</th>\n",
       "      <td>-1.043198</td>\n",
       "      <td>-0.616661</td>\n",
       "      <td>0.032352</td>\n",
       "      <td>-0.115190</td>\n",
       "    </tr>\n",
       "    <tr>\n",
       "      <th>2023-08-23</th>\n",
       "      <td>-0.118775</td>\n",
       "      <td>0.676636</td>\n",
       "      <td>0.725511</td>\n",
       "      <td>0.574854</td>\n",
       "    </tr>\n",
       "  </tbody>\n",
       "</table>\n",
       "</div>"
      ],
      "text/plain": [
       "                   A         B         C         D\n",
       "2023-08-19 -1.207194  0.353953 -0.181650 -1.491527\n",
       "2023-08-20 -0.882318 -0.513279  1.384555 -1.838723\n",
       "2023-08-21  0.319353 -0.554913 -0.145633 -0.365036\n",
       "2023-08-22 -1.043198 -0.616661  0.032352 -0.115190\n",
       "2023-08-23 -0.118775  0.676636  0.725511  0.574854"
      ]
     },
     "execution_count": 7,
     "metadata": {},
     "output_type": "execute_result"
    }
   ],
   "source": [
    "# Últimas 5 filas (cola)\n",
    "df.tail()"
   ]
  },
  {
   "cell_type": "code",
   "execution_count": 8,
   "metadata": {},
   "outputs": [
    {
     "data": {
      "text/html": [
       "<div>\n",
       "<style scoped>\n",
       "    .dataframe tbody tr th:only-of-type {\n",
       "        vertical-align: middle;\n",
       "    }\n",
       "\n",
       "    .dataframe tbody tr th {\n",
       "        vertical-align: top;\n",
       "    }\n",
       "\n",
       "    .dataframe thead th {\n",
       "        text-align: right;\n",
       "    }\n",
       "</style>\n",
       "<table border=\"1\" class=\"dataframe\">\n",
       "  <thead>\n",
       "    <tr style=\"text-align: right;\">\n",
       "      <th></th>\n",
       "      <th>A</th>\n",
       "      <th>B</th>\n",
       "      <th>C</th>\n",
       "      <th>D</th>\n",
       "    </tr>\n",
       "  </thead>\n",
       "  <tbody>\n",
       "    <tr>\n",
       "      <th>2023-08-21</th>\n",
       "      <td>0.319353</td>\n",
       "      <td>-0.554913</td>\n",
       "      <td>-0.145633</td>\n",
       "      <td>-0.365036</td>\n",
       "    </tr>\n",
       "    <tr>\n",
       "      <th>2023-08-22</th>\n",
       "      <td>-1.043198</td>\n",
       "      <td>-0.616661</td>\n",
       "      <td>0.032352</td>\n",
       "      <td>-0.115190</td>\n",
       "    </tr>\n",
       "    <tr>\n",
       "      <th>2023-08-23</th>\n",
       "      <td>-0.118775</td>\n",
       "      <td>0.676636</td>\n",
       "      <td>0.725511</td>\n",
       "      <td>0.574854</td>\n",
       "    </tr>\n",
       "  </tbody>\n",
       "</table>\n",
       "</div>"
      ],
      "text/plain": [
       "                   A         B         C         D\n",
       "2023-08-21  0.319353 -0.554913 -0.145633 -0.365036\n",
       "2023-08-22 -1.043198 -0.616661  0.032352 -0.115190\n",
       "2023-08-23 -0.118775  0.676636  0.725511  0.574854"
      ]
     },
     "execution_count": 8,
     "metadata": {},
     "output_type": "execute_result"
    }
   ],
   "source": [
    "# Últimas tres filas\n",
    "df.tail(3)"
   ]
  },
  {
   "cell_type": "markdown",
   "metadata": {},
   "source": [
    "## Valores únicos"
   ]
  },
  {
   "cell_type": "code",
   "execution_count": 9,
   "metadata": {},
   "outputs": [
    {
     "data": {
      "text/html": [
       "<div>\n",
       "<style scoped>\n",
       "    .dataframe tbody tr th:only-of-type {\n",
       "        vertical-align: middle;\n",
       "    }\n",
       "\n",
       "    .dataframe tbody tr th {\n",
       "        vertical-align: top;\n",
       "    }\n",
       "\n",
       "    .dataframe thead th {\n",
       "        text-align: right;\n",
       "    }\n",
       "</style>\n",
       "<table border=\"1\" class=\"dataframe\">\n",
       "  <thead>\n",
       "    <tr style=\"text-align: right;\">\n",
       "      <th></th>\n",
       "      <th>enteros</th>\n",
       "      <th>decimales</th>\n",
       "      <th>cadenas</th>\n",
       "    </tr>\n",
       "  </thead>\n",
       "  <tbody>\n",
       "    <tr>\n",
       "      <th>0</th>\n",
       "      <td>100</td>\n",
       "      <td>3.140</td>\n",
       "      <td>hola</td>\n",
       "    </tr>\n",
       "    <tr>\n",
       "      <th>1</th>\n",
       "      <td>200</td>\n",
       "      <td>2.720</td>\n",
       "      <td>adiós</td>\n",
       "    </tr>\n",
       "    <tr>\n",
       "      <th>2</th>\n",
       "      <td>300</td>\n",
       "      <td>1.618</td>\n",
       "      <td>hola</td>\n",
       "    </tr>\n",
       "    <tr>\n",
       "      <th>3</th>\n",
       "      <td>400</td>\n",
       "      <td>3.140</td>\n",
       "      <td>adiós</td>\n",
       "    </tr>\n",
       "  </tbody>\n",
       "</table>\n",
       "</div>"
      ],
      "text/plain": [
       "   enteros  decimales cadenas\n",
       "0      100      3.140    hola\n",
       "1      200      2.720   adiós\n",
       "2      300      1.618    hola\n",
       "3      400      3.140   adiós"
      ]
     },
     "execution_count": 9,
     "metadata": {},
     "output_type": "execute_result"
    }
   ],
   "source": [
    "# Definimos un DataFrame con información de diferentes tipos\n",
    "df = pd.DataFrame({\n",
    "      'enteros': [100, 200, 300, 400],\n",
    "    'decimales': [3.14, 2.72, 1.618, 3.14],\n",
    "      'cadenas': ['hola','adiós','hola','adiós']})\n",
    "\n",
    "df"
   ]
  },
  {
   "cell_type": "code",
   "execution_count": 10,
   "metadata": {},
   "outputs": [
    {
     "data": {
      "text/plain": [
       "array(['hola', 'adiós'], dtype=object)"
      ]
     },
     "execution_count": 10,
     "metadata": {},
     "output_type": "execute_result"
    }
   ],
   "source": [
    "# Array de valores únicos de una columna\n",
    "df['cadenas'].unique()"
   ]
  },
  {
   "cell_type": "code",
   "execution_count": 11,
   "metadata": {},
   "outputs": [
    {
     "data": {
      "text/plain": [
       "2"
      ]
     },
     "execution_count": 11,
     "metadata": {},
     "output_type": "execute_result"
    }
   ],
   "source": [
    "# Contador de valores únicos de una columna\n",
    "df['cadenas'].nunique()"
   ]
  },
  {
   "cell_type": "code",
   "execution_count": 12,
   "metadata": {},
   "outputs": [
    {
     "data": {
      "text/plain": [
       "cadenas\n",
       "hola     2\n",
       "adiós    2\n",
       "Name: count, dtype: int64"
      ]
     },
     "execution_count": 12,
     "metadata": {},
     "output_type": "execute_result"
    }
   ],
   "source": [
    "# Dataframe con los de valores únicos y su contador de una columna\n",
    "df['cadenas'].value_counts()"
   ]
  },
  {
   "cell_type": "code",
   "execution_count": 13,
   "metadata": {},
   "outputs": [
    {
     "data": {
      "text/plain": [
       "decimales\n",
       "3.140    2\n",
       "2.720    1\n",
       "1.618    1\n",
       "Name: count, dtype: int64"
      ]
     },
     "execution_count": 13,
     "metadata": {},
     "output_type": "execute_result"
    }
   ],
   "source": [
    "df['decimales'].value_counts()"
   ]
  },
  {
   "cell_type": "markdown",
   "metadata": {},
   "source": [
    "## Aplicación de funciones"
   ]
  },
  {
   "cell_type": "code",
   "execution_count": 14,
   "metadata": {},
   "outputs": [
    {
     "data": {
      "text/plain": [
       "10.618"
      ]
     },
     "execution_count": 14,
     "metadata": {},
     "output_type": "execute_result"
    }
   ],
   "source": [
    "# Método interno de las Series columna\n",
    "df['decimales'].sum()"
   ]
  },
  {
   "cell_type": "code",
   "execution_count": 15,
   "metadata": {},
   "outputs": [
    {
     "data": {
      "text/plain": [
       "0    4\n",
       "1    5\n",
       "2    4\n",
       "3    5\n",
       "Name: cadenas, dtype: int64"
      ]
     },
     "execution_count": 15,
     "metadata": {},
     "output_type": "execute_result"
    }
   ],
   "source": [
    "# Aplicar una función predefinida\n",
    "df['cadenas'].apply(len) #Para cada registro devuelve su longitud(caracteres)"
   ]
  },
  {
   "cell_type": "code",
   "execution_count": 16,
   "metadata": {},
   "outputs": [
    {
     "data": {
      "text/plain": [
       "0    200\n",
       "1    400\n",
       "2    600\n",
       "3    800\n",
       "Name: enteros, dtype: int64"
      ]
     },
     "execution_count": 16,
     "metadata": {},
     "output_type": "execute_result"
    }
   ],
   "source": [
    "# Aplicar una función definida\n",
    "def doblar(n):\n",
    "    return n*2\n",
    "\n",
    "df['enteros'].apply(doblar)"
   ]
  },
  {
   "cell_type": "code",
   "execution_count": 17,
   "metadata": {},
   "outputs": [
    {
     "data": {
      "text/plain": [
       "0     33.333333\n",
       "1     66.666667\n",
       "2    100.000000\n",
       "3    133.333333\n",
       "Name: enteros, dtype: float64"
      ]
     },
     "execution_count": 17,
     "metadata": {},
     "output_type": "execute_result"
    }
   ],
   "source": [
    "# Aplicar una función anónima\n",
    "df['enteros'].apply(lambda n: n/3)"
   ]
  },
  {
   "cell_type": "code",
   "execution_count": 18,
   "metadata": {},
   "outputs": [],
   "source": [
    "# Borrar permanentemente una columna\n",
    "del df['decimales']"
   ]
  },
  {
   "cell_type": "code",
   "execution_count": 19,
   "metadata": {},
   "outputs": [
    {
     "data": {
      "text/html": [
       "<div>\n",
       "<style scoped>\n",
       "    .dataframe tbody tr th:only-of-type {\n",
       "        vertical-align: middle;\n",
       "    }\n",
       "\n",
       "    .dataframe tbody tr th {\n",
       "        vertical-align: top;\n",
       "    }\n",
       "\n",
       "    .dataframe thead th {\n",
       "        text-align: right;\n",
       "    }\n",
       "</style>\n",
       "<table border=\"1\" class=\"dataframe\">\n",
       "  <thead>\n",
       "    <tr style=\"text-align: right;\">\n",
       "      <th></th>\n",
       "      <th>enteros</th>\n",
       "      <th>cadenas</th>\n",
       "    </tr>\n",
       "  </thead>\n",
       "  <tbody>\n",
       "    <tr>\n",
       "      <th>0</th>\n",
       "      <td>100</td>\n",
       "      <td>hola</td>\n",
       "    </tr>\n",
       "    <tr>\n",
       "      <th>1</th>\n",
       "      <td>200</td>\n",
       "      <td>adiós</td>\n",
       "    </tr>\n",
       "    <tr>\n",
       "      <th>2</th>\n",
       "      <td>300</td>\n",
       "      <td>hola</td>\n",
       "    </tr>\n",
       "    <tr>\n",
       "      <th>3</th>\n",
       "      <td>400</td>\n",
       "      <td>adiós</td>\n",
       "    </tr>\n",
       "  </tbody>\n",
       "</table>\n",
       "</div>"
      ],
      "text/plain": [
       "   enteros cadenas\n",
       "0      100    hola\n",
       "1      200   adiós\n",
       "2      300    hola\n",
       "3      400   adiós"
      ]
     },
     "execution_count": 19,
     "metadata": {},
     "output_type": "execute_result"
    }
   ],
   "source": [
    "df"
   ]
  },
  {
   "cell_type": "markdown",
   "metadata": {},
   "source": [
    "## Recuperar índices"
   ]
  },
  {
   "cell_type": "code",
   "execution_count": 20,
   "metadata": {},
   "outputs": [
    {
     "data": {
      "text/plain": [
       "Index(['enteros', 'cadenas'], dtype='object')"
      ]
     },
     "execution_count": 20,
     "metadata": {},
     "output_type": "execute_result"
    }
   ],
   "source": [
    "# Índices de las columnas\n",
    "df.columns"
   ]
  },
  {
   "cell_type": "code",
   "execution_count": 23,
   "metadata": {},
   "outputs": [
    {
     "name": "stdout",
     "output_type": "stream",
     "text": [
      "enteros\n",
      "cadenas\n"
     ]
    }
   ],
   "source": [
    "for index in df.columns:\n",
    "    print(index)"
   ]
  },
  {
   "cell_type": "code",
   "execution_count": 21,
   "metadata": {},
   "outputs": [
    {
     "data": {
      "text/plain": [
       "RangeIndex(start=0, stop=4, step=1)"
      ]
     },
     "execution_count": 21,
     "metadata": {},
     "output_type": "execute_result"
    }
   ],
   "source": [
    "# Índice de las filas\n",
    "df.index"
   ]
  },
  {
   "cell_type": "code",
   "execution_count": 22,
   "metadata": {},
   "outputs": [
    {
     "name": "stdout",
     "output_type": "stream",
     "text": [
      "0\n",
      "1\n",
      "2\n",
      "3\n"
     ]
    }
   ],
   "source": [
    "for index in df.index:\n",
    "    print(index)"
   ]
  },
  {
   "cell_type": "markdown",
   "metadata": {},
   "source": [
    "## Aplicar ordenaciones"
   ]
  },
  {
   "cell_type": "code",
   "execution_count": 24,
   "metadata": {},
   "outputs": [
    {
     "data": {
      "text/html": [
       "<div>\n",
       "<style scoped>\n",
       "    .dataframe tbody tr th:only-of-type {\n",
       "        vertical-align: middle;\n",
       "    }\n",
       "\n",
       "    .dataframe tbody tr th {\n",
       "        vertical-align: top;\n",
       "    }\n",
       "\n",
       "    .dataframe thead th {\n",
       "        text-align: right;\n",
       "    }\n",
       "</style>\n",
       "<table border=\"1\" class=\"dataframe\">\n",
       "  <thead>\n",
       "    <tr style=\"text-align: right;\">\n",
       "      <th></th>\n",
       "      <th>enteros</th>\n",
       "      <th>cadenas</th>\n",
       "    </tr>\n",
       "  </thead>\n",
       "  <tbody>\n",
       "    <tr>\n",
       "      <th>0</th>\n",
       "      <td>100</td>\n",
       "      <td>hola</td>\n",
       "    </tr>\n",
       "    <tr>\n",
       "      <th>1</th>\n",
       "      <td>200</td>\n",
       "      <td>adiós</td>\n",
       "    </tr>\n",
       "    <tr>\n",
       "      <th>2</th>\n",
       "      <td>300</td>\n",
       "      <td>hola</td>\n",
       "    </tr>\n",
       "    <tr>\n",
       "      <th>3</th>\n",
       "      <td>400</td>\n",
       "      <td>adiós</td>\n",
       "    </tr>\n",
       "  </tbody>\n",
       "</table>\n",
       "</div>"
      ],
      "text/plain": [
       "   enteros cadenas\n",
       "0      100    hola\n",
       "1      200   adiós\n",
       "2      300    hola\n",
       "3      400   adiós"
      ]
     },
     "execution_count": 24,
     "metadata": {},
     "output_type": "execute_result"
    }
   ],
   "source": [
    "# Ordenar por columna (inplace=False por defecto)\n",
    "df.sort_values(by='enteros')  #Ordena de menor a mayor"
   ]
  },
  {
   "cell_type": "code",
   "execution_count": 25,
   "metadata": {},
   "outputs": [
    {
     "data": {
      "text/html": [
       "<div>\n",
       "<style scoped>\n",
       "    .dataframe tbody tr th:only-of-type {\n",
       "        vertical-align: middle;\n",
       "    }\n",
       "\n",
       "    .dataframe tbody tr th {\n",
       "        vertical-align: top;\n",
       "    }\n",
       "\n",
       "    .dataframe thead th {\n",
       "        text-align: right;\n",
       "    }\n",
       "</style>\n",
       "<table border=\"1\" class=\"dataframe\">\n",
       "  <thead>\n",
       "    <tr style=\"text-align: right;\">\n",
       "      <th></th>\n",
       "      <th>enteros</th>\n",
       "      <th>cadenas</th>\n",
       "    </tr>\n",
       "  </thead>\n",
       "  <tbody>\n",
       "    <tr>\n",
       "      <th>3</th>\n",
       "      <td>400</td>\n",
       "      <td>adiós</td>\n",
       "    </tr>\n",
       "    <tr>\n",
       "      <th>2</th>\n",
       "      <td>300</td>\n",
       "      <td>hola</td>\n",
       "    </tr>\n",
       "    <tr>\n",
       "      <th>1</th>\n",
       "      <td>200</td>\n",
       "      <td>adiós</td>\n",
       "    </tr>\n",
       "    <tr>\n",
       "      <th>0</th>\n",
       "      <td>100</td>\n",
       "      <td>hola</td>\n",
       "    </tr>\n",
       "  </tbody>\n",
       "</table>\n",
       "</div>"
      ],
      "text/plain": [
       "   enteros cadenas\n",
       "3      400   adiós\n",
       "2      300    hola\n",
       "1      200   adiós\n",
       "0      100    hola"
      ]
     },
     "execution_count": 25,
     "metadata": {},
     "output_type": "execute_result"
    }
   ],
   "source": [
    "# Ordenar por columna inversamente (inplace=False por defecto, con True guardara el cambio)\n",
    "df.sort_values(by='enteros',ascending=False)   #Ordena de mayor a menor"
   ]
  },
  {
   "cell_type": "code",
   "execution_count": 26,
   "metadata": {},
   "outputs": [
    {
     "data": {
      "text/html": [
       "<div>\n",
       "<style scoped>\n",
       "    .dataframe tbody tr th:only-of-type {\n",
       "        vertical-align: middle;\n",
       "    }\n",
       "\n",
       "    .dataframe tbody tr th {\n",
       "        vertical-align: top;\n",
       "    }\n",
       "\n",
       "    .dataframe thead th {\n",
       "        text-align: right;\n",
       "    }\n",
       "</style>\n",
       "<table border=\"1\" class=\"dataframe\">\n",
       "  <thead>\n",
       "    <tr style=\"text-align: right;\">\n",
       "      <th></th>\n",
       "      <th>enteros</th>\n",
       "      <th>cadenas</th>\n",
       "    </tr>\n",
       "  </thead>\n",
       "  <tbody>\n",
       "    <tr>\n",
       "      <th>0</th>\n",
       "      <td>100</td>\n",
       "      <td>hola</td>\n",
       "    </tr>\n",
       "    <tr>\n",
       "      <th>1</th>\n",
       "      <td>200</td>\n",
       "      <td>adiós</td>\n",
       "    </tr>\n",
       "    <tr>\n",
       "      <th>2</th>\n",
       "      <td>300</td>\n",
       "      <td>hola</td>\n",
       "    </tr>\n",
       "    <tr>\n",
       "      <th>3</th>\n",
       "      <td>400</td>\n",
       "      <td>adiós</td>\n",
       "    </tr>\n",
       "  </tbody>\n",
       "</table>\n",
       "</div>"
      ],
      "text/plain": [
       "   enteros cadenas\n",
       "0      100    hola\n",
       "1      200   adiós\n",
       "2      300    hola\n",
       "3      400   adiós"
      ]
     },
     "execution_count": 26,
     "metadata": {},
     "output_type": "execute_result"
    }
   ],
   "source": [
    "df"
   ]
  },
  {
   "cell_type": "code",
   "execution_count": null,
   "metadata": {},
   "outputs": [],
   "source": []
  }
 ],
 "metadata": {
  "kernelspec": {
   "display_name": "Python 3 (ipykernel)",
   "language": "python",
   "name": "python3"
  },
  "language_info": {
   "codemirror_mode": {
    "name": "ipython",
    "version": 3
   },
   "file_extension": ".py",
   "mimetype": "text/x-python",
   "name": "python",
   "nbconvert_exporter": "python",
   "pygments_lexer": "ipython3",
   "version": "3.11.1"
  }
 },
 "nbformat": 4,
 "nbformat_minor": 1
}
