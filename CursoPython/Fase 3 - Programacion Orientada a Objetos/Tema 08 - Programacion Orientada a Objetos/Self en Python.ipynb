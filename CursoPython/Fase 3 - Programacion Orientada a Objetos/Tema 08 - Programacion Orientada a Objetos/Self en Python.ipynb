{
 "cells": [
  {
   "cell_type": "code",
   "execution_count": 1,
   "id": "957707ae",
   "metadata": {},
   "outputs": [],
   "source": [
    "class Ejemplo:\n",
    "    contador = 0\n",
    "    \n",
    "    def __init__():\n",
    "        print(\"Se acaba de crear una instancia de Ejemplo\")"
   ]
  },
  {
   "cell_type": "code",
   "execution_count": 4,
   "id": "daa18942",
   "metadata": {},
   "outputs": [
    {
     "name": "stdout",
     "output_type": "stream",
     "text": [
      "Puedo usar atributos de la clase pero self es importante para hacer referencia explicita a la clase\n"
     ]
    },
    {
     "data": {
      "text/plain": [
       "0"
      ]
     },
     "execution_count": 4,
     "metadata": {},
     "output_type": "execute_result"
    }
   ],
   "source": [
    "print(\"Puedo usar atributos de la clase pero self es importante para hacer referencia explicita a la clase\")\n",
    "Ejemplo.contador"
   ]
  },
  {
   "cell_type": "code",
   "execution_count": 5,
   "id": "403a418d",
   "metadata": {},
   "outputs": [
    {
     "name": "stdout",
     "output_type": "stream",
     "text": [
      "Self hace referencia explicita a la clase que se creo y ocupa un lugar en la memoria !\n"
     ]
    },
    {
     "ename": "TypeError",
     "evalue": "Ejemplo.__init__() takes 0 positional arguments but 1 was given",
     "output_type": "error",
     "traceback": [
      "\u001b[1;31m---------------------------------------------------------------------------\u001b[0m",
      "\u001b[1;31mTypeError\u001b[0m                                 Traceback (most recent call last)",
      "Cell \u001b[1;32mIn[5], line 2\u001b[0m\n\u001b[0;32m      1\u001b[0m \u001b[38;5;28mprint\u001b[39m(\u001b[38;5;124m\"\u001b[39m\u001b[38;5;124mSelf hace referencia explicita a la clase que se creo y ocupa un lugar en la memoria !\u001b[39m\u001b[38;5;124m\"\u001b[39m)\n\u001b[1;32m----> 2\u001b[0m ejemplo_1 \u001b[38;5;241m=\u001b[39m \u001b[43mEjemplo\u001b[49m\u001b[43m(\u001b[49m\u001b[43m)\u001b[49m\n",
      "\u001b[1;31mTypeError\u001b[0m: Ejemplo.__init__() takes 0 positional arguments but 1 was given"
     ]
    }
   ],
   "source": [
    "print(\"Self hace referencia explicita a la clase que se creo y ocupa un lugar en la memoria !\")\n",
    "ejemplo_1 = Ejemplo()"
   ]
  },
  {
   "cell_type": "code",
   "execution_count": 6,
   "id": "6ff36082",
   "metadata": {},
   "outputs": [],
   "source": [
    "class Ejemplo_2:\n",
    "    \n",
    "    def saludar():\n",
    "        print(\"Hola desde Ejemplo_2\")\n",
    "        \n",
    "    def despedir():\n",
    "        print(\"Hasta luego, sigue firme\")"
   ]
  },
  {
   "cell_type": "code",
   "execution_count": 7,
   "id": "3e08d5d4",
   "metadata": {},
   "outputs": [
    {
     "name": "stdout",
     "output_type": "stream",
     "text": [
      "Hola desde Ejemplo_2\n"
     ]
    }
   ],
   "source": [
    "Ejemplo_2.saludar()"
   ]
  },
  {
   "cell_type": "code",
   "execution_count": 46,
   "id": "b0050c35",
   "metadata": {},
   "outputs": [
    {
     "name": "stdout",
     "output_type": "stream",
     "text": [
      "<__main__.Ejemplo_2 object at 0x000001A2C325A0D0>\n"
     ]
    }
   ],
   "source": [
    "ejemplo_2 = Ejemplo_2()"
   ]
  },
  {
   "cell_type": "code",
   "execution_count": 10,
   "id": "82e3e82f",
   "metadata": {},
   "outputs": [
    {
     "data": {
      "text/plain": [
       "'0x1a2c32a4cd0'"
      ]
     },
     "execution_count": 10,
     "metadata": {},
     "output_type": "execute_result"
    }
   ],
   "source": [
    "hex(id(ejemplo_2))"
   ]
  },
  {
   "cell_type": "code",
   "execution_count": 11,
   "id": "cbcc62b4",
   "metadata": {},
   "outputs": [
    {
     "data": {
      "text/plain": [
       "'0x1a2c178ac20'"
      ]
     },
     "execution_count": 11,
     "metadata": {},
     "output_type": "execute_result"
    }
   ],
   "source": [
    "hex(id(Ejemplo_2))"
   ]
  },
  {
   "cell_type": "code",
   "execution_count": 14,
   "id": "82629663",
   "metadata": {},
   "outputs": [
    {
     "name": "stdout",
     "output_type": "stream",
     "text": [
      "Self puede llamarse como sea pero self es como normalmente lo llaman\n"
     ]
    }
   ],
   "source": [
    "print(\"Self puede llamarse como sea pero self es como normalmente lo llaman\")\n",
    "class Ejemplo_3:\n",
    "    \n",
    "    def __init__(argumento):\n",
    "        print(argumento)"
   ]
  },
  {
   "cell_type": "code",
   "execution_count": 15,
   "id": "27c68933",
   "metadata": {},
   "outputs": [
    {
     "name": "stdout",
     "output_type": "stream",
     "text": [
      "<__main__.Ejemplo_3 object at 0x000001A2C32C7290>\n"
     ]
    },
    {
     "data": {
      "text/plain": [
       "<__main__.Ejemplo_3 at 0x1a2c32c7290>"
      ]
     },
     "execution_count": 15,
     "metadata": {},
     "output_type": "execute_result"
    }
   ],
   "source": [
    "Ejemplo_3()"
   ]
  },
  {
   "cell_type": "code",
   "execution_count": 16,
   "id": "6e5ecaae",
   "metadata": {},
   "outputs": [
    {
     "name": "stdout",
     "output_type": "stream",
     "text": [
      "<__main__.Ejemplo_3 object at 0x000001A2C32C4790>\n"
     ]
    }
   ],
   "source": [
    "ejemplo_3 = Ejemplo_3()"
   ]
  },
  {
   "cell_type": "code",
   "execution_count": 17,
   "id": "7b08f60f",
   "metadata": {},
   "outputs": [
    {
     "name": "stdout",
     "output_type": "stream",
     "text": [
      "The Zen of Python, by Tim Peters\n",
      "\n",
      "Beautiful is better than ugly.\n",
      "Explicit is better than implicit.\n",
      "Simple is better than complex.\n",
      "Complex is better than complicated.\n",
      "Flat is better than nested.\n",
      "Sparse is better than dense.\n",
      "Readability counts.\n",
      "Special cases aren't special enough to break the rules.\n",
      "Although practicality beats purity.\n",
      "Errors should never pass silently.\n",
      "Unless explicitly silenced.\n",
      "In the face of ambiguity, refuse the temptation to guess.\n",
      "There should be one-- and preferably only one --obvious way to do it.\n",
      "Although that way may not be obvious at first unless you're Dutch.\n",
      "Now is better than never.\n",
      "Although never is often better than *right* now.\n",
      "If the implementation is hard to explain, it's a bad idea.\n",
      "If the implementation is easy to explain, it may be a good idea.\n",
      "Namespaces are one honking great idea -- let's do more of those!\n"
     ]
    }
   ],
   "source": [
    "import this"
   ]
  },
  {
   "cell_type": "code",
   "execution_count": 18,
   "id": "a0d9fa55",
   "metadata": {},
   "outputs": [],
   "source": [
    "class Ejemplo_4:\n",
    "    \n",
    "    def __init__(self):\n",
    "        self.texto = \"Desde el contructor creo una varible de la clase Ejemplo_4 !\"\n",
    "        \n",
    "    def cambiar_texto(self):\n",
    "        self.texto = \"Cambie el valor del texto Ejemplo_4 !\""
   ]
  },
  {
   "cell_type": "code",
   "execution_count": 19,
   "id": "686dd583",
   "metadata": {},
   "outputs": [],
   "source": [
    "ejemplo_4 = Ejemplo_4()"
   ]
  },
  {
   "cell_type": "code",
   "execution_count": 20,
   "id": "fb6622e0",
   "metadata": {},
   "outputs": [
    {
     "data": {
      "text/plain": [
       "'Desde el contructor creo una varible de la clase Ejemplo_4 !'"
      ]
     },
     "execution_count": 20,
     "metadata": {},
     "output_type": "execute_result"
    }
   ],
   "source": [
    "ejemplo_4.texto"
   ]
  },
  {
   "cell_type": "code",
   "execution_count": 22,
   "id": "6efac6a2",
   "metadata": {},
   "outputs": [
    {
     "data": {
      "text/plain": [
       "'Cambie el valor del texto Ejemplo_4 !'"
      ]
     },
     "execution_count": 22,
     "metadata": {},
     "output_type": "execute_result"
    }
   ],
   "source": [
    "ejemplo_4.cambiar_texto()\n",
    "ejemplo_4.texto"
   ]
  },
  {
   "cell_type": "code",
   "execution_count": 27,
   "id": "ddb6f31d",
   "metadata": {},
   "outputs": [
    {
     "data": {
      "text/plain": [
       "'Desde el contructor creo una varible de la clase Ejemplo_4 !'"
      ]
     },
     "execution_count": 27,
     "metadata": {},
     "output_type": "execute_result"
    }
   ],
   "source": [
    "Ejemplo_4().texto"
   ]
  },
  {
   "cell_type": "code",
   "execution_count": 28,
   "id": "8203c39e",
   "metadata": {},
   "outputs": [
    {
     "name": "stdout",
     "output_type": "stream",
     "text": [
      "Instancias de Test creadas -> 1\n",
      "Instancias de Test creadas -> 2\n",
      "Instancias de Test creadas -> 3\n",
      "Instancias de Test creadas -> 4\n",
      "Instancias de Test creadas -> 5\n",
      "Instancias de Test creadas -> 6\n",
      "Instancias de Test creadas -> 7\n",
      "Instancias de Test creadas -> 8\n",
      "Instancias de Test creadas -> 9\n",
      "Instancias de Test creadas -> 10\n"
     ]
    }
   ],
   "source": [
    "class Test:\n",
    "    contador = 0\n",
    "    \n",
    "    def __init__(self):\n",
    "        Test.contador += 1\n",
    "        print(\"Instancias de Test creadas ->\", Test.contador)\n",
    "        \n",
    "for i in range(10):\n",
    "    Test()"
   ]
  },
  {
   "cell_type": "code",
   "execution_count": 29,
   "id": "450ad8cc",
   "metadata": {},
   "outputs": [
    {
     "name": "stdout",
     "output_type": "stream",
     "text": [
      "Instancias de Test creadas -> 11\n"
     ]
    },
    {
     "data": {
      "text/plain": [
       "<__main__.Test at 0x1a2c325f510>"
      ]
     },
     "execution_count": 29,
     "metadata": {},
     "output_type": "execute_result"
    }
   ],
   "source": [
    "Test()"
   ]
  },
  {
   "cell_type": "code",
   "execution_count": 30,
   "id": "c181cb67",
   "metadata": {},
   "outputs": [
    {
     "data": {
      "text/plain": [
       "11"
      ]
     },
     "execution_count": 30,
     "metadata": {},
     "output_type": "execute_result"
    }
   ],
   "source": [
    "Test.contador"
   ]
  },
  {
   "cell_type": "code",
   "execution_count": 31,
   "id": "1164d1c8",
   "metadata": {},
   "outputs": [
    {
     "name": "stdout",
     "output_type": "stream",
     "text": [
      "Instancias de Test creadas -> 12\n"
     ]
    },
    {
     "data": {
      "text/plain": [
       "'0x1a2c29d3d90'"
      ]
     },
     "execution_count": 31,
     "metadata": {},
     "output_type": "execute_result"
    }
   ],
   "source": [
    "hex(id(Test()))"
   ]
  },
  {
   "cell_type": "code",
   "execution_count": 38,
   "id": "003d0219",
   "metadata": {},
   "outputs": [
    {
     "data": {
      "text/plain": [
       "'0x1a2c178a480'"
      ]
     },
     "execution_count": 38,
     "metadata": {},
     "output_type": "execute_result"
    }
   ],
   "source": [
    "hex(id(Test))"
   ]
  },
  {
   "cell_type": "code",
   "execution_count": 39,
   "id": "9a000a46",
   "metadata": {},
   "outputs": [
    {
     "name": "stdout",
     "output_type": "stream",
     "text": [
      "Instancias de Test creadas -> 13\n"
     ]
    }
   ],
   "source": [
    "test = Test()"
   ]
  },
  {
   "cell_type": "code",
   "execution_count": 40,
   "id": "c4b7082a",
   "metadata": {},
   "outputs": [
    {
     "data": {
      "text/plain": [
       "13"
      ]
     },
     "execution_count": 40,
     "metadata": {},
     "output_type": "execute_result"
    }
   ],
   "source": [
    "test.contador"
   ]
  },
  {
   "cell_type": "code",
   "execution_count": 41,
   "id": "35884dc5",
   "metadata": {},
   "outputs": [
    {
     "data": {
      "text/plain": [
       "'0x1a2c325d110'"
      ]
     },
     "execution_count": 41,
     "metadata": {},
     "output_type": "execute_result"
    }
   ],
   "source": [
    "hex(id(test))"
   ]
  },
  {
   "cell_type": "code",
   "execution_count": 44,
   "id": "f97cd4a2",
   "metadata": {},
   "outputs": [
    {
     "name": "stdout",
     "output_type": "stream",
     "text": [
      "Instancias de Test creadas -> 16\n"
     ]
    },
    {
     "data": {
      "text/plain": [
       "'0x1a2c32992d0'"
      ]
     },
     "execution_count": 44,
     "metadata": {},
     "output_type": "execute_result"
    }
   ],
   "source": [
    "hex(id(Test()))"
   ]
  },
  {
   "cell_type": "code",
   "execution_count": null,
   "id": "7128452d",
   "metadata": {},
   "outputs": [],
   "source": []
  }
 ],
 "metadata": {
  "kernelspec": {
   "display_name": "Python 3 (ipykernel)",
   "language": "python",
   "name": "python3"
  },
  "language_info": {
   "codemirror_mode": {
    "name": "ipython",
    "version": 3
   },
   "file_extension": ".py",
   "mimetype": "text/x-python",
   "name": "python",
   "nbconvert_exporter": "python",
   "pygments_lexer": "ipython3",
   "version": "3.11.1"
  }
 },
 "nbformat": 4,
 "nbformat_minor": 5
}
