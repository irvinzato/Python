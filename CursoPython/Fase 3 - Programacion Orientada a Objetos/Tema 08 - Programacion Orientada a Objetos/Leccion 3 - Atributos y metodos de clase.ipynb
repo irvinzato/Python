{
 "cells": [
  {
   "cell_type": "code",
   "execution_count": 1,
   "metadata": {},
   "outputs": [],
   "source": [
    "class Galleta:\n",
    "    pass\n",
    "chockies = Galleta()"
   ]
  },
  {
   "cell_type": "code",
   "execution_count": 3,
   "metadata": {},
   "outputs": [],
   "source": [
    "chockies.sabor = \"Chocolate\""
   ]
  },
  {
   "cell_type": "code",
   "execution_count": 4,
   "metadata": {},
   "outputs": [],
   "source": [
    "chockies.color = \"Cafe\""
   ]
  },
  {
   "cell_type": "code",
   "execution_count": 6,
   "metadata": {},
   "outputs": [
    {
     "name": "stdout",
     "output_type": "stream",
     "text": [
      "El sabor de la galleta chockies es Chocolate\n"
     ]
    }
   ],
   "source": [
    "print(\"El sabor de la galleta chockies es\",chockies.sabor)"
   ]
  },
  {
   "cell_type": "code",
   "execution_count": 7,
   "metadata": {},
   "outputs": [
    {
     "data": {
      "text/plain": [
       "False"
      ]
     },
     "execution_count": 7,
     "metadata": {},
     "output_type": "execute_result"
    }
   ],
   "source": [
    "class Galleta:\n",
    "    chocolate = False\n",
    "galleta = Galleta()\n",
    "galleta.chocolate"
   ]
  },
  {
   "cell_type": "code",
   "execution_count": 8,
   "metadata": {},
   "outputs": [
    {
     "data": {
      "text/plain": [
       "True"
      ]
     },
     "execution_count": 8,
     "metadata": {},
     "output_type": "execute_result"
    }
   ],
   "source": [
    "galleta.chocolate = True\n",
    "galleta.chocolate"
   ]
  },
  {
   "cell_type": "code",
   "execution_count": 10,
   "metadata": {},
   "outputs": [
    {
     "name": "stdout",
     "output_type": "stream",
     "text": [
      "Los métodos especiales se escriben con dos guiones bajos iniciando y dos al final, self debe estar en los métodos para hacer referencia a las variables de la clase !\n",
      "Se acaba de crear una galleta.\n"
     ]
    }
   ],
   "source": [
    "print(\"Los métodos especiales se escriben con dos guiones bajos iniciando y dos al final, self debe estar en los métodos para hacer referencia a las variables de la clase !\")\n",
    "class Galleta:\n",
    "    chocolate = False\n",
    "    def __init__(self):\n",
    "        print(\"Se acaba de crear una galleta.\")\n",
    "galleta_1 = Galleta()"
   ]
  },
  {
   "cell_type": "code",
   "execution_count": 14,
   "metadata": {},
   "outputs": [
    {
     "name": "stdout",
     "output_type": "stream",
     "text": [
      "Si no se indica self NO hace referencia a las variables de la clase, es como el this en java para ser explicitos\n",
      "Se acaba de crear una galleta.\n",
      "NO TENGO CHOLOCATE !\n",
      "TENGO CHOCOLATE !\n"
     ]
    },
    {
     "data": {
      "text/plain": [
       "True"
      ]
     },
     "execution_count": 14,
     "metadata": {},
     "output_type": "execute_result"
    }
   ],
   "source": [
    "print(\"Si no se indica self NO hace referencia a las variables de la clase, es como el this en java para ser explicitos\")\n",
    "class Galleta:\n",
    "    chocolate = False\n",
    "    def __init__(self):\n",
    "        print(\"Se acaba de crear una galleta.\")\n",
    "    def chocolatear(self):\n",
    "        self.chocolate = True\n",
    "    def tiene_chocolate(self):\n",
    "        if(self.chocolate):\n",
    "            print(\"TENGO CHOCOLATE !\")\n",
    "        else:\n",
    "            print(\"NO TENGO CHOLOCATE !\")\n",
    "        \n",
    "        \n",
    "galleta_2 = Galleta()\n",
    "galleta_2.tiene_chocolate()\n",
    "galleta_2.chocolatear()\n",
    "galleta_2.tiene_chocolate()\n",
    "galleta_2.chocolate"
   ]
  },
  {
   "cell_type": "code",
   "execution_count": 19,
   "metadata": {},
   "outputs": [
    {
     "name": "stdout",
     "output_type": "stream",
     "text": [
      "self hace referencia al propio objeto ! y no es necesario declarar las variables desde un inicio como en java !\n"
     ]
    }
   ],
   "source": [
    "print(\"self hace referencia al propio objeto ! y no es necesario declarar las variables desde un inicio como en java !\")\n",
    "class Galleta:\n",
    "    chocolate = False\n",
    "    \n",
    "    def __init__(self, sabor, forma):\n",
    "        self.sabor = sabor\n",
    "        self.forma = forma\n",
    "        print(\"Se acaba de crear una galleta con sabor {} y forma {}\".format(sabor,forma))\n",
    "    def chocolatear(self):\n",
    "        self.chocolate = True\n",
    "    def tiene_chocolate(self):\n",
    "        if(self.chocolate):\n",
    "            print(\"TENGO CHOCOLATE !\")\n",
    "        else:\n",
    "            print(\"NO TENGO CHOLOCATE !\")"
   ]
  },
  {
   "cell_type": "code",
   "execution_count": 20,
   "metadata": {},
   "outputs": [
    {
     "name": "stdout",
     "output_type": "stream",
     "text": [
      "Se acaba de crear una galleta con sabor salada y forma rectangular\n"
     ]
    }
   ],
   "source": [
    "galleta_3 = Galleta(\"salada\", \"rectangular\")"
   ]
  },
  {
   "cell_type": "code",
   "execution_count": 27,
   "metadata": {},
   "outputs": [
    {
     "name": "stdout",
     "output_type": "stream",
     "text": [
      "Puedo ponerle valores por defecto para poder usar el constructor vacio\n"
     ]
    }
   ],
   "source": [
    "print(\"Puedo ponerle valores por defecto para poder usar el constructor vacio\")\n",
    "class Galleta:\n",
    "    chocolate = False\n",
    "    \n",
    "    def __init__(self, sabor=None, forma=None):\n",
    "        self.sabor = sabor\n",
    "        self.forma = forma\n",
    "        if(sabor is not None and forma is not None):\n",
    "            print(\"Se acaba de crear una galleta con sabor {} y forma {}\".format(sabor,forma))\n",
    "        else:\n",
    "            print(\"Se creo una galleta sin sabor, ni forma :(\")\n",
    "    def chocolatear(self):\n",
    "        self.chocolate = True\n",
    "    def tiene_chocolate(self):\n",
    "        if(self.chocolate):\n",
    "            print(\"TENGO CHOCOLATE !\")\n",
    "        else:\n",
    "            print(\"NO TENGO CHOLOCATE !\")"
   ]
  },
  {
   "cell_type": "code",
   "execution_count": 28,
   "metadata": {},
   "outputs": [
    {
     "name": "stdout",
     "output_type": "stream",
     "text": [
      "Se creo una galleta sin sabor, ni forma :(\n"
     ]
    }
   ],
   "source": [
    "galleta_4 = Galleta()"
   ]
  },
  {
   "cell_type": "code",
   "execution_count": 29,
   "metadata": {},
   "outputs": [
    {
     "name": "stdout",
     "output_type": "stream",
     "text": [
      "Se acaba de crear una galleta con sabor Dulce y forma Cuadrada\n"
     ]
    }
   ],
   "source": [
    "galleta_5 = Galleta(\"Dulce\", \"Cuadrada\")"
   ]
  },
  {
   "cell_type": "code",
   "execution_count": null,
   "metadata": {},
   "outputs": [],
   "source": []
  }
 ],
 "metadata": {
  "kernelspec": {
   "display_name": "Python 3 (ipykernel)",
   "language": "python",
   "name": "python3"
  },
  "language_info": {
   "codemirror_mode": {
    "name": "ipython",
    "version": 3
   },
   "file_extension": ".py",
   "mimetype": "text/x-python",
   "name": "python",
   "nbconvert_exporter": "python",
   "pygments_lexer": "ipython3",
   "version": "3.11.1"
  }
 },
 "nbformat": 4,
 "nbformat_minor": 1
}
