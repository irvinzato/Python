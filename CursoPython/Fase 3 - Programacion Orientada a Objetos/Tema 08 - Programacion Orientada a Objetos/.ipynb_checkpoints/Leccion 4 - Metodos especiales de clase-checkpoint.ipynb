{
 "cells": [
  {
   "cell_type": "code",
   "execution_count": 24,
   "metadata": {},
   "outputs": [
    {
     "name": "stdout",
     "output_type": "stream",
     "text": [
      "Se ha creado la pelicula Troya\n"
     ]
    }
   ],
   "source": [
    "class Pelicula:\n",
    "    #Constructor de la clase\n",
    "    def __init__(self, titulo, duracion, lanzamiento):\n",
    "        self.titulo      = titulo\n",
    "        self.duracion    = duracion\n",
    "        self.lanzamiento = lanzamiento\n",
    "        print(\"Se ha creado la pelicula {}\".format(titulo))\n",
    "        \n",
    "    #Destructor de la clase\n",
    "    def __del__(self):\n",
    "        print(\"Se esta borrando la pelicula\", self.titulo)\n",
    "    \n",
    "pelicula_1 = Pelicula(\"Troya\", 150, 1996)"
   ]
  },
  {
   "cell_type": "code",
   "execution_count": 22,
   "metadata": {},
   "outputs": [
    {
     "name": "stdout",
     "output_type": "stream",
     "text": [
      "Asi como existe el método contructor, también existe el método destructor ! se ejecuta cuando se borra una instancia\n",
      "Se esta borrando la pelicula Troya\n"
     ]
    }
   ],
   "source": [
    "print(\"Asi como existe el método contructor, también existe el método destructor ! se ejecuta cuando se borra una instancia\")\n",
    "del(pelicula_1)"
   ]
  },
  {
   "cell_type": "code",
   "execution_count": 25,
   "metadata": {},
   "outputs": [
    {
     "data": {
      "text/plain": [
       "<__main__.Pelicula at 0x13db3c19d50>"
      ]
     },
     "execution_count": 25,
     "metadata": {},
     "output_type": "execute_result"
    }
   ],
   "source": [
    "pelicula_1"
   ]
  },
  {
   "cell_type": "code",
   "execution_count": 26,
   "metadata": {},
   "outputs": [
    {
     "data": {
      "text/plain": [
       "'10'"
      ]
     },
     "execution_count": 26,
     "metadata": {},
     "output_type": "execute_result"
    }
   ],
   "source": [
    "str(10)"
   ]
  },
  {
   "cell_type": "code",
   "execution_count": 28,
   "metadata": {},
   "outputs": [
    {
     "name": "stdout",
     "output_type": "stream",
     "text": [
      "También puedo convertir a string los objetos y me da la referencia del objeto donde esta almacenado en memoria\n"
     ]
    },
    {
     "data": {
      "text/plain": [
       "'<__main__.Pelicula object at 0x0000013DB3C19D50>'"
      ]
     },
     "execution_count": 28,
     "metadata": {},
     "output_type": "execute_result"
    }
   ],
   "source": [
    "print(\"También puedo convertir a string los objetos y me da la referencia del objeto donde esta almacenado en memoria\")\n",
    "str(pelicula_1)"
   ]
  },
  {
   "cell_type": "code",
   "execution_count": 29,
   "metadata": {},
   "outputs": [
    {
     "name": "stdout",
     "output_type": "stream",
     "text": [
      "Se ha creado la pelicula Troya\n"
     ]
    }
   ],
   "source": [
    "class Pelicula:\n",
    "    #Constructor de la clase\n",
    "    def __init__(self, titulo, duracion, lanzamiento):\n",
    "        self.titulo      = titulo\n",
    "        self.duracion    = duracion\n",
    "        self.lanzamiento = lanzamiento\n",
    "        print(\"Se ha creado la pelicula {}\".format(self.titulo))\n",
    "        \n",
    "    #Destructor de la clase\n",
    "    def __del__(self):\n",
    "        print(\"Se esta borrando la pelicula\", self.titulo)\n",
    "        \n",
    "    #Redefinimos el metodo string, como el toString en Java\n",
    "    def __str__(self):\n",
    "        return \"{} lanzada en {} con una duración de {} minutos\".format(self.titulo, self.lanzamiento, self.duracion)\n",
    "    \n",
    "    \n",
    "pelicula = Pelicula(\"Troya\", 150, 1996)"
   ]
  },
  {
   "cell_type": "code",
   "execution_count": 36,
   "metadata": {},
   "outputs": [
    {
     "name": "stdout",
     "output_type": "stream",
     "text": [
      "Un poco diferente como se invocan los métodos especiales a comparación de Java con el toString\n"
     ]
    },
    {
     "data": {
      "text/plain": [
       "'Troya lanzada en 1996 con una duración de 150 minutos'"
      ]
     },
     "execution_count": 36,
     "metadata": {},
     "output_type": "execute_result"
    }
   ],
   "source": [
    "print(\"Un poco diferente como se invocan los métodos especiales a comparación de Java con el toString\")\n",
    "str(pelicula)"
   ]
  },
  {
   "cell_type": "code",
   "execution_count": 38,
   "metadata": {},
   "outputs": [
    {
     "name": "stdout",
     "output_type": "stream",
     "text": [
      "Se ha creado la pelicula Troya\n"
     ]
    },
    {
     "data": {
      "text/plain": [
       "150"
      ]
     },
     "execution_count": 38,
     "metadata": {},
     "output_type": "execute_result"
    }
   ],
   "source": [
    "class Pelicula:\n",
    "    #Constructor de la clase\n",
    "    def __init__(self, titulo, duracion, lanzamiento):\n",
    "        self.titulo      = titulo\n",
    "        self.duracion    = duracion\n",
    "        self.lanzamiento = lanzamiento\n",
    "        print(\"Se ha creado la pelicula {}\".format(self.titulo))\n",
    "        \n",
    "    #Destructor de la clase\n",
    "    def __del__(self):\n",
    "        print(\"Se esta borrando la pelicula\", self.titulo)\n",
    "        \n",
    "    #Redefinimos el metodo string, como el toString en Java\n",
    "    def __str__(self):\n",
    "        return \"{} lanzada en {} con una duración de {} minutos\".format(self.titulo, self.lanzamiento, self.duracion)\n",
    "    \n",
    "    #Redefinimos el método length\n",
    "    def __len__(self):\n",
    "        return self.duracion\n",
    "    \n",
    "    \n",
    "pelicula = Pelicula(\"Troya\", 150, 1996)\n",
    "len(pelicula)"
   ]
  },
  {
   "cell_type": "code",
   "execution_count": 39,
   "metadata": {},
   "outputs": [
    {
     "name": "stdout",
     "output_type": "stream",
     "text": [
      "Esos métodos son especiales porque no son directamente internos los llamados, no se ejecutan con un punto y su llamado como en Java !\n"
     ]
    }
   ],
   "source": [
    "print(\"Esos métodos son especiales porque no son directamente internos los llamados, no se ejecutan con un punto y su llamado como en Java !\")"
   ]
  },
  {
   "cell_type": "code",
   "execution_count": null,
   "metadata": {},
   "outputs": [],
   "source": []
  }
 ],
 "metadata": {
  "kernelspec": {
   "display_name": "Python 3 (ipykernel)",
   "language": "python",
   "name": "python3"
  },
  "language_info": {
   "codemirror_mode": {
    "name": "ipython",
    "version": 3
   },
   "file_extension": ".py",
   "mimetype": "text/x-python",
   "name": "python",
   "nbconvert_exporter": "python",
   "pygments_lexer": "ipython3",
   "version": "3.11.1"
  }
 },
 "nbformat": 4,
 "nbformat_minor": 1
}
