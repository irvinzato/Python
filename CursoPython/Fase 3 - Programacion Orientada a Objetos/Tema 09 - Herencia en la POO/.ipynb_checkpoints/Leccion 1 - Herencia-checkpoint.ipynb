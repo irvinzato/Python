{
 "cells": [
  {
   "cell_type": "code",
   "execution_count": 1,
   "metadata": {},
   "outputs": [],
   "source": [
    "class Producto:\n",
    "    def __init__(self, referencia, tipo, nombre, pvp, descripcion, productor = None, \n",
    "                 distribuidor = None, isbn = None, autor = None):\n",
    "        self.referencia   = referencia\n",
    "        self.tipo         = tipo\n",
    "        self.nombre       = nombre\n",
    "        self.pvp          = pvp\n",
    "        self.descripcion  = descripcion\n",
    "        self.productor    = productor\n",
    "        self.distribuidor = distribuidor\n",
    "        self.isbn         = isbn\n",
    "        self.autor        = autor\n",
    "        \n",
    "adorno = Producto(\"000A\", \"ADORNO\", \"Vaso adornado\", 100, \"Vaso de porcelana\")"
   ]
  },
  {
   "cell_type": "code",
   "execution_count": 2,
   "metadata": {},
   "outputs": [
    {
     "data": {
      "text/plain": [
       "<__main__.Producto at 0x15a48a71810>"
      ]
     },
     "execution_count": 2,
     "metadata": {},
     "output_type": "execute_result"
    }
   ],
   "source": [
    "adorno"
   ]
  },
  {
   "cell_type": "code",
   "execution_count": 3,
   "metadata": {},
   "outputs": [
    {
     "data": {
      "text/plain": [
       "'ADORNO'"
      ]
     },
     "execution_count": 3,
     "metadata": {},
     "output_type": "execute_result"
    }
   ],
   "source": [
    "adorno.tipo"
   ]
  },
  {
   "cell_type": "code",
   "execution_count": 11,
   "metadata": {},
   "outputs": [
    {
     "name": "stdout",
     "output_type": "stream",
     "text": [
      "Asi se indica que Adorno sera hija de Producto(hereda lo que tiene Producto) y ocupa pass\n",
      "REFERENCIA\t2034\n",
      "NOMBRE\t\tVaso adornado\n",
      "PVP\t\t100\n",
      "DESCRIPCION\tVaso de porcelana adornado con árboles\n"
     ]
    }
   ],
   "source": [
    "class Producto:\n",
    "    def __init__(self, referencia, nombre, pvp, descripcion):\n",
    "        self.referencia  = referencia\n",
    "        self.nombre      = nombre\n",
    "        self.pvp         = pvp\n",
    "        self.descripcion = descripcion\n",
    "        \n",
    "    def __str__(self):\n",
    "        return \"\"\"\\\n",
    "REFERENCIA\\t{}\n",
    "NOMBRE\\t\\t{}\n",
    "PVP\\t\\t{}\n",
    "DESCRIPCION\\t{}\"\"\".format(self.referencia, self.nombre, self.pvp, self.descripcion)\n",
    "    \n",
    "print(\"Asi se indica que Adorno sera hija de Producto(hereda lo que tiene Producto) y ocupa pass\")\n",
    "class Adorno(Producto):\n",
    "    pass\n",
    "    \n",
    "    \n",
    "vaso_arboles = Adorno(2034, \"Vaso adornado\", 100, \"Vaso de porcelana adornado con árboles\")\n",
    "print(vaso_arboles)"
   ]
  },
  {
   "cell_type": "code",
   "execution_count": 14,
   "metadata": {},
   "outputs": [
    {
     "name": "stdout",
     "output_type": "stream",
     "text": [
      "Sobre escribo el toString ya que este tiene mas campos, ademas de los que hereda\n",
      "REFERENCIA\t2035\n",
      "NOMBRE\t\tBotella de aceite de olivo\n",
      "PVP\t\t80\n",
      "DESCRIPCION\tAceite de olivo 500ML\n",
      "PRODUCTOR\tLa aceitera\n",
      "DISTRIBUIDOR\tDistribuidores SA\n"
     ]
    }
   ],
   "source": [
    "print(\"Sobre escribo el toString ya que este tiene mas campos, ademas de los que hereda\")\n",
    "class Alimento(Producto):\n",
    "    productor    = \"\"\n",
    "    distribuidor = \"\"\n",
    "    \n",
    "    def __str__(self):\n",
    "        return \"\"\"\\\n",
    "REFERENCIA\\t{}\n",
    "NOMBRE\\t\\t{}\n",
    "PVP\\t\\t{}\n",
    "DESCRIPCION\\t{}\n",
    "PRODUCTOR\\t{}\n",
    "DISTRIBUIDOR\\t{}\"\"\".format(self.referencia, self.nombre, self.pvp, self.descripcion, self.productor, self.distribuidor)\n",
    "    \n",
    "aceite_olivo = Alimento(2035, \"Botella de aceite de olivo\", 80, \"Aceite de olivo 500ML\")\n",
    "aceite_olivo.productor    = \"La aceitera\"\n",
    "aceite_olivo.distribuidor = \"Distribuidores SA\"\n",
    "\n",
    "print(aceite_olivo)"
   ]
  },
  {
   "cell_type": "code",
   "execution_count": 24,
   "metadata": {},
   "outputs": [
    {
     "name": "stdout",
     "output_type": "stream",
     "text": [
      "REFERENCIA\tHP001\n",
      "NOMBRE\t\tHarry Potter y la piedra filoso fa\n",
      "PVP\t\t865\n",
      "DESCRIPCION\tPrimer libro de Harry Potter\n",
      "ISBN\t\t0-123456-78-9\n",
      "AUTOR\t\tSirius\n"
     ]
    }
   ],
   "source": [
    "class Libro(Producto):\n",
    "    isbn  = \"\"\n",
    "    autor = \"\"\n",
    "    \n",
    "    def __str__(self):\n",
    "        return \"\"\"\\\n",
    "REFERENCIA\\t{}\n",
    "NOMBRE\\t\\t{}\n",
    "PVP\\t\\t{}\n",
    "DESCRIPCION\\t{}\n",
    "ISBN\\t\\t{}\n",
    "AUTOR\\t\\t{}\"\"\".format(self.referencia, self.nombre, self.pvp, self.descripcion, self.isbn, self.autor)\n",
    "    \n",
    "harry_potter_1 = Libro(\"HP001\", \"Harry Potter y la piedra filoso fa\", 865, \"Primer libro de Harry Potter\")\n",
    "harry_potter_1.isbn  = \"0-123456-78-9\"\n",
    "harry_potter_1.autor = \"Sirius\"\n",
    "print(harry_potter_1)"
   ]
  },
  {
   "cell_type": "code",
   "execution_count": null,
   "metadata": {},
   "outputs": [],
   "source": []
  }
 ],
 "metadata": {
  "kernelspec": {
   "display_name": "Python 3 (ipykernel)",
   "language": "python",
   "name": "python3"
  },
  "language_info": {
   "codemirror_mode": {
    "name": "ipython",
    "version": 3
   },
   "file_extension": ".py",
   "mimetype": "text/x-python",
   "name": "python",
   "nbconvert_exporter": "python",
   "pygments_lexer": "ipython3",
   "version": "3.11.1"
  }
 },
 "nbformat": 4,
 "nbformat_minor": 1
}
