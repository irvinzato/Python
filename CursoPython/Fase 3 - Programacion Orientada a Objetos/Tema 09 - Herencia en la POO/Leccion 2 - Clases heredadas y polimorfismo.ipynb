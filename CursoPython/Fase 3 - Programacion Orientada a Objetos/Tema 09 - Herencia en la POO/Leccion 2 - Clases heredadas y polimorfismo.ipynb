{
 "cells": [
  {
   "cell_type": "code",
   "execution_count": 1,
   "metadata": {},
   "outputs": [],
   "source": [
    "class Producto:\n",
    "    def __init__(self,referencia,nombre,pvp,descripcion):\n",
    "        self.referencia = referencia\n",
    "        self.nombre = nombre\n",
    "        self.pvp = pvp\n",
    "        self.descripcion = descripcion\n",
    "        \n",
    "    def __str__(self):\n",
    "        return \"\"\"\\\n",
    "REFERENCIA\\t{}\n",
    "NOMBRE\\t\\t{}\n",
    "PVP\\t\\t{}\n",
    "DESCRIPCIÓN\\t{}\"\"\".format(self.referencia,self.nombre,self.pvp,self.descripcion)\n",
    "    \n",
    "\n",
    "class Adorno(Producto):\n",
    "    pass\n",
    "\n",
    "\n",
    "class Alimento(Producto):\n",
    "    productor = \"\"\n",
    "    distribuidor = \"\"\n",
    "    \n",
    "    def __str__(self):\n",
    "        return \"\"\"\\\n",
    "REFERENCIA\\t{}\n",
    "NOMBRE\\t\\t{}\n",
    "PVP\\t\\t{}\n",
    "DESCRIPCIÓN\\t{}\n",
    "PRODUCTOR\\t{}\n",
    "DISTRIBUIDOR\\t{}\"\"\".format(self.referencia,self.nombre,self.pvp,self.descripcion,self.productor,self.distribuidor)\n",
    "\n",
    "\n",
    "class Libro(Producto):\n",
    "    isbn = \"\"\n",
    "    autor = \"\"\n",
    "    \n",
    "    def __str__(self):\n",
    "        return \"\"\"\\\n",
    "REFERENCIA\\t{}\n",
    "NOMBRE\\t\\t{}\n",
    "PVP\\t\\t{}\n",
    "DESCRIPCIÓN\\t{}\n",
    "ISBN\\t\\t{}\n",
    "AUTOR\\t\\t{}\"\"\".format(self.referencia,self.nombre,self.pvp,self.descripcion,self.isbn,self.autor)"
   ]
  },
  {
   "cell_type": "code",
   "execution_count": 2,
   "metadata": {},
   "outputs": [],
   "source": [
    "vaso_arboles = Adorno(2034, \"Vaso adornado\", 100, \"Vaso de porcelana adornado con árboles\")\n",
    "\n",
    "aceite_olivo = Alimento(2035, \"Botella de aceite de olivo\", 80, \"Aceite de olivo 500ML\")\n",
    "aceite_olivo.productor    = \"La aceitera\"\n",
    "aceite_olivo.distribuidor = \"Distribuidores SA\"\n",
    "\n",
    "harry_potter_1 = Libro(\"HP001\", \"Harry Potter y la piedra filoso fa\", 865, \"Primer libro de Harry Potter\")\n",
    "harry_potter_1.isbn  = \"0-123456-78-9\"\n",
    "harry_potter_1.autor = \"Sirius\""
   ]
  },
  {
   "cell_type": "code",
   "execution_count": 3,
   "metadata": {},
   "outputs": [],
   "source": [
    "productos = [vaso_arboles, aceite_olivo]\n",
    "productos.append(harry_potter_1)"
   ]
  },
  {
   "cell_type": "code",
   "execution_count": 4,
   "metadata": {},
   "outputs": [
    {
     "data": {
      "text/plain": [
       "[<__main__.Adorno at 0x27d5d681e10>,\n",
       " <__main__.Alimento at 0x27d5d681d90>,\n",
       " <__main__.Libro at 0x27d5d680550>]"
      ]
     },
     "execution_count": 4,
     "metadata": {},
     "output_type": "execute_result"
    }
   ],
   "source": [
    "productos"
   ]
  },
  {
   "cell_type": "code",
   "execution_count": 5,
   "metadata": {},
   "outputs": [
    {
     "name": "stdout",
     "output_type": "stream",
     "text": [
      "REFERENCIA\t2034\n",
      "NOMBRE\t\tVaso adornado\n",
      "PVP\t\t100\n",
      "DESCRIPCIÓN\tVaso de porcelana adornado con árboles \n",
      "\n",
      "REFERENCIA\t2035\n",
      "NOMBRE\t\tBotella de aceite de olivo\n",
      "PVP\t\t80\n",
      "DESCRIPCIÓN\tAceite de olivo 500ML\n",
      "PRODUCTOR\tLa aceitera\n",
      "DISTRIBUIDOR\tDistribuidores SA \n",
      "\n",
      "REFERENCIA\tHP001\n",
      "NOMBRE\t\tHarry Potter y la piedra filoso fa\n",
      "PVP\t\t865\n",
      "DESCRIPCIÓN\tPrimer libro de Harry Potter\n",
      "ISBN\t\t0-123456-78-9\n",
      "AUTOR\t\tSirius \n",
      "\n"
     ]
    }
   ],
   "source": [
    "for p in productos:\n",
    "    print(p, \"\\n\")"
   ]
  },
  {
   "cell_type": "code",
   "execution_count": 6,
   "metadata": {},
   "outputs": [
    {
     "name": "stdout",
     "output_type": "stream",
     "text": [
      "2034 Vaso adornado\n",
      "2035 Botella de aceite de olivo\n",
      "HP001 Harry Potter y la piedra filoso fa\n"
     ]
    }
   ],
   "source": [
    "for p in productos:\n",
    "    print(p.referencia, p.nombre)"
   ]
  },
  {
   "cell_type": "code",
   "execution_count": 7,
   "metadata": {},
   "outputs": [
    {
     "name": "stdout",
     "output_type": "stream",
     "text": [
      "Adorno no tiene autor !\n"
     ]
    },
    {
     "ename": "AttributeError",
     "evalue": "'Adorno' object has no attribute 'autor'",
     "output_type": "error",
     "traceback": [
      "\u001b[1;31m---------------------------------------------------------------------------\u001b[0m",
      "\u001b[1;31mAttributeError\u001b[0m                            Traceback (most recent call last)",
      "Cell \u001b[1;32mIn[7], line 3\u001b[0m\n\u001b[0;32m      1\u001b[0m \u001b[38;5;28mprint\u001b[39m(\u001b[38;5;124m\"\u001b[39m\u001b[38;5;124mAdorno no tiene autor !\u001b[39m\u001b[38;5;124m\"\u001b[39m)\n\u001b[0;32m      2\u001b[0m \u001b[38;5;28;01mfor\u001b[39;00m p \u001b[38;5;129;01min\u001b[39;00m productos:\n\u001b[1;32m----> 3\u001b[0m     \u001b[38;5;28mprint\u001b[39m(\u001b[43mp\u001b[49m\u001b[38;5;241;43m.\u001b[39;49m\u001b[43mautor\u001b[49m)\n",
      "\u001b[1;31mAttributeError\u001b[0m: 'Adorno' object has no attribute 'autor'"
     ]
    }
   ],
   "source": [
    "print(\"Adorno no tiene autor !\")\n",
    "for p in productos:\n",
    "    print(p.autor)"
   ]
  },
  {
   "cell_type": "code",
   "execution_count": 8,
   "metadata": {},
   "outputs": [
    {
     "name": "stdout",
     "output_type": "stream",
     "text": [
      "isinstance quiere decir '¿Es instancia del segundo argumento?'\n",
      "2034 Vaso adornado\n",
      "2035 Botella de aceite de olivo La aceitera\n",
      "HP001 Harry Potter y la piedra filoso fa 0-123456-78-9\n"
     ]
    }
   ],
   "source": [
    "print(\"isinstance quiere decir '¿Es instancia del segundo argumento?'\")\n",
    "for p in productos:\n",
    "    if( isinstance(p, Adorno) ):\n",
    "        print(p.referencia, p.nombre)\n",
    "    elif( isinstance(p, Alimento) ):\n",
    "        print(p.referencia, p.nombre, p.productor)\n",
    "    elif( isinstance(p, Libro) ):\n",
    "        print(p.referencia, p.nombre, p.isbn)"
   ]
  },
  {
   "cell_type": "code",
   "execution_count": 30,
   "metadata": {},
   "outputs": [
    {
     "name": "stdout",
     "output_type": "stream",
     "text": [
      "Funcion para hacer descuento de x porciento a x producto al público ! POLIMORFISMO, explicado en prints de abajo\n",
      "REFERENCIA\t2000\n",
      "NOMBRE\t\tBotella de aceite de olivo\n",
      "PVP\t\t26.2144\n",
      "DESCRIPCIÓN\tAceite de olivo 500ML\n",
      "PRODUCTOR\tLa aceitera\n",
      "DISTRIBUIDOR\tDistribuidores SA\n"
     ]
    }
   ],
   "source": [
    "print(\"Funcion para hacer descuento de x porciento a x producto al público ! POLIMORFISMO, explicado en prints de abajo\")\n",
    "def rebajar_producto(p, rebaja):\n",
    "    \"\"\"Devuelve un producto con una rebaja en porcentaje de su precio\"\"\"\n",
    "    p.pvp = p.pvp - (p.pvp/100 * rebaja)\n",
    "    return p\n",
    "\n",
    "alimento_rebajado = rebajar_producto(aceite_olivo, 20)\n",
    "print(alimento_rebajado)"
   ]
  },
  {
   "cell_type": "code",
   "execution_count": 15,
   "metadata": {},
   "outputs": [
    {
     "name": "stdout",
     "output_type": "stream",
     "text": [
      "LOS OBJETOS SE PASAN POR REFERENCIA(SE PASA EL ORIGINAL), POR ESO SE MODIFICA EL VALOR DEL OBJETO AUNQUE NO LO DEVUELVA !\n",
      "REFERENCIA\t2035\n",
      "NOMBRE\t\tBotella de aceite de olivo\n",
      "PVP\t\t32.768\n",
      "DESCRIPCIÓN\tAceite de olivo 500ML\n",
      "PRODUCTOR\tLa aceitera\n",
      "DISTRIBUIDOR\tDistribuidores SA\n"
     ]
    }
   ],
   "source": [
    "print(\"LOS OBJETOS SE PASAN POR REFERENCIA(SE PASA EL ORIGINAL), POR ESO SE MODIFICA EL VALOR DEL OBJETO AUNQUE NO LO DEVUELVA !\")\n",
    "print(aceite_olivo)"
   ]
  },
  {
   "cell_type": "code",
   "execution_count": 16,
   "metadata": {},
   "outputs": [],
   "source": [
    "copia_aceite_olivo = aceite_olivo"
   ]
  },
  {
   "cell_type": "code",
   "execution_count": 17,
   "metadata": {},
   "outputs": [],
   "source": [
    "copia_aceite_olivo.referencia = 2000"
   ]
  },
  {
   "cell_type": "code",
   "execution_count": 18,
   "metadata": {},
   "outputs": [
    {
     "name": "stdout",
     "output_type": "stream",
     "text": [
      "REFERENCIA\t2000\n",
      "NOMBRE\t\tBotella de aceite de olivo\n",
      "PVP\t\t32.768\n",
      "DESCRIPCIÓN\tAceite de olivo 500ML\n",
      "PRODUCTOR\tLa aceitera\n",
      "DISTRIBUIDOR\tDistribuidores SA\n"
     ]
    }
   ],
   "source": [
    "print(copia_aceite_olivo)"
   ]
  },
  {
   "cell_type": "code",
   "execution_count": 19,
   "metadata": {},
   "outputs": [
    {
     "name": "stdout",
     "output_type": "stream",
     "text": [
      "REFERENCIA\t2000\n",
      "NOMBRE\t\tBotella de aceite de olivo\n",
      "PVP\t\t32.768\n",
      "DESCRIPCIÓN\tAceite de olivo 500ML\n",
      "PRODUCTOR\tLa aceitera\n",
      "DISTRIBUIDOR\tDistribuidores SA\n"
     ]
    }
   ],
   "source": [
    "print(aceite_olivo)"
   ]
  },
  {
   "cell_type": "code",
   "execution_count": 20,
   "metadata": {},
   "outputs": [
    {
     "name": "stdout",
     "output_type": "stream",
     "text": [
      "NO SE PUEDE HACER UNA COPIA DE UN OBJETO DE ESTA FORMA !, SE ASIGNA EL MISMO OBJETO. IMPORTANTE\n",
      "El mismo comportamiento funciona con las colecciones\n"
     ]
    }
   ],
   "source": [
    "print(\"NO SE PUEDE HACER UNA COPIA DE UN OBJETO DE ESTA FORMA !, SE ASIGNA EL MISMO OBJETO. IMPORTANTE\")\n",
    "print(\"El mismo comportamiento funciona con las colecciones\")\n",
    "lista = [1,2,3]\n",
    "lista_2 = lista"
   ]
  },
  {
   "cell_type": "code",
   "execution_count": 21,
   "metadata": {},
   "outputs": [
    {
     "data": {
      "text/plain": [
       "[1, 2, 3, 100]"
      ]
     },
     "execution_count": 21,
     "metadata": {},
     "output_type": "execute_result"
    }
   ],
   "source": [
    "lista_2.append(100)\n",
    "lista"
   ]
  },
  {
   "cell_type": "code",
   "execution_count": 22,
   "metadata": {},
   "outputs": [
    {
     "name": "stdout",
     "output_type": "stream",
     "text": [
      "Para duplicar una lista independiente recordar que se hace de la siguiente manera:\n"
     ]
    }
   ],
   "source": [
    "print(\"Para duplicar una lista independiente recordar que se hace de la siguiente manera:\")\n",
    "lista_3 = lista[:]\n",
    "lista_3.append(200)"
   ]
  },
  {
   "cell_type": "code",
   "execution_count": 23,
   "metadata": {},
   "outputs": [
    {
     "data": {
      "text/plain": [
       "[1, 2, 3, 100]"
      ]
     },
     "execution_count": 23,
     "metadata": {},
     "output_type": "execute_result"
    }
   ],
   "source": [
    "lista"
   ]
  },
  {
   "cell_type": "code",
   "execution_count": 24,
   "metadata": {},
   "outputs": [
    {
     "data": {
      "text/plain": [
       "[1, 2, 3, 100, 200]"
      ]
     },
     "execution_count": 24,
     "metadata": {},
     "output_type": "execute_result"
    }
   ],
   "source": [
    "lista_3"
   ]
  },
  {
   "cell_type": "code",
   "execution_count": 28,
   "metadata": {},
   "outputs": [
    {
     "name": "stdout",
     "output_type": "stream",
     "text": [
      "Si se quiere copiar un objeto se debe usar un modulo externo llamado 'copy'\n",
      "copy sirve con cualquier tipo de datos(listas, diccionarios, objeto, etc) lo que sea que queramos copiar\n",
      "REFERENCIA\t2034\n",
      "NOMBRE\t\tVaso adornado\n",
      "PVP\t\t100\n",
      "DESCRIPCIÓN\tVaso de porcelana adornado con árboles\n"
     ]
    }
   ],
   "source": [
    "print(\"Si se quiere copiar un objeto se debe usar un modulo externo llamado 'copy'\")\n",
    "print(\"copy sirve con cualquier tipo de datos(listas, diccionarios, objeto, etc) lo que sea que queramos copiar\")\n",
    "import copy\n",
    "\n",
    "copia_vaso_arboles = copy.copy(vaso_arboles)\n",
    "print(copia_vaso_arboles)"
   ]
  },
  {
   "cell_type": "code",
   "execution_count": 26,
   "metadata": {},
   "outputs": [
    {
     "name": "stdout",
     "output_type": "stream",
     "text": [
      "REFERENCIA\t2034\n",
      "NOMBRE\t\tVaso adornado\n",
      "PVP\t\t50\n",
      "DESCRIPCIÓN\tVaso de porcelana adornado con árboles\n"
     ]
    }
   ],
   "source": [
    "copia_vaso_arboles.pvp = 50\n",
    "print(copia_vaso_arboles)"
   ]
  },
  {
   "cell_type": "code",
   "execution_count": 27,
   "metadata": {},
   "outputs": [
    {
     "name": "stdout",
     "output_type": "stream",
     "text": [
      "REFERENCIA\t2034\n",
      "NOMBRE\t\tVaso adornado\n",
      "PVP\t\t100\n",
      "DESCRIPCIÓN\tVaso de porcelana adornado con árboles\n"
     ]
    }
   ],
   "source": [
    "print(vaso_arboles)"
   ]
  },
  {
   "cell_type": "code",
   "execution_count": 31,
   "metadata": {},
   "outputs": [
    {
     "name": "stdout",
     "output_type": "stream",
     "text": [
      "Polimorfia - Es una propiedad de la herencia en que objetos de distintas subclases pueden responder una misma acción\n",
      "Por ejemplo, el método 'rebajar_producto' recibe objetos de distintas clases y accede al atributo 'pvp' dando por hecho que existe en ellos\n",
      "En Python TODAS las clases son a su vez subclases de la superclase OBJECT, es decir, son POLOMÓRFICAS por defecto\n"
     ]
    }
   ],
   "source": [
    "print(\"Polimorfia - Es una propiedad de la herencia en que objetos de distintas subclases pueden responder una misma acción\")\n",
    "print(\"Por ejemplo, el método 'rebajar_producto' recibe objetos de distintas clases y accede al atributo 'pvp' dando por hecho que existe en ellos\")\n",
    "print(\"En Python TODAS las clases son a su vez subclases de la superclase OBJECT, es decir, son POLOMÓRFICAS por defecto\")"
   ]
  },
  {
   "cell_type": "code",
   "execution_count": null,
   "metadata": {},
   "outputs": [],
   "source": []
  }
 ],
 "metadata": {
  "kernelspec": {
   "display_name": "Python 3 (ipykernel)",
   "language": "python",
   "name": "python3"
  },
  "language_info": {
   "codemirror_mode": {
    "name": "ipython",
    "version": 3
   },
   "file_extension": ".py",
   "mimetype": "text/x-python",
   "name": "python",
   "nbconvert_exporter": "python",
   "pygments_lexer": "ipython3",
   "version": "3.11.1"
  }
 },
 "nbformat": 4,
 "nbformat_minor": 1
}
