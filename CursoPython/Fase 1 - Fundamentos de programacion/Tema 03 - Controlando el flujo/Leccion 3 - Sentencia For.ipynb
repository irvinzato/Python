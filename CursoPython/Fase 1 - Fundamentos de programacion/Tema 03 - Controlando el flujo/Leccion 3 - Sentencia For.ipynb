{
 "cells": [
  {
   "cell_type": "code",
   "execution_count": 1,
   "metadata": {},
   "outputs": [
    {
     "name": "stdout",
     "output_type": "stream",
     "text": [
      "1\n",
      "2\n",
      "3\n",
      "4\n",
      "5\n",
      "6\n",
      "7\n",
      "8\n",
      "9\n",
      "10\n"
     ]
    }
   ],
   "source": [
    "lista = [1,2,3,4,5,6,7,8,9,10]\n",
    "indice = 0\n",
    "while(indice < len(lista)):\n",
    "    print(lista[indice])\n",
    "    indice += 1"
   ]
  },
  {
   "cell_type": "code",
   "execution_count": 3,
   "metadata": {},
   "outputs": [
    {
     "name": "stdout",
     "output_type": "stream",
     "text": [
      "1\n",
      "2\n",
      "3\n",
      "4\n",
      "5\n",
      "6\n",
      "7\n",
      "8\n",
      "9\n",
      "10\n"
     ]
    }
   ],
   "source": [
    "for numero in lista:\n",
    "    print(numero)"
   ]
  },
  {
   "cell_type": "code",
   "execution_count": 6,
   "metadata": {},
   "outputs": [
    {
     "name": "stdout",
     "output_type": "stream",
     "text": [
      "No altero la lista, solamente altero los valores pero dentro de la itelación\n",
      "10\n",
      "20\n",
      "30\n",
      "40\n",
      "50\n",
      "60\n",
      "70\n",
      "80\n",
      "90\n",
      "100\n",
      "[1, 2, 3, 4, 5, 6, 7, 8, 9, 10]\n"
     ]
    }
   ],
   "source": [
    "print(\"No altero la lista, solamente altero los valores pero dentro de la itelación\")\n",
    "for numero in lista:\n",
    "    numero *= 10\n",
    "    print(numero)\n",
    "print(lista)"
   ]
  },
  {
   "cell_type": "code",
   "execution_count": 7,
   "metadata": {},
   "outputs": [
    {
     "name": "stdout",
     "output_type": "stream",
     "text": [
      "Altero el valor de los números dentro de la lista\n"
     ]
    },
    {
     "data": {
      "text/plain": [
       "[10, 20, 30, 40, 50, 60, 70, 80, 90, 100]"
      ]
     },
     "execution_count": 7,
     "metadata": {},
     "output_type": "execute_result"
    }
   ],
   "source": [
    "print(\"Altero el valor de los números dentro de la lista\")\n",
    "indice = 0\n",
    "for numero in lista:\n",
    "    lista[indice] *= 10\n",
    "    indice += 1\n",
    "lista"
   ]
  },
  {
   "cell_type": "code",
   "execution_count": 9,
   "metadata": {},
   "outputs": [
    {
     "name": "stdout",
     "output_type": "stream",
     "text": [
      "Hay una forma mas censilla con enumerate, enumerate nos devuelve automaticamente el indice, sin tener que declararlo...\n",
      "1\n",
      "2\n",
      "3\n",
      "4\n",
      "5\n",
      "6\n",
      "7\n",
      "8\n",
      "9\n",
      "10\n"
     ]
    },
    {
     "data": {
      "text/plain": [
       "[5, 10, 15, 20, 25, 30, 35, 40, 45, 50]"
      ]
     },
     "execution_count": 9,
     "metadata": {},
     "output_type": "execute_result"
    }
   ],
   "source": [
    "print(\"Hay una forma mas censilla con enumerate, enumerate nos devuelve automaticamente el indice, sin tener que declararlo...\")\n",
    "lista = [1,2,3,4,5,6,7,8,9,10]\n",
    "for indice,numero in enumerate(lista):\n",
    "    lista[indice] *= 5\n",
    "    print(numero)\n",
    "lista"
   ]
  },
  {
   "cell_type": "code",
   "execution_count": 10,
   "metadata": {},
   "outputs": [
    {
     "name": "stdout",
     "output_type": "stream",
     "text": [
      "H\n",
      "o\n",
      "l\n",
      "a\n",
      " \n",
      "I\n",
      "r\n",
      "v\n",
      "i\n",
      "n\n",
      "g\n"
     ]
    }
   ],
   "source": [
    "cadena = \"Hola Irving\"\n",
    "for caracter in cadena:\n",
    "    print(caracter)"
   ]
  },
  {
   "cell_type": "code",
   "execution_count": 11,
   "metadata": {},
   "outputs": [
    {
     "name": "stdout",
     "output_type": "stream",
     "text": [
      "Como las cadenas son inmutables no funciona tal cual con el enumerate\n"
     ]
    },
    {
     "ename": "TypeError",
     "evalue": "'str' object does not support item assignment",
     "output_type": "error",
     "traceback": [
      "\u001b[1;31m---------------------------------------------------------------------------\u001b[0m",
      "\u001b[1;31mTypeError\u001b[0m                                 Traceback (most recent call last)",
      "Cell \u001b[1;32mIn[11], line 3\u001b[0m\n\u001b[0;32m      1\u001b[0m \u001b[38;5;28mprint\u001b[39m(\u001b[38;5;124m\"\u001b[39m\u001b[38;5;124mComo las cadenas son inmutables no funciona tal cual con el enumerate\u001b[39m\u001b[38;5;124m\"\u001b[39m)\n\u001b[0;32m      2\u001b[0m \u001b[38;5;28;01mfor\u001b[39;00m indice,caracter \u001b[38;5;129;01min\u001b[39;00m \u001b[38;5;28menumerate\u001b[39m(cadena):\n\u001b[1;32m----> 3\u001b[0m     \u001b[43mcadena\u001b[49m\u001b[43m[\u001b[49m\u001b[43mindice\u001b[49m\u001b[43m]\u001b[49m \u001b[38;5;241m=\u001b[39m \u001b[38;5;124m\"\u001b[39m\u001b[38;5;124m*\u001b[39m\u001b[38;5;124m\"\u001b[39m\n\u001b[0;32m      4\u001b[0m cadena\n",
      "\u001b[1;31mTypeError\u001b[0m: 'str' object does not support item assignment"
     ]
    }
   ],
   "source": [
    "print(\"Como las cadenas son inmutables no funciona tal cual con el enumerate\")\n",
    "for indice,caracter in enumerate(cadena):\n",
    "    cadena[indice] = \"*\"\n",
    "cadena"
   ]
  },
  {
   "cell_type": "code",
   "execution_count": 12,
   "metadata": {},
   "outputs": [
    {
     "name": "stdout",
     "output_type": "stream",
     "text": [
      "Pero podemos ingeniar\n"
     ]
    },
    {
     "data": {
      "text/plain": [
       "'***********'"
      ]
     },
     "execution_count": 12,
     "metadata": {},
     "output_type": "execute_result"
    }
   ],
   "source": [
    "print(\"Pero podemos ingeniar\")\n",
    "cadena2 = \"\"\n",
    "for caracter in cadena:\n",
    "    cadena2 += \"*\"\n",
    "cadena2"
   ]
  },
  {
   "cell_type": "code",
   "execution_count": 13,
   "metadata": {},
   "outputs": [
    {
     "data": {
      "text/plain": [
       "'Hola Irving'"
      ]
     },
     "execution_count": 13,
     "metadata": {},
     "output_type": "execute_result"
    }
   ],
   "source": [
    "cadena"
   ]
  },
  {
   "cell_type": "code",
   "execution_count": 23,
   "metadata": {},
   "outputs": [
    {
     "name": "stdout",
     "output_type": "stream",
     "text": [
      "Asi se colocaria un rango en Python, indica las veces que tiene que recorrer pero no ocupa memoria!\n",
      "0\n",
      "1\n",
      "2\n",
      "3\n",
      "4\n",
      "5\n",
      "6\n",
      "7\n",
      "8\n",
      "9\n"
     ]
    }
   ],
   "source": [
    "print(\"Asi se colocaria un rango en Python, indica las veces que tiene que recorrer pero no ocupa memoria!\")\n",
    "for i in range(10):\n",
    "    print(i)"
   ]
  },
  {
   "cell_type": "code",
   "execution_count": 15,
   "metadata": {},
   "outputs": [
    {
     "data": {
      "text/plain": [
       "range(0, 10)"
      ]
     },
     "execution_count": 15,
     "metadata": {},
     "output_type": "execute_result"
    }
   ],
   "source": [
    "range(0,10)"
   ]
  },
  {
   "cell_type": "code",
   "execution_count": 22,
   "metadata": {},
   "outputs": [
    {
     "name": "stdout",
     "output_type": "stream",
     "text": [
      "Antes se hacia de esta manera pero no es NADA eficiente porque reserva mucha memoria\n",
      "0\n",
      "1\n",
      "2\n",
      "3\n",
      "4\n",
      "5\n",
      "6\n"
     ]
    }
   ],
   "source": [
    "print(\"Antes se hacia de esta manera pero no es NADA eficiente porque reserva mucha memoria\")\n",
    "for i in [0,1,2,3,4,5,6]:\n",
    "    print(i)"
   ]
  },
  {
   "cell_type": "code",
   "execution_count": 31,
   "metadata": {},
   "outputs": [
    {
     "name": "stdout",
     "output_type": "stream",
     "text": [
      "Creo una lista con rango de n valores\n"
     ]
    },
    {
     "data": {
      "text/plain": [
       "[0, 1, 2, 3, 4, 5, 6, 7, 8]"
      ]
     },
     "execution_count": 31,
     "metadata": {},
     "output_type": "execute_result"
    }
   ],
   "source": [
    "print(\"Creo una lista con rango de n valores\")\n",
    "list(range(9))"
   ]
  },
  {
   "cell_type": "code",
   "execution_count": 1,
   "metadata": {},
   "outputs": [
    {
     "name": "stdout",
     "output_type": "stream",
     "text": [
      "Enumerador\n",
      "0 hola\n",
      "1 27\n",
      "2 Irving\n",
      "3 [1, 2, 3]\n"
     ]
    }
   ],
   "source": [
    "print(\"Enumerador\")\n",
    "elementos = [\"hola\", 27, \"Irving\", [1,2,3]]\n",
    "for i,e in enumerate(elementos):\n",
    "    print(i, e)"
   ]
  },
  {
   "cell_type": "code",
   "execution_count": 5,
   "metadata": {},
   "outputs": [
    {
     "name": "stdout",
     "output_type": "stream",
     "text": [
      "Esto es una asignación multiple\n"
     ]
    }
   ],
   "source": [
    "print(\"Esto es una asignación multiple\")\n",
    "a, b, c = 10, 20, 30"
   ]
  },
  {
   "cell_type": "code",
   "execution_count": 6,
   "metadata": {},
   "outputs": [
    {
     "name": "stdout",
     "output_type": "stream",
     "text": [
      "10 20 30\n"
     ]
    }
   ],
   "source": [
    "print(a, b, c)"
   ]
  },
  {
   "cell_type": "code",
   "execution_count": 8,
   "metadata": {},
   "outputs": [
    {
     "name": "stdout",
     "output_type": "stream",
     "text": [
      "8 2 4\n"
     ]
    }
   ],
   "source": [
    "(a, b, c) = (8, 2, 4)\n",
    "print(a, b, c)"
   ]
  },
  {
   "cell_type": "code",
   "execution_count": 9,
   "metadata": {},
   "outputs": [
    {
     "name": "stdout",
     "output_type": "stream",
     "text": [
      "10 23 23\n"
     ]
    }
   ],
   "source": [
    "[a, b, c] = [10, 23, 23]\n",
    "print(a, b, c)"
   ]
  },
  {
   "cell_type": "code",
   "execution_count": 11,
   "metadata": {},
   "outputs": [
    {
     "name": "stdout",
     "output_type": "stream",
     "text": [
      "Tambien puedo devolver en una funcion 3 o n valores\n",
      "4 2 4\n"
     ]
    }
   ],
   "source": [
    "print(\"Tambien puedo devolver en una funcion 3 o n valores\")\n",
    "def funcion():\n",
    "    return 4, 2, 4\n",
    "a, b, c = funcion()\n",
    "print(a, b, c)"
   ]
  },
  {
   "cell_type": "code",
   "execution_count": 12,
   "metadata": {},
   "outputs": [
    {
     "name": "stdout",
     "output_type": "stream",
     "text": [
      "Si transformamos el enumerador a una lista obtenemos tuplas con cada elemento\n"
     ]
    },
    {
     "data": {
      "text/plain": [
       "[(0, 'hola'), (1, 27), (2, 'Irving'), (3, [1, 2, 3])]"
      ]
     },
     "execution_count": 12,
     "metadata": {},
     "output_type": "execute_result"
    }
   ],
   "source": [
    "print(\"Si transformamos el enumerador a una lista obtenemos tuplas con cada elemento\")\n",
    "list(enumerate(elementos))"
   ]
  },
  {
   "cell_type": "code",
   "execution_count": 14,
   "metadata": {},
   "outputs": [
    {
     "name": "stdout",
     "output_type": "stream",
     "text": [
      "Lo que realmente hace enumerate es transformar las listas a tuplas, indice - valor\n",
      "(0, 'hola')\n",
      "(1, 27)\n",
      "(2, 'Irving')\n",
      "(3, [1, 2, 3])\n"
     ]
    }
   ],
   "source": [
    "print(\"Lo que realmente hace enumerate es transformar las listas a tuplas, indice - valor\")\n",
    "for tupla in enumerate(elementos):\n",
    "    print(tupla)"
   ]
  },
  {
   "cell_type": "code",
   "execution_count": 15,
   "metadata": {},
   "outputs": [
    {
     "name": "stdout",
     "output_type": "stream",
     "text": [
      "0 hola\n",
      "1 27\n",
      "2 Irving\n",
      "3 [1, 2, 3]\n"
     ]
    }
   ],
   "source": [
    "for indice, valor in enumerate(elementos):\n",
    "    print(indice, valor)"
   ]
  },
  {
   "cell_type": "code",
   "execution_count": 16,
   "metadata": {},
   "outputs": [
    {
     "name": "stdout",
     "output_type": "stream",
     "text": [
      "BLUCLES ANIDADOS !\n"
     ]
    }
   ],
   "source": [
    "print(\"BLUCLES ANIDADOS !\")\n",
    "listas = [ \n",
    "    \"Sigue adelante Irving\",   #Cadena\n",
    "    (1, 2, 3, 4, 5, 6),        #Tupla\n",
    "    [\"Verde\", \"Azul\", \"Negro\"] #Lista\n",
    "]"
   ]
  },
  {
   "cell_type": "code",
   "execution_count": 19,
   "metadata": {},
   "outputs": [
    {
     "name": "stdout",
     "output_type": "stream",
     "text": [
      "Sigue adelante Irving  --->  S\n",
      "Sigue adelante Irving  --->  i\n",
      "Sigue adelante Irving  --->  g\n",
      "Sigue adelante Irving  --->  u\n",
      "Sigue adelante Irving  --->  e\n",
      "Sigue adelante Irving  --->   \n",
      "Sigue adelante Irving  --->  a\n",
      "Sigue adelante Irving  --->  d\n",
      "Sigue adelante Irving  --->  e\n",
      "Sigue adelante Irving  --->  l\n",
      "Sigue adelante Irving  --->  a\n",
      "Sigue adelante Irving  --->  n\n",
      "Sigue adelante Irving  --->  t\n",
      "Sigue adelante Irving  --->  e\n",
      "Sigue adelante Irving  --->   \n",
      "Sigue adelante Irving  --->  I\n",
      "Sigue adelante Irving  --->  r\n",
      "Sigue adelante Irving  --->  v\n",
      "Sigue adelante Irving  --->  i\n",
      "Sigue adelante Irving  --->  n\n",
      "Sigue adelante Irving  --->  g\n",
      "(1, 2, 3, 4, 5, 6)  --->  1\n",
      "(1, 2, 3, 4, 5, 6)  --->  2\n",
      "(1, 2, 3, 4, 5, 6)  --->  3\n",
      "(1, 2, 3, 4, 5, 6)  --->  4\n",
      "(1, 2, 3, 4, 5, 6)  --->  5\n",
      "(1, 2, 3, 4, 5, 6)  --->  6\n",
      "['Verde', 'Azul', 'Negro']  --->  Verde\n",
      "['Verde', 'Azul', 'Negro']  --->  Azul\n",
      "['Verde', 'Azul', 'Negro']  --->  Negro\n"
     ]
    }
   ],
   "source": [
    "for coleccion_grande in listas:\n",
    "    for coleccion_dentro in coleccion_grande:\n",
    "        print(coleccion_grande, \" ---> \", coleccion_dentro)"
   ]
  },
  {
   "cell_type": "code",
   "execution_count": 23,
   "metadata": {},
   "outputs": [
    {
     "name": "stdout",
     "output_type": "stream",
     "text": [
      "S\n",
      "i\n",
      "g\n",
      "u\n",
      "e\n",
      " \n",
      "a\n",
      "d\n",
      "e\n",
      "l\n",
      "a\n",
      "n\n",
      "t\n",
      "e\n",
      " \n",
      "I\n",
      "r\n",
      "v\n",
      "i\n",
      "n\n",
      "g\n",
      "1\n",
      "2\n",
      "3\n",
      "4\n",
      "5\n",
      "6\n",
      "Verde\n",
      "Azul\n",
      "Negro\n"
     ]
    }
   ],
   "source": [
    "for indice_1, coleccion_grande in enumerate(listas):\n",
    "    for indice_2, coleccion_dentro in enumerate(coleccion_grande):\n",
    "        print(listas[indice_1][indice_2])"
   ]
  },
  {
   "cell_type": "code",
   "execution_count": 24,
   "metadata": {},
   "outputs": [
    {
     "name": "stdout",
     "output_type": "stream",
     "text": [
      "S\n",
      "i\n",
      "g\n",
      "u\n",
      "e\n",
      " \n",
      "a\n",
      "d\n",
      "e\n",
      "l\n",
      "a\n",
      "n\n",
      "t\n",
      "e\n",
      " \n",
      "I\n",
      "r\n",
      "v\n",
      "i\n",
      "n\n",
      "g\n",
      "1\n",
      "2\n",
      "3\n",
      "4\n",
      "5\n",
      "6\n",
      "Verde\n",
      "Azul\n",
      "Negro\n"
     ]
    }
   ],
   "source": [
    "for coleccion_grande in listas:\n",
    "    for coleccion_dentro in coleccion_grande:\n",
    "        print(coleccion_dentro)"
   ]
  },
  {
   "cell_type": "code",
   "execution_count": 31,
   "metadata": {},
   "outputs": [
    {
     "name": "stdout",
     "output_type": "stream",
     "text": [
      "Otra manera de imprimir y darle formato de tabla, con el truco end\n",
      "0 0 0 \n",
      "1 1 1 \n",
      "2 2 2 \n"
     ]
    }
   ],
   "source": [
    "print(\"Otra manera de imprimir y darle formato de tabla, con el truco end\")\n",
    "tabla = [\n",
    "    [0, 0, 0],\n",
    "    [1, 1, 1],\n",
    "    [2, 2, 2]\n",
    "]\n",
    "for fila in tabla:\n",
    "    for columna in fila:\n",
    "        print(columna, end = \" \")\n",
    "    print()"
   ]
  },
  {
   "cell_type": "code",
   "execution_count": 32,
   "metadata": {},
   "outputs": [
    {
     "name": "stdout",
     "output_type": "stream",
     "text": [
      "Tambien podria ser utilizando indices. La ventaja de usar indices es que se puede modificar los valores de la tabla\n"
     ]
    }
   ],
   "source": [
    "print(\"Tambien podria ser utilizando indices. La ventaja de usar indices es que se puede modificar los valores de la tabla\")"
   ]
  },
  {
   "cell_type": "code",
   "execution_count": 33,
   "metadata": {},
   "outputs": [
    {
     "data": {
      "text/plain": [
       "[[[0, 0, 0], [1, 1, 1], [2, 2, 2]],\n",
       " [[0, 0, 0], [1, 1, 1], [2, 2, 2]],\n",
       " [[0, 0, 0], [1, 1, 1], [2, 2, 2]]]"
      ]
     },
     "execution_count": 33,
     "metadata": {},
     "output_type": "execute_result"
    }
   ],
   "source": [
    "cubo = [\n",
    "    tabla, tabla, tabla\n",
    "]\n",
    "cubo"
   ]
  },
  {
   "cell_type": "code",
   "execution_count": null,
   "metadata": {},
   "outputs": [],
   "source": []
  }
 ],
 "metadata": {
  "kernelspec": {
   "display_name": "Python 3 (ipykernel)",
   "language": "python",
   "name": "python3"
  },
  "language_info": {
   "codemirror_mode": {
    "name": "ipython",
    "version": 3
   },
   "file_extension": ".py",
   "mimetype": "text/x-python",
   "name": "python",
   "nbconvert_exporter": "python",
   "pygments_lexer": "ipython3",
   "version": "3.11.1"
  }
 },
 "nbformat": 4,
 "nbformat_minor": 1
}
