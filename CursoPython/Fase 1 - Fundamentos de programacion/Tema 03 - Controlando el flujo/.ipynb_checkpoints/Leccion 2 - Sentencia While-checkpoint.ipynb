{
 "cells": [
  {
   "cell_type": "code",
   "execution_count": 1,
   "metadata": {},
   "outputs": [
    {
     "name": "stdout",
     "output_type": "stream",
     "text": [
      "c vale 1\n",
      "c vale 2\n",
      "c vale 3\n",
      "c vale 4\n",
      "c vale 5\n",
      "c vale 6\n"
     ]
    }
   ],
   "source": [
    "c = 0\n",
    "while c <= 5:\n",
    "    c +=1\n",
    "    print(\"c vale\", c)"
   ]
  },
  {
   "cell_type": "code",
   "execution_count": 2,
   "metadata": {},
   "outputs": [
    {
     "name": "stdout",
     "output_type": "stream",
     "text": [
      "c vale 1\n",
      "c vale 2\n",
      "c vale 3\n",
      "c vale 4\n",
      "c vale 5\n",
      "c vale 6\n",
      "Se puede poner esta estructura, completada toda la iteración y c vale 6\n"
     ]
    }
   ],
   "source": [
    "c = 0\n",
    "while c <= 5:\n",
    "    c +=1\n",
    "    print(\"c vale\", c)\n",
    "else:\n",
    "    print(\"Se puede poner esta estructura, completada toda la iteración y c vale\", c)"
   ]
  },
  {
   "cell_type": "code",
   "execution_count": 4,
   "metadata": {},
   "outputs": [
    {
     "name": "stdout",
     "output_type": "stream",
     "text": [
      "c vale 1\n",
      "Rompemos el bluce cuando c vale 2\n",
      "Como no se llega al final tampoco se ejecuta el else\n"
     ]
    }
   ],
   "source": [
    "c = 0\n",
    "while c <= 5:\n",
    "    c +=1\n",
    "    if c == 2:\n",
    "        print(\"Rompemos el bluce cuando c vale\", c)\n",
    "        print(\"Como no se llega al final tampoco se ejecuta el else\")\n",
    "        break\n",
    "    print(\"c vale\", c)\n",
    "else:\n",
    "    print(\"Se puede poner esta estructura, completada toda la iteración y c vale\", c)"
   ]
  },
  {
   "cell_type": "code",
   "execution_count": 6,
   "metadata": {},
   "outputs": [
    {
     "name": "stdout",
     "output_type": "stream",
     "text": [
      "c vale 1\n",
      "Continuamos con la siguiente iteración en lugar de romper, con c igual a 2\n",
      "c vale 3\n",
      "c vale 4\n",
      "c vale 5\n",
      "c vale 6\n",
      "Se puede poner esta estructura, completada toda la iteración y c vale 6\n"
     ]
    }
   ],
   "source": [
    "c = 0\n",
    "while c <= 5:\n",
    "    c +=1\n",
    "    if c == 2:\n",
    "        print(\"Continuamos con la siguiente iteración en lugar de romper, con c igual a\", c)\n",
    "        continue\n",
    "    print(\"c vale\", c)\n",
    "else:\n",
    "    print(\"Se puede poner esta estructura, completada toda la iteración y c vale\", c)"
   ]
  },
  {
   "cell_type": "code",
   "execution_count": 9,
   "metadata": {},
   "outputs": [
    {
     "name": "stdout",
     "output_type": "stream",
     "text": [
      "Bienvenido al menú interactivo\n",
      "¿Que quieres hacer? Escribe una opción:\n",
      "    1) Saludar\n",
      "    2) Sumar dos números\n",
      "    3) Salir\n",
      "Coloca aqui la opción: 1\n",
      "Hola, espero la estes pasando muy bien\n",
      "¿Que quieres hacer? Escribe una opción:\n",
      "    1) Saludar\n",
      "    2) Sumar dos números\n",
      "    3) Salir\n",
      "Coloca aqui la opción: 2\n",
      "Primer número: 3\n",
      "Segundo número: 3\n",
      "El resultado de la suma es:  6.0\n",
      "¿Que quieres hacer? Escribe una opción:\n",
      "    1) Saludar\n",
      "    2) Sumar dos números\n",
      "    3) Salir\n",
      "Coloca aqui la opción: 3\n",
      "Hasta luego, ha sido un placer ayudarte\n"
     ]
    }
   ],
   "source": [
    "print(\"Bienvenido al menú interactivo\")\n",
    "while(True):\n",
    "    print(\"\"\"¿Que quieres hacer? Escribe una opción:\n",
    "    1) Saludar\n",
    "    2) Sumar dos números\n",
    "    3) Salir\"\"\")\n",
    "    opcion = input(\"Coloca aqui la opción: \")\n",
    "    if(opcion == '1'):\n",
    "        print(\"Hola, espero la estes pasando muy bien\")\n",
    "    elif(opcion == '2'):\n",
    "        n1 = float(input(\"Primer número: \"))\n",
    "        n2 = float(input(\"Segundo número: \"))\n",
    "        print(\"El resultado de la suma es: \", n1+n2)\n",
    "    elif(opcion == '3'):\n",
    "        print(\"Hasta luego, ha sido un placer ayudarte\")\n",
    "        break\n",
    "    else:\n",
    "        print(\"Pusiste un comando desconocido y terminare el proceso\")\n",
    "        break"
   ]
  },
  {
   "cell_type": "code",
   "execution_count": null,
   "metadata": {},
   "outputs": [],
   "source": []
  }
 ],
 "metadata": {
  "kernelspec": {
   "display_name": "Python 3 (ipykernel)",
   "language": "python",
   "name": "python3"
  },
  "language_info": {
   "codemirror_mode": {
    "name": "ipython",
    "version": 3
   },
   "file_extension": ".py",
   "mimetype": "text/x-python",
   "name": "python",
   "nbconvert_exporter": "python",
   "pygments_lexer": "ipython3",
   "version": "3.11.1"
  }
 },
 "nbformat": 4,
 "nbformat_minor": 1
}
