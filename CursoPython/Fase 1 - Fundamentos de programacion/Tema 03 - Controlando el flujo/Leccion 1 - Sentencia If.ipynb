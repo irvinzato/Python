{
 "cells": [
  {
   "cell_type": "code",
   "execution_count": 2,
   "metadata": {},
   "outputs": [
    {
     "name": "stdout",
     "output_type": "stream",
     "text": [
      "Importante la identación para la instrucción que lo contiene\n",
      "Posiblemente la sentencia mas utilizado en la programación\n"
     ]
    }
   ],
   "source": [
    "if True:\n",
    "    print(\"Importante la identación para la instrucción que lo contiene\")\n",
    "    print(\"Posiblemente la sentencia mas utilizado en la programación\")"
   ]
  },
  {
   "cell_type": "code",
   "execution_count": 3,
   "metadata": {},
   "outputs": [
    {
     "name": "stdout",
     "output_type": "stream",
     "text": [
      "a vale 5\n"
     ]
    }
   ],
   "source": [
    "a = 5\n",
    "if a == 2:\n",
    "    print(\"a vale 2\")\n",
    "if a == 5:\n",
    "    print(\"a vale 5\")"
   ]
  },
  {
   "cell_type": "code",
   "execution_count": 5,
   "metadata": {},
   "outputs": [
    {
     "name": "stdout",
     "output_type": "stream",
     "text": [
      "a vale  5\n",
      "y b vale  10\n"
     ]
    }
   ],
   "source": [
    "b = 10\n",
    "if a == 5:\n",
    "    print(\"a vale \", a)\n",
    "    if b == 10:\n",
    "        print(\"y b vale \", b)"
   ]
  },
  {
   "cell_type": "code",
   "execution_count": 10,
   "metadata": {},
   "outputs": [
    {
     "name": "stdout",
     "output_type": "stream",
     "text": [
      "a vale, 5 y b vale, 10\n"
     ]
    }
   ],
   "source": [
    "if a == 5 and b == 10:\n",
    "    print(\"a vale,\", a, \"y b vale,\", b)"
   ]
  },
  {
   "cell_type": "code",
   "execution_count": 12,
   "metadata": {},
   "outputs": [
    {
     "name": "stdout",
     "output_type": "stream",
     "text": [
      "11 es un número impar\n"
     ]
    }
   ],
   "source": [
    "n = 11\n",
    "if n % 2 == 0:\n",
    "    print(n, \"es un número par\")\n",
    "else:\n",
    "    print(n, \"es un número impar\")"
   ]
  },
  {
   "cell_type": "code",
   "execution_count": 14,
   "metadata": {},
   "outputs": [
    {
     "name": "stdout",
     "output_type": "stream",
     "text": [
      "Hola, sigue siempre adelante\n"
     ]
    }
   ],
   "source": [
    "comando = \"Saludar\"\n",
    "if comando == \"Entrar\":\n",
    "    print(\"Bienvenido al sistema\")\n",
    "elif comando == \"Salir\":\n",
    "    print(\"Hasta luego\")\n",
    "elif comando == \"Saludar\":\n",
    "    print(\"Hola, sigue siempre adelante\")\n",
    "else:\n",
    "    print(\"Opción no encontrada\")"
   ]
  },
  {
   "cell_type": "code",
   "execution_count": 19,
   "metadata": {},
   "outputs": [
    {
     "name": "stdout",
     "output_type": "stream",
     "text": [
      "Introduce una nota: 9.2\n",
      "Eres un master\n"
     ]
    }
   ],
   "source": [
    "nota = float(input(\"Introduce una nota: \"))\n",
    "if nota >= 9:\n",
    "    print(\"Eres un master\")\n",
    "elif nota >= 7:\n",
    "    print(\"Nada mal\")\n",
    "elif nota >=6:\n",
    "    print(\"Quiza ocupas echarle mas\")\n",
    "else:\n",
    "    print(\"Lamentable\")"
   ]
  },
  {
   "cell_type": "code",
   "execution_count": 20,
   "metadata": {},
   "outputs": [
    {
     "name": "stdout",
     "output_type": "stream",
     "text": [
      "Introduce una nota: 10\n",
      "Eres un master\n",
      "Nada mal\n",
      "Quiza ocupas echarle mas\n"
     ]
    }
   ],
   "source": [
    "nota = float(input(\"Introduce una nota: \"))\n",
    "if nota >= 9:\n",
    "    print(\"Eres un master\")\n",
    "if nota >= 7:\n",
    "    print(\"Nada mal\")\n",
    "if nota >=6:\n",
    "    print(\"Quiza ocupas echarle mas\")\n",
    "if nota <=5:\n",
    "    print(\"Lamentable\")"
   ]
  },
  {
   "cell_type": "code",
   "execution_count": 21,
   "metadata": {},
   "outputs": [
    {
     "name": "stdout",
     "output_type": "stream",
     "text": [
      "En el caso de ocupar puros ifs hay que limitar mucho mas los rangos, utilizar elif en la que cumpla no continua\n"
     ]
    }
   ],
   "source": [
    "print(\"En el caso de ocupar puros ifs hay que limitar mucho mas los rangos, utilizar elif en la que cumpla no continua\")"
   ]
  },
  {
   "cell_type": "code",
   "execution_count": 22,
   "metadata": {},
   "outputs": [],
   "source": [
    "if True:\n",
    "    pass"
   ]
  },
  {
   "cell_type": "code",
   "execution_count": 25,
   "metadata": {},
   "outputs": [
    {
     "name": "stdout",
     "output_type": "stream",
     "text": [
      "pass se utiliza para definir un bloque vacio, para hacer esqueletos de estructuras\n",
      "La sentencia switch no existe en Python\n",
      "En Python 3.10 se añadio una nueva sentencia inspirada en switch-case, basado en C, se trata de match-case\n"
     ]
    }
   ],
   "source": [
    "print(\"pass se utiliza para definir un bloque vacio, para hacer esqueletos de estructuras\")\n",
    "print(\"La sentencia switch no existe en Python\")\n",
    "print(\"En Python 3.10 se añadio una nueva sentencia inspirada en switch-case, basado en C, se trata de match-case\")"
   ]
  },
  {
   "cell_type": "code",
   "execution_count": 28,
   "metadata": {},
   "outputs": [
    {
     "name": "stdout",
     "output_type": "stream",
     "text": [
      "Introduce una letra mayusculaI\n",
      "Opción por defecto\n"
     ]
    }
   ],
   "source": [
    "opcion = input(\"Introduce una letra mayuscula\")\n",
    "\n",
    "match opcion:\n",
    "    case \"A\":\n",
    "        print(\"Opción A\")\n",
    "    case \"B\":\n",
    "        print(\"Opción B\")\n",
    "    case \"C\":\n",
    "        print(\"Opción C\")\n",
    "    case _:\n",
    "        print(\"Opción por defecto\")"
   ]
  },
  {
   "cell_type": "code",
   "execution_count": null,
   "metadata": {},
   "outputs": [],
   "source": []
  }
 ],
 "metadata": {
  "kernelspec": {
   "display_name": "Python 3 (ipykernel)",
   "language": "python",
   "name": "python3"
  },
  "language_info": {
   "codemirror_mode": {
    "name": "ipython",
    "version": 3
   },
   "file_extension": ".py",
   "mimetype": "text/x-python",
   "name": "python",
   "nbconvert_exporter": "python",
   "pygments_lexer": "ipython3",
   "version": "3.11.1"
  }
 },
 "nbformat": 4,
 "nbformat_minor": 1
}
