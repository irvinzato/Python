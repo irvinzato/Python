{
 "cells": [
  {
   "cell_type": "code",
   "execution_count": 65,
   "metadata": {},
   "outputs": [
    {
     "data": {
      "text/plain": [
       "'Hola Irving, aprende mucho mas ! Practicas en videos 19 y 21 sobre cadenas'"
      ]
     },
     "execution_count": 65,
     "metadata": {},
     "output_type": "execute_result"
    }
   ],
   "source": [
    "'Hola Irving, aprende mucho mas ! Practicas en videos 19 y 21 sobre cadenas'"
   ]
  },
  {
   "cell_type": "code",
   "execution_count": 2,
   "metadata": {},
   "outputs": [
    {
     "data": {
      "text/plain": [
       "'Hola Irving, aprende mucho mas, siemrpe adelante'"
      ]
     },
     "execution_count": 2,
     "metadata": {},
     "output_type": "execute_result"
    }
   ],
   "source": [
    "\"Hola Irving, aprende mucho mas, siemrpe adelante\""
   ]
  },
  {
   "cell_type": "code",
   "execution_count": 3,
   "metadata": {},
   "outputs": [
    {
     "data": {
      "text/plain": [
       "'Comillas dobles dentro de comillas simples \" \"'"
      ]
     },
     "execution_count": 3,
     "metadata": {},
     "output_type": "execute_result"
    }
   ],
   "source": [
    "'Comillas dobles dentro de comillas simples \" \"'"
   ]
  },
  {
   "cell_type": "code",
   "execution_count": 4,
   "metadata": {},
   "outputs": [
    {
     "data": {
      "text/plain": [
       "\"Comillas simples dentro de comillas dobles ' '\""
      ]
     },
     "execution_count": 4,
     "metadata": {},
     "output_type": "execute_result"
    }
   ],
   "source": [
    "\"Comillas simples dentro de comillas dobles ' '\""
   ]
  },
  {
   "cell_type": "code",
   "execution_count": 6,
   "metadata": {},
   "outputs": [
    {
     "data": {
      "text/plain": [
       "'Escapando comillas dobles dentro de otras comillas dobles \"dentro de las comillas\" '"
      ]
     },
     "execution_count": 6,
     "metadata": {},
     "output_type": "execute_result"
    }
   ],
   "source": [
    "\"Escapando comillas dobles dentro de otras comillas dobles \\\"dentro de las comillas\\\" \""
   ]
  },
  {
   "cell_type": "code",
   "execution_count": 7,
   "metadata": {},
   "outputs": [
    {
     "data": {
      "text/plain": [
       "\"Escapando comillas dobles dentro de otras comillas dobles 'dentro de las comillas'\""
      ]
     },
     "execution_count": 7,
     "metadata": {},
     "output_type": "execute_result"
    }
   ],
   "source": [
    "'Escapando comillas dobles dentro de otras comillas dobles \\'dentro de las comillas\\''"
   ]
  },
  {
   "cell_type": "code",
   "execution_count": 11,
   "metadata": {},
   "outputs": [
    {
     "name": "stdout",
     "output_type": "stream",
     "text": [
      "Forma correcta de imprimir en python\n",
      "Otra mas\n"
     ]
    }
   ],
   "source": [
    "print(\"Forma correcta de imprimir en python\")\n",
    "print('Otra mas') "
   ]
  },
  {
   "cell_type": "code",
   "execution_count": 13,
   "metadata": {},
   "outputs": [
    {
     "name": "stdout",
     "output_type": "stream",
     "text": [
      "Una tabulacion\t asi se hace\n"
     ]
    }
   ],
   "source": [
    "print(\"Una tabulacion\\t asi se hace\")"
   ]
  },
  {
   "cell_type": "code",
   "execution_count": 16,
   "metadata": {},
   "outputs": [
    {
     "name": "stdout",
     "output_type": "stream",
     "text": [
      "Un texto\n",
      " en una nueva linea\n"
     ]
    }
   ],
   "source": [
    "print(\"Un texto\\n en una nueva linea\")"
   ]
  },
  {
   "cell_type": "code",
   "execution_count": 17,
   "metadata": {},
   "outputs": [
    {
     "name": "stdout",
     "output_type": "stream",
     "text": [
      "C:\n",
      "ombre\\directorio\n"
     ]
    }
   ],
   "source": [
    "print(\"C:\\nombre\\directorio\")"
   ]
  },
  {
   "cell_type": "code",
   "execution_count": 19,
   "metadata": {},
   "outputs": [
    {
     "name": "stdout",
     "output_type": "stream",
     "text": [
      "C:\\nombre\\directorio\n",
      "Indico que la cadena de arriba es de tipo crudo, no tomara caracteres especiales en caso de que los halla\n"
     ]
    }
   ],
   "source": [
    "print(r\"C:\\nombre\\directorio\")\n",
    "print(r\"Indico que la cadena de arriba es de tipo crudo, no tomara caracteres especiales en caso de que los halla\")"
   ]
  },
  {
   "cell_type": "code",
   "execution_count": 22,
   "metadata": {},
   "outputs": [
    {
     "name": "stdout",
     "output_type": "stream",
     "text": [
      "Una linea\n",
      "otra mas\n",
      "una mas\t con tabulacion, asi lo interpreta con la forma que indicamos dentro\n"
     ]
    }
   ],
   "source": [
    "print(\"\"\"Una linea\n",
    "otra mas\n",
    "una mas\\t con tabulacion, asi lo interpreta con la forma que indicamos dentro\"\"\")"
   ]
  },
  {
   "cell_type": "code",
   "execution_count": 23,
   "metadata": {},
   "outputs": [],
   "source": [
    "c = \"Esta variable es una cadena\\n con dos lineas\""
   ]
  },
  {
   "cell_type": "code",
   "execution_count": 24,
   "metadata": {},
   "outputs": [
    {
     "data": {
      "text/plain": [
       "'Esta variable es una cadena\\n con dos lineas'"
      ]
     },
     "execution_count": 24,
     "metadata": {},
     "output_type": "execute_result"
    }
   ],
   "source": [
    "c"
   ]
  },
  {
   "cell_type": "code",
   "execution_count": 25,
   "metadata": {},
   "outputs": [
    {
     "name": "stdout",
     "output_type": "stream",
     "text": [
      "Esta variable es una cadena\n",
      " con dos lineas\n"
     ]
    }
   ],
   "source": [
    "print(c)"
   ]
  },
  {
   "cell_type": "code",
   "execution_count": 26,
   "metadata": {},
   "outputs": [
    {
     "data": {
      "text/plain": [
       "'Esta variable es una cadena\\n con dos lineasEsta variable es una cadena\\n con dos lineas'"
      ]
     },
     "execution_count": 26,
     "metadata": {},
     "output_type": "execute_result"
    }
   ],
   "source": [
    "c + c"
   ]
  },
  {
   "cell_type": "code",
   "execution_count": 27,
   "metadata": {},
   "outputs": [
    {
     "name": "stdout",
     "output_type": "stream",
     "text": [
      "Esta variable es una cadena\n",
      " con dos lineasEsta variable es una cadena\n",
      " con dos lineas\n"
     ]
    }
   ],
   "source": [
    "print(c + c)"
   ]
  },
  {
   "cell_type": "code",
   "execution_count": 29,
   "metadata": {},
   "outputs": [
    {
     "name": "stdout",
     "output_type": "stream",
     "text": [
      "Segunda variable tipo cadena Compuesta de dos cadenas\n"
     ]
    }
   ],
   "source": [
    "s = \"Segunda variable tipo cadena\" \" Compuesta de dos cadenas\"\n",
    "print(s)"
   ]
  },
  {
   "cell_type": "code",
   "execution_count": 33,
   "metadata": {},
   "outputs": [
    {
     "name": "stdout",
     "output_type": "stream",
     "text": [
      "Se pueden multiplicar cadenas curiosamente\n",
      "           un texto\n",
      "textotextotextotextotextotextotextotextotextotexto\n"
     ]
    }
   ],
   "source": [
    "print(\"Se pueden multiplicar cadenas curiosamente\")\n",
    "diez_espacios = \" \" * 10\n",
    "print(diez_espacios + \" un texto\")\n",
    "print(\"texto\" * 10)"
   ]
  },
  {
   "cell_type": "code",
   "execution_count": 34,
   "metadata": {},
   "outputs": [],
   "source": [
    "palabra = \"Python\""
   ]
  },
  {
   "cell_type": "code",
   "execution_count": 35,
   "metadata": {},
   "outputs": [
    {
     "name": "stdout",
     "output_type": "stream",
     "text": [
      "Accediendo a una palabra a trabes de los indices\n"
     ]
    },
    {
     "data": {
      "text/plain": [
       "'P'"
      ]
     },
     "execution_count": 35,
     "metadata": {},
     "output_type": "execute_result"
    }
   ],
   "source": [
    "print(\"Accediendo a una palabra a trabes de los indices\")\n",
    "palabra[0] #caracter en la posición 0"
   ]
  },
  {
   "cell_type": "code",
   "execution_count": 37,
   "metadata": {},
   "outputs": [
    {
     "data": {
      "text/plain": [
       "'h'"
      ]
     },
     "execution_count": 37,
     "metadata": {},
     "output_type": "execute_result"
    }
   ],
   "source": [
    "palabra[3]"
   ]
  },
  {
   "cell_type": "code",
   "execution_count": 49,
   "metadata": {},
   "outputs": [
    {
     "name": "stdout",
     "output_type": "stream",
     "text": [
      "Podemos usar indices en negativo\n",
      "n\n",
      "o\n",
      "h\n",
      "t\n",
      "y\n",
      "P\n"
     ]
    }
   ],
   "source": [
    "print(\"Podemos usar indices en negativo\")\n",
    "print(palabra[-1])\n",
    "print(palabra[-2])\n",
    "print(palabra[-3])\n",
    "print(palabra[-4])\n",
    "print(palabra[-5])\n",
    "print(palabra[-6])"
   ]
  },
  {
   "cell_type": "code",
   "execution_count": 99,
   "metadata": {},
   "outputs": [
    {
     "name": "stdout",
     "output_type": "stream",
     "text": [
      "Python soporta multiples indices, muy util para sustraer porciones de otras cadenas\n",
      "Esta tecnica se llama SLICING\n",
      "NAy\n",
      "Se excluye el ultimo numero\n"
     ]
    }
   ],
   "source": [
    "print(\"Python soporta multiples indices, muy util para sustraer porciones de otras cadenas\")\n",
    "print(\"Esta tecnica se llama SLICING\")\n",
    "print(palabra[0:3])\n",
    "print(\"Se excluye el ultimo numero\")"
   ]
  },
  {
   "cell_type": "code",
   "execution_count": 61,
   "metadata": {},
   "outputs": [
    {
     "data": {
      "text/plain": [
       "'th'"
      ]
     },
     "execution_count": 61,
     "metadata": {},
     "output_type": "execute_result"
    }
   ],
   "source": [
    "palabra[2:-2]"
   ]
  },
  {
   "cell_type": "code",
   "execution_count": 69,
   "metadata": {},
   "outputs": [
    {
     "name": "stdout",
     "output_type": "stream",
     "text": [
      "Si no indico tomara hasta la ultima palabra\n",
      "ython\n",
      "Tambien puede ser al reves la sentencia\n",
      "Pyth\n",
      "O toda la palabra\n",
      "Python\n"
     ]
    }
   ],
   "source": [
    "print(\"Si no indico tomara hasta la ultima palabra\")\n",
    "print(palabra[1:])\n",
    "print(\"Tambien puede ser al reves la sentencia\")\n",
    "print(palabra[:4])\n",
    "print(\"O toda la palabra\")\n",
    "print(palabra[:])"
   ]
  },
  {
   "cell_type": "code",
   "execution_count": 70,
   "metadata": {},
   "outputs": [
    {
     "data": {
      "text/plain": [
       "'Python'"
      ]
     },
     "execution_count": 70,
     "metadata": {},
     "output_type": "execute_result"
    }
   ],
   "source": [
    "palabra[:2] + palabra[2:]"
   ]
  },
  {
   "cell_type": "code",
   "execution_count": 71,
   "metadata": {},
   "outputs": [
    {
     "name": "stdout",
     "output_type": "stream",
     "text": [
      "Con esta tecnica puedo indicar hasta un numero que no existe y simplemente toma toda la palabra o hasa donde llegue\n",
      "Python\n"
     ]
    }
   ],
   "source": [
    "print(\"Con esta tecnica puedo indicar hasta un numero que no existe y simplemente toma toda la palabra o hasa donde llegue\")\n",
    "print(palabra[:99])"
   ]
  },
  {
   "cell_type": "code",
   "execution_count": 73,
   "metadata": {},
   "outputs": [
    {
     "name": "stdout",
     "output_type": "stream",
     "text": [
      "Una cadena es INMUTABLE\n"
     ]
    },
    {
     "ename": "NameError",
     "evalue": "name 'n' is not defined",
     "output_type": "error",
     "traceback": [
      "\u001b[1;31m---------------------------------------------------------------------------\u001b[0m",
      "\u001b[1;31mNameError\u001b[0m                                 Traceback (most recent call last)",
      "Cell \u001b[1;32mIn[73], line 2\u001b[0m\n\u001b[0;32m      1\u001b[0m \u001b[38;5;28mprint\u001b[39m(\u001b[38;5;124m\"\u001b[39m\u001b[38;5;124mUna cadena es INMUTABLE\u001b[39m\u001b[38;5;124m\"\u001b[39m)\n\u001b[1;32m----> 2\u001b[0m palabra[\u001b[38;5;241m0\u001b[39m] \u001b[38;5;241m=\u001b[39m \u001b[43mn\u001b[49m\n",
      "\u001b[1;31mNameError\u001b[0m: name 'n' is not defined"
     ]
    }
   ],
   "source": [
    "print(\"Una cadena es INMUTABLE\")\n",
    "palabra[0] = n"
   ]
  },
  {
   "cell_type": "code",
   "execution_count": 96,
   "metadata": {},
   "outputs": [
    {
     "name": "stdout",
     "output_type": "stream",
     "text": [
      "Con la otra tecnica se tiene mas libertas por ejemplo...\n",
      "Tomar en cuenta que con cada ejecucion modifica la variable, buen experimento\n"
     ]
    }
   ],
   "source": [
    "print(\"Con la otra tecnica se tiene mas libertas por ejemplo...\")\n",
    "print(\"Tomar en cuenta que con cada ejecucion modifica la variable, buen experimento\")"
   ]
  },
  {
   "cell_type": "code",
   "execution_count": 97,
   "metadata": {},
   "outputs": [
    {
     "data": {
      "text/plain": [
       "'NAython'"
      ]
     },
     "execution_count": 97,
     "metadata": {},
     "output_type": "execute_result"
    }
   ],
   "source": [
    "palabra = \"NA\" + palabra[1:]\n",
    "palabra"
   ]
  },
  {
   "cell_type": "code",
   "execution_count": 98,
   "metadata": {},
   "outputs": [
    {
     "name": "stdout",
     "output_type": "stream",
     "text": [
      "funcion len\n"
     ]
    },
    {
     "data": {
      "text/plain": [
       "7"
      ]
     },
     "execution_count": 98,
     "metadata": {},
     "output_type": "execute_result"
    }
   ],
   "source": [
    "print(\"funcion len\")\n",
    "len(palabra)"
   ]
  },
  {
   "cell_type": "code",
   "execution_count": 100,
   "metadata": {},
   "outputs": [],
   "source": [
    "cadena_corrupta = \"gnivrI\""
   ]
  },
  {
   "cell_type": "code",
   "execution_count": 103,
   "metadata": {},
   "outputs": [
    {
     "data": {
      "text/plain": [
       "'Irving'"
      ]
     },
     "execution_count": 103,
     "metadata": {},
     "output_type": "execute_result"
    }
   ],
   "source": [
    "cadena_volteada = cadena_corrupta[::-1]\n",
    "cadena_volteada"
   ]
  },
  {
   "cell_type": "code",
   "execution_count": 104,
   "metadata": {},
   "outputs": [
    {
     "name": "stdout",
     "output_type": "stream",
     "text": [
      "La tecnia anterior demuestra como voltear una cadena ! \n"
     ]
    }
   ],
   "source": [
    "print(\"La tecnia anterior demuestra como voltear una cadena ! \")"
   ]
  },
  {
   "cell_type": "code",
   "execution_count": null,
   "metadata": {},
   "outputs": [],
   "source": []
  }
 ],
 "metadata": {
  "anaconda-cloud": {},
  "kernelspec": {
   "display_name": "Python 3 (ipykernel)",
   "language": "python",
   "name": "python3"
  },
  "language_info": {
   "codemirror_mode": {
    "name": "ipython",
    "version": 3
   },
   "file_extension": ".py",
   "mimetype": "text/x-python",
   "name": "python",
   "nbconvert_exporter": "python",
   "pygments_lexer": "ipython3",
   "version": "3.11.1"
  }
 },
 "nbformat": 4,
 "nbformat_minor": 1
}
